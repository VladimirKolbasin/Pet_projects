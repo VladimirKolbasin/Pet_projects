{
 "cells": [
  {
   "cell_type": "markdown",
   "metadata": {
    "id": "pxO3HAEKXbaD"
   },
   "source": [
    "# Best offer\n",
    "\n",
    "Описание датасета\n",
    "В данных представлены строки с предложениями продавцов (офферами) по конкретным товарам (одна строка - один оффер). Несколько строк, сгруппированных по товару (item_id) и времени (period), составляют витрину. Продавец, находящийся на первой строке витрины (order = 0) называется победителем (bbwin), остальные считаются проигравшими."
   ]
  },
  {
   "cell_type": "code",
   "execution_count": 1708,
   "metadata": {
    "id": "LX1TF3s4XbaK"
   },
   "outputs": [],
   "source": [
    "import pandas as pd\n",
    "import numpy as np\n",
    "\n",
    "import seaborn as sns\n",
    "import matplotlib.pyplot as plt\n",
    "\n",
    "import warnings\n",
    "\n",
    "warnings.filterwarnings(\"ignore\")"
   ]
  },
  {
   "cell_type": "code",
   "execution_count": 1709,
   "metadata": {
    "colab": {
     "base_uri": "https://localhost:8080/",
     "height": 222
    },
    "id": "rDjGyaytXbaZ",
    "outputId": "0701e262-8277-41d3-d581-aea2a2618055"
   },
   "outputs": [
    {
     "data": {
      "text/html": [
       "<div>\n",
       "<style scoped>\n",
       "    .dataframe tbody tr th:only-of-type {\n",
       "        vertical-align: middle;\n",
       "    }\n",
       "\n",
       "    .dataframe tbody tr th {\n",
       "        vertical-align: top;\n",
       "    }\n",
       "\n",
       "    .dataframe thead th {\n",
       "        text-align: right;\n",
       "    }\n",
       "</style>\n",
       "<table border=\"1\" class=\"dataframe\">\n",
       "  <thead>\n",
       "    <tr style=\"text-align: right;\">\n",
       "      <th></th>\n",
       "      <th>offerId</th>\n",
       "      <th>offerType</th>\n",
       "      <th>availabilityStatus</th>\n",
       "      <th>fulfillmentType</th>\n",
       "      <th>fulfillmentBadge</th>\n",
       "      <th>sellerId</th>\n",
       "      <th>catalogSellerId</th>\n",
       "      <th>sellerName</th>\n",
       "      <th>sellerDisplayName</th>\n",
       "      <th>sellerType</th>\n",
       "      <th>...</th>\n",
       "      <th>maxDeliveryDate</th>\n",
       "      <th>ship_price</th>\n",
       "      <th>unit_price</th>\n",
       "      <th>returnWindow_value</th>\n",
       "      <th>returnWindow_unitType</th>\n",
       "      <th>period</th>\n",
       "      <th>item_id</th>\n",
       "      <th>store</th>\n",
       "      <th>order</th>\n",
       "      <th>reason</th>\n",
       "    </tr>\n",
       "  </thead>\n",
       "  <tbody>\n",
       "    <tr>\n",
       "      <th>0</th>\n",
       "      <td>6345FF23CE7B432BB686569D63EC735A</td>\n",
       "      <td>ONLINE_ONLY</td>\n",
       "      <td>AVAILABLE</td>\n",
       "      <td>FC</td>\n",
       "      <td>2 Days</td>\n",
       "      <td>C10871421F0445B0B8BE17C6FBB1E6F0</td>\n",
       "      <td>2810</td>\n",
       "      <td>Adina's Health &amp; Beauty LLC</td>\n",
       "      <td>Adina's Beauty Shop</td>\n",
       "      <td>EXTERNAL</td>\n",
       "      <td>...</td>\n",
       "      <td>NaN</td>\n",
       "      <td>NaN</td>\n",
       "      <td>0.0</td>\n",
       "      <td>90</td>\n",
       "      <td>Day</td>\n",
       "      <td>2023-01-26 15:43:17</td>\n",
       "      <td>714678523</td>\n",
       "      <td>3520</td>\n",
       "      <td>0</td>\n",
       "      <td>notification</td>\n",
       "    </tr>\n",
       "    <tr>\n",
       "      <th>1</th>\n",
       "      <td>5FB3F5CAE717475598475BCEC095B51B</td>\n",
       "      <td>ONLINE_ONLY</td>\n",
       "      <td>AVAILABLE</td>\n",
       "      <td>FC</td>\n",
       "      <td>2 Days</td>\n",
       "      <td>81DE41429FF94E739203C7941E9EC043</td>\n",
       "      <td>101003670</td>\n",
       "      <td>Ronells LLC</td>\n",
       "      <td>thanks2you</td>\n",
       "      <td>EXTERNAL</td>\n",
       "      <td>...</td>\n",
       "      <td>NaN</td>\n",
       "      <td>NaN</td>\n",
       "      <td>0.0</td>\n",
       "      <td>90</td>\n",
       "      <td>Day</td>\n",
       "      <td>2023-01-26 15:43:17</td>\n",
       "      <td>714678523</td>\n",
       "      <td>3520</td>\n",
       "      <td>1</td>\n",
       "      <td>notification</td>\n",
       "    </tr>\n",
       "    <tr>\n",
       "      <th>2</th>\n",
       "      <td>4028FAF371BD4A29952EF25BDB753BE9</td>\n",
       "      <td>ONLINE_ONLY</td>\n",
       "      <td>AVAILABLE</td>\n",
       "      <td>MARKETPLACE</td>\n",
       "      <td>NaN</td>\n",
       "      <td>7A5A3C87076041B3B4D239962E5EED09</td>\n",
       "      <td>1294</td>\n",
       "      <td>Beauty It Is</td>\n",
       "      <td>Fit &amp; Fab</td>\n",
       "      <td>EXTERNAL</td>\n",
       "      <td>...</td>\n",
       "      <td>NaN</td>\n",
       "      <td>0.0</td>\n",
       "      <td>0.0</td>\n",
       "      <td>30</td>\n",
       "      <td>Day</td>\n",
       "      <td>2023-01-26 15:43:17</td>\n",
       "      <td>714678523</td>\n",
       "      <td>3520</td>\n",
       "      <td>2</td>\n",
       "      <td>notification</td>\n",
       "    </tr>\n",
       "    <tr>\n",
       "      <th>3</th>\n",
       "      <td>6345FF23CE7B432BB686569D63EC735A</td>\n",
       "      <td>ONLINE_ONLY</td>\n",
       "      <td>AVAILABLE</td>\n",
       "      <td>FC</td>\n",
       "      <td>2 Days</td>\n",
       "      <td>C10871421F0445B0B8BE17C6FBB1E6F0</td>\n",
       "      <td>2810</td>\n",
       "      <td>Adina's Health &amp; Beauty LLC</td>\n",
       "      <td>Adina's Beauty Shop</td>\n",
       "      <td>EXTERNAL</td>\n",
       "      <td>...</td>\n",
       "      <td>NaN</td>\n",
       "      <td>NaN</td>\n",
       "      <td>0.0</td>\n",
       "      <td>90</td>\n",
       "      <td>Day</td>\n",
       "      <td>2023-01-26 15:48:22</td>\n",
       "      <td>714678523</td>\n",
       "      <td>3520</td>\n",
       "      <td>0</td>\n",
       "      <td>notification</td>\n",
       "    </tr>\n",
       "    <tr>\n",
       "      <th>4</th>\n",
       "      <td>5FB3F5CAE717475598475BCEC095B51B</td>\n",
       "      <td>ONLINE_ONLY</td>\n",
       "      <td>AVAILABLE</td>\n",
       "      <td>FC</td>\n",
       "      <td>2 Days</td>\n",
       "      <td>81DE41429FF94E739203C7941E9EC043</td>\n",
       "      <td>101003670</td>\n",
       "      <td>Ronells LLC</td>\n",
       "      <td>thanks2you</td>\n",
       "      <td>EXTERNAL</td>\n",
       "      <td>...</td>\n",
       "      <td>NaN</td>\n",
       "      <td>NaN</td>\n",
       "      <td>0.0</td>\n",
       "      <td>90</td>\n",
       "      <td>Day</td>\n",
       "      <td>2023-01-26 15:48:22</td>\n",
       "      <td>714678523</td>\n",
       "      <td>3520</td>\n",
       "      <td>1</td>\n",
       "      <td>notification</td>\n",
       "    </tr>\n",
       "  </tbody>\n",
       "</table>\n",
       "<p>5 rows × 27 columns</p>\n",
       "</div>"
      ],
      "text/plain": [
       "                            offerId    offerType availabilityStatus  \\\n",
       "0  6345FF23CE7B432BB686569D63EC735A  ONLINE_ONLY          AVAILABLE   \n",
       "1  5FB3F5CAE717475598475BCEC095B51B  ONLINE_ONLY          AVAILABLE   \n",
       "2  4028FAF371BD4A29952EF25BDB753BE9  ONLINE_ONLY          AVAILABLE   \n",
       "3  6345FF23CE7B432BB686569D63EC735A  ONLINE_ONLY          AVAILABLE   \n",
       "4  5FB3F5CAE717475598475BCEC095B51B  ONLINE_ONLY          AVAILABLE   \n",
       "\n",
       "  fulfillmentType fulfillmentBadge                          sellerId  \\\n",
       "0              FC           2 Days  C10871421F0445B0B8BE17C6FBB1E6F0   \n",
       "1              FC           2 Days  81DE41429FF94E739203C7941E9EC043   \n",
       "2     MARKETPLACE              NaN  7A5A3C87076041B3B4D239962E5EED09   \n",
       "3              FC           2 Days  C10871421F0445B0B8BE17C6FBB1E6F0   \n",
       "4              FC           2 Days  81DE41429FF94E739203C7941E9EC043   \n",
       "\n",
       "   catalogSellerId                   sellerName    sellerDisplayName  \\\n",
       "0             2810  Adina's Health & Beauty LLC  Adina's Beauty Shop   \n",
       "1        101003670                  Ronells LLC           thanks2you   \n",
       "2             1294                 Beauty It Is            Fit & Fab   \n",
       "3             2810  Adina's Health & Beauty LLC  Adina's Beauty Shop   \n",
       "4        101003670                  Ronells LLC           thanks2you   \n",
       "\n",
       "  sellerType  ...  maxDeliveryDate ship_price  unit_price  returnWindow_value  \\\n",
       "0   EXTERNAL  ...              NaN        NaN         0.0                  90   \n",
       "1   EXTERNAL  ...              NaN        NaN         0.0                  90   \n",
       "2   EXTERNAL  ...              NaN        0.0         0.0                  30   \n",
       "3   EXTERNAL  ...              NaN        NaN         0.0                  90   \n",
       "4   EXTERNAL  ...              NaN        NaN         0.0                  90   \n",
       "\n",
       "   returnWindow_unitType               period    item_id  store  order  \\\n",
       "0                    Day  2023-01-26 15:43:17  714678523   3520      0   \n",
       "1                    Day  2023-01-26 15:43:17  714678523   3520      1   \n",
       "2                    Day  2023-01-26 15:43:17  714678523   3520      2   \n",
       "3                    Day  2023-01-26 15:48:22  714678523   3520      0   \n",
       "4                    Day  2023-01-26 15:48:22  714678523   3520      1   \n",
       "\n",
       "         reason  \n",
       "0  notification  \n",
       "1  notification  \n",
       "2  notification  \n",
       "3  notification  \n",
       "4  notification  \n",
       "\n",
       "[5 rows x 27 columns]"
      ]
     },
     "execution_count": 1709,
     "metadata": {},
     "output_type": "execute_result"
    }
   ],
   "source": [
    "# Load dataset\n",
    "offer = pd.read_csv('offers.tsv', sep=\"\\t\")\n",
    "\n",
    "offer.head(5)"
   ]
  },
  {
   "cell_type": "code",
   "execution_count": 1711,
   "metadata": {},
   "outputs": [
    {
     "data": {
      "text/plain": [
       "offerId                    0.000000\n",
       "offerType                  0.000000\n",
       "availabilityStatus         0.000000\n",
       "fulfillmentType            0.000000\n",
       "fulfillmentBadge          17.983925\n",
       "sellerId                   0.000000\n",
       "catalogSellerId            0.000000\n",
       "sellerName                 0.000000\n",
       "sellerDisplayName          0.000000\n",
       "sellerType                 0.000000\n",
       "wfsEnabled                 0.000000\n",
       "hasSellerBadge             5.793704\n",
       "returnable                 0.000000\n",
       "freeReturns                0.000000\n",
       "price                      0.000000\n",
       "slaTier                    0.000000\n",
       "deliveryDate               0.000000\n",
       "maxDeliveryDate          100.000000\n",
       "ship_price                11.788346\n",
       "unit_price                17.615539\n",
       "returnWindow_value         0.000000\n",
       "returnWindow_unitType      0.000000\n",
       "period                     0.000000\n",
       "item_id                    0.000000\n",
       "store                      0.000000\n",
       "order                      0.000000\n",
       "reason                     0.000000\n",
       "dtype: float64"
      ]
     },
     "execution_count": 1711,
     "metadata": {},
     "output_type": "execute_result"
    }
   ],
   "source": [
    "# посмотрим столбцы на %-т пропущенных данных\n",
    "offer.isna().sum() / offer.shape[0] * 100\n",
    "# maxDeliveryDate можно удалять все данные NA"
   ]
  },
  {
   "cell_type": "code",
   "execution_count": 1712,
   "metadata": {},
   "outputs": [
    {
     "data": {
      "text/html": [
       "<div>\n",
       "<style scoped>\n",
       "    .dataframe tbody tr th:only-of-type {\n",
       "        vertical-align: middle;\n",
       "    }\n",
       "\n",
       "    .dataframe tbody tr th {\n",
       "        vertical-align: top;\n",
       "    }\n",
       "\n",
       "    .dataframe thead th {\n",
       "        text-align: right;\n",
       "    }\n",
       "</style>\n",
       "<table border=\"1\" class=\"dataframe\">\n",
       "  <thead>\n",
       "    <tr style=\"text-align: right;\">\n",
       "      <th></th>\n",
       "      <th>catalogSellerId</th>\n",
       "      <th>price</th>\n",
       "      <th>maxDeliveryDate</th>\n",
       "      <th>ship_price</th>\n",
       "      <th>unit_price</th>\n",
       "      <th>returnWindow_value</th>\n",
       "      <th>item_id</th>\n",
       "      <th>store</th>\n",
       "      <th>order</th>\n",
       "    </tr>\n",
       "  </thead>\n",
       "  <tbody>\n",
       "    <tr>\n",
       "      <th>count</th>\n",
       "      <td>5.972000e+03</td>\n",
       "      <td>5972.000000</td>\n",
       "      <td>0.0</td>\n",
       "      <td>5268.000000</td>\n",
       "      <td>4920.000000</td>\n",
       "      <td>5972.000000</td>\n",
       "      <td>5.972000e+03</td>\n",
       "      <td>5972.0</td>\n",
       "      <td>5972.000000</td>\n",
       "    </tr>\n",
       "    <tr>\n",
       "      <th>mean</th>\n",
       "      <td>3.878383e+07</td>\n",
       "      <td>20.821788</td>\n",
       "      <td>NaN</td>\n",
       "      <td>0.003411</td>\n",
       "      <td>2.348862</td>\n",
       "      <td>82.685867</td>\n",
       "      <td>5.597767e+08</td>\n",
       "      <td>3520.0</td>\n",
       "      <td>0.746818</td>\n",
       "    </tr>\n",
       "    <tr>\n",
       "      <th>std</th>\n",
       "      <td>4.912641e+07</td>\n",
       "      <td>8.809527</td>\n",
       "      <td>NaN</td>\n",
       "      <td>0.142916</td>\n",
       "      <td>8.541057</td>\n",
       "      <td>19.632014</td>\n",
       "      <td>2.799138e+08</td>\n",
       "      <td>0.0</td>\n",
       "      <td>0.839207</td>\n",
       "    </tr>\n",
       "    <tr>\n",
       "      <th>min</th>\n",
       "      <td>0.000000e+00</td>\n",
       "      <td>8.000000</td>\n",
       "      <td>NaN</td>\n",
       "      <td>0.000000</td>\n",
       "      <td>0.000000</td>\n",
       "      <td>30.000000</td>\n",
       "      <td>5.487872e+07</td>\n",
       "      <td>3520.0</td>\n",
       "      <td>0.000000</td>\n",
       "    </tr>\n",
       "    <tr>\n",
       "      <th>25%</th>\n",
       "      <td>2.810000e+03</td>\n",
       "      <td>15.900000</td>\n",
       "      <td>NaN</td>\n",
       "      <td>0.000000</td>\n",
       "      <td>0.000000</td>\n",
       "      <td>90.000000</td>\n",
       "      <td>7.146785e+08</td>\n",
       "      <td>3520.0</td>\n",
       "      <td>0.000000</td>\n",
       "    </tr>\n",
       "    <tr>\n",
       "      <th>50%</th>\n",
       "      <td>4.623000e+03</td>\n",
       "      <td>15.950000</td>\n",
       "      <td>NaN</td>\n",
       "      <td>0.000000</td>\n",
       "      <td>0.000000</td>\n",
       "      <td>90.000000</td>\n",
       "      <td>7.146785e+08</td>\n",
       "      <td>3520.0</td>\n",
       "      <td>1.000000</td>\n",
       "    </tr>\n",
       "    <tr>\n",
       "      <th>75%</th>\n",
       "      <td>1.010037e+08</td>\n",
       "      <td>18.990000</td>\n",
       "      <td>NaN</td>\n",
       "      <td>0.000000</td>\n",
       "      <td>0.000000</td>\n",
       "      <td>90.000000</td>\n",
       "      <td>7.146785e+08</td>\n",
       "      <td>3520.0</td>\n",
       "      <td>1.000000</td>\n",
       "    </tr>\n",
       "    <tr>\n",
       "      <th>max</th>\n",
       "      <td>1.012874e+08</td>\n",
       "      <td>51.310000</td>\n",
       "      <td>NaN</td>\n",
       "      <td>5.990000</td>\n",
       "      <td>33.400000</td>\n",
       "      <td>90.000000</td>\n",
       "      <td>9.087694e+08</td>\n",
       "      <td>3520.0</td>\n",
       "      <td>7.000000</td>\n",
       "    </tr>\n",
       "  </tbody>\n",
       "</table>\n",
       "</div>"
      ],
      "text/plain": [
       "       catalogSellerId        price  maxDeliveryDate   ship_price  \\\n",
       "count     5.972000e+03  5972.000000              0.0  5268.000000   \n",
       "mean      3.878383e+07    20.821788              NaN     0.003411   \n",
       "std       4.912641e+07     8.809527              NaN     0.142916   \n",
       "min       0.000000e+00     8.000000              NaN     0.000000   \n",
       "25%       2.810000e+03    15.900000              NaN     0.000000   \n",
       "50%       4.623000e+03    15.950000              NaN     0.000000   \n",
       "75%       1.010037e+08    18.990000              NaN     0.000000   \n",
       "max       1.012874e+08    51.310000              NaN     5.990000   \n",
       "\n",
       "        unit_price  returnWindow_value       item_id   store        order  \n",
       "count  4920.000000         5972.000000  5.972000e+03  5972.0  5972.000000  \n",
       "mean      2.348862           82.685867  5.597767e+08  3520.0     0.746818  \n",
       "std       8.541057           19.632014  2.799138e+08     0.0     0.839207  \n",
       "min       0.000000           30.000000  5.487872e+07  3520.0     0.000000  \n",
       "25%       0.000000           90.000000  7.146785e+08  3520.0     0.000000  \n",
       "50%       0.000000           90.000000  7.146785e+08  3520.0     1.000000  \n",
       "75%       0.000000           90.000000  7.146785e+08  3520.0     1.000000  \n",
       "max      33.400000           90.000000  9.087694e+08  3520.0     7.000000  "
      ]
     },
     "execution_count": 1712,
     "metadata": {},
     "output_type": "execute_result"
    }
   ],
   "source": [
    "offer.describe()"
   ]
  },
  {
   "cell_type": "code",
   "execution_count": 1713,
   "metadata": {},
   "outputs": [
    {
     "data": {
      "text/html": [
       "<div>\n",
       "<style scoped>\n",
       "    .dataframe tbody tr th:only-of-type {\n",
       "        vertical-align: middle;\n",
       "    }\n",
       "\n",
       "    .dataframe tbody tr th {\n",
       "        vertical-align: top;\n",
       "    }\n",
       "\n",
       "    .dataframe thead th {\n",
       "        text-align: right;\n",
       "    }\n",
       "</style>\n",
       "<table border=\"1\" class=\"dataframe\">\n",
       "  <thead>\n",
       "    <tr style=\"text-align: right;\">\n",
       "      <th></th>\n",
       "      <th>offerId</th>\n",
       "      <th>offerType</th>\n",
       "      <th>availabilityStatus</th>\n",
       "      <th>fulfillmentType</th>\n",
       "      <th>fulfillmentBadge</th>\n",
       "      <th>sellerId</th>\n",
       "      <th>sellerName</th>\n",
       "      <th>sellerDisplayName</th>\n",
       "      <th>sellerType</th>\n",
       "      <th>hasSellerBadge</th>\n",
       "      <th>slaTier</th>\n",
       "      <th>deliveryDate</th>\n",
       "      <th>returnWindow_unitType</th>\n",
       "      <th>period</th>\n",
       "      <th>reason</th>\n",
       "    </tr>\n",
       "  </thead>\n",
       "  <tbody>\n",
       "    <tr>\n",
       "      <th>count</th>\n",
       "      <td>5972</td>\n",
       "      <td>5972</td>\n",
       "      <td>5972</td>\n",
       "      <td>5972</td>\n",
       "      <td>4898</td>\n",
       "      <td>5972</td>\n",
       "      <td>5972</td>\n",
       "      <td>5972</td>\n",
       "      <td>5972</td>\n",
       "      <td>5626</td>\n",
       "      <td>5972</td>\n",
       "      <td>5972</td>\n",
       "      <td>5972</td>\n",
       "      <td>5972</td>\n",
       "      <td>5972</td>\n",
       "    </tr>\n",
       "    <tr>\n",
       "      <th>unique</th>\n",
       "      <td>20</td>\n",
       "      <td>1</td>\n",
       "      <td>1</td>\n",
       "      <td>2</td>\n",
       "      <td>1</td>\n",
       "      <td>15</td>\n",
       "      <td>15</td>\n",
       "      <td>15</td>\n",
       "      <td>2</td>\n",
       "      <td>2</td>\n",
       "      <td>2</td>\n",
       "      <td>13</td>\n",
       "      <td>1</td>\n",
       "      <td>2625</td>\n",
       "      <td>3</td>\n",
       "    </tr>\n",
       "    <tr>\n",
       "      <th>top</th>\n",
       "      <td>6345FF23CE7B432BB686569D63EC735A</td>\n",
       "      <td>ONLINE_ONLY</td>\n",
       "      <td>AVAILABLE</td>\n",
       "      <td>FC</td>\n",
       "      <td>2 Days</td>\n",
       "      <td>C10871421F0445B0B8BE17C6FBB1E6F0</td>\n",
       "      <td>Adina's Health &amp; Beauty LLC</td>\n",
       "      <td>Adina's Beauty Shop</td>\n",
       "      <td>EXTERNAL</td>\n",
       "      <td>False</td>\n",
       "      <td>TWO_DAY</td>\n",
       "      <td>2023-01-31</td>\n",
       "      <td>Day</td>\n",
       "      <td>2023-02-03 09:37:10</td>\n",
       "      <td>notification</td>\n",
       "    </tr>\n",
       "    <tr>\n",
       "      <th>freq</th>\n",
       "      <td>2276</td>\n",
       "      <td>5972</td>\n",
       "      <td>5972</td>\n",
       "      <td>5244</td>\n",
       "      <td>4898</td>\n",
       "      <td>2622</td>\n",
       "      <td>2622</td>\n",
       "      <td>2622</td>\n",
       "      <td>5626</td>\n",
       "      <td>3343</td>\n",
       "      <td>4898</td>\n",
       "      <td>2824</td>\n",
       "      <td>5972</td>\n",
       "      <td>8</td>\n",
       "      <td>3944</td>\n",
       "    </tr>\n",
       "  </tbody>\n",
       "</table>\n",
       "</div>"
      ],
      "text/plain": [
       "                                 offerId    offerType availabilityStatus  \\\n",
       "count                               5972         5972               5972   \n",
       "unique                                20            1                  1   \n",
       "top     6345FF23CE7B432BB686569D63EC735A  ONLINE_ONLY          AVAILABLE   \n",
       "freq                                2276         5972               5972   \n",
       "\n",
       "       fulfillmentType fulfillmentBadge                          sellerId  \\\n",
       "count             5972             4898                              5972   \n",
       "unique               2                1                                15   \n",
       "top                 FC           2 Days  C10871421F0445B0B8BE17C6FBB1E6F0   \n",
       "freq              5244             4898                              2622   \n",
       "\n",
       "                         sellerName    sellerDisplayName sellerType  \\\n",
       "count                          5972                 5972       5972   \n",
       "unique                           15                   15          2   \n",
       "top     Adina's Health & Beauty LLC  Adina's Beauty Shop   EXTERNAL   \n",
       "freq                           2622                 2622       5626   \n",
       "\n",
       "       hasSellerBadge  slaTier deliveryDate returnWindow_unitType  \\\n",
       "count            5626     5972         5972                  5972   \n",
       "unique              2        2           13                     1   \n",
       "top             False  TWO_DAY   2023-01-31                   Day   \n",
       "freq             3343     4898         2824                  5972   \n",
       "\n",
       "                     period        reason  \n",
       "count                  5972          5972  \n",
       "unique                 2625             3  \n",
       "top     2023-02-03 09:37:10  notification  \n",
       "freq                      8          3944  "
      ]
     },
     "execution_count": 1713,
     "metadata": {},
     "output_type": "execute_result"
    }
   ],
   "source": [
    "offer.describe(include='object')\n",
    "# offerType единственный вид ONLINE_ONLY поэтому удаляем\n",
    "# availabilityStatus единственный вид AVAILABLE поэтому удаляем\n",
    "# sellerName, sellerId, catalogSellerId удаляем пока оставляем sellerDisplayName\n",
    "# returnWindow_unitType единственный вид Day поэтому удаляем\n",
    "# store одна локация\n",
    "# unit_price указана только у Walmart.com, но повторяет значение price - удаляем"
   ]
  },
  {
   "cell_type": "code",
   "execution_count": 1714,
   "metadata": {},
   "outputs": [
    {
     "data": {
      "text/plain": [
       "5972"
      ]
     },
     "execution_count": 1714,
     "metadata": {},
     "output_type": "execute_result"
    }
   ],
   "source": [
    "offer.freeReturns.sum()\n",
    "# freeReturns одинаковое значения удаляем"
   ]
  },
  {
   "cell_type": "code",
   "execution_count": 1715,
   "metadata": {},
   "outputs": [
    {
     "data": {
      "text/plain": [
       "5972"
      ]
     },
     "execution_count": 1715,
     "metadata": {},
     "output_type": "execute_result"
    }
   ],
   "source": [
    "offer.returnable.sum()\n",
    "# returnable одинаковое значения удаляем"
   ]
  },
  {
   "cell_type": "code",
   "execution_count": 2335,
   "metadata": {},
   "outputs": [],
   "source": [
    "# очищаем датасет\n",
    "offer_cl = offer.drop(['maxDeliveryDate', 'offerId', 'offerType', 'availabilityStatus', 'store', 'unit_price', 'returnable',\n",
    "                       'sellerName', 'sellerId','returnWindow_unitType', 'freeReturns', 'catalogSellerId'], axis=1)"
   ]
  },
  {
   "cell_type": "code",
   "execution_count": 2336,
   "metadata": {},
   "outputs": [],
   "source": [
    "# сортировка для выделения витрин\n",
    "offer_cl = offer_cl.sort_values(['item_id', 'period', 'order'])"
   ]
  },
  {
   "cell_type": "code",
   "execution_count": 2337,
   "metadata": {},
   "outputs": [
    {
     "data": {
      "text/html": [
       "<div>\n",
       "<style scoped>\n",
       "    .dataframe tbody tr th:only-of-type {\n",
       "        vertical-align: middle;\n",
       "    }\n",
       "\n",
       "    .dataframe tbody tr th {\n",
       "        vertical-align: top;\n",
       "    }\n",
       "\n",
       "    .dataframe thead th {\n",
       "        text-align: right;\n",
       "    }\n",
       "</style>\n",
       "<table border=\"1\" class=\"dataframe\">\n",
       "  <thead>\n",
       "    <tr style=\"text-align: right;\">\n",
       "      <th></th>\n",
       "      <th>fulfillmentType</th>\n",
       "      <th>fulfillmentBadge</th>\n",
       "      <th>sellerDisplayName</th>\n",
       "      <th>sellerType</th>\n",
       "      <th>wfsEnabled</th>\n",
       "      <th>hasSellerBadge</th>\n",
       "      <th>price</th>\n",
       "      <th>slaTier</th>\n",
       "      <th>deliveryDate</th>\n",
       "      <th>ship_price</th>\n",
       "      <th>returnWindow_value</th>\n",
       "      <th>period</th>\n",
       "      <th>item_id</th>\n",
       "      <th>order</th>\n",
       "      <th>reason</th>\n",
       "    </tr>\n",
       "  </thead>\n",
       "  <tbody>\n",
       "    <tr>\n",
       "      <th>2998</th>\n",
       "      <td>MARKETPLACE</td>\n",
       "      <td>NaN</td>\n",
       "      <td>Maison Rouge</td>\n",
       "      <td>EXTERNAL</td>\n",
       "      <td>False</td>\n",
       "      <td>False</td>\n",
       "      <td>29.78</td>\n",
       "      <td>THREE_TO_FIVE_DAY</td>\n",
       "      <td>2023-02-02</td>\n",
       "      <td>0.0</td>\n",
       "      <td>30</td>\n",
       "      <td>2023-01-30 07:23:17</td>\n",
       "      <td>54878715</td>\n",
       "      <td>0</td>\n",
       "      <td>notification</td>\n",
       "    </tr>\n",
       "    <tr>\n",
       "      <th>2999</th>\n",
       "      <td>FC</td>\n",
       "      <td>2 Days</td>\n",
       "      <td>Adina's Beauty Shop</td>\n",
       "      <td>EXTERNAL</td>\n",
       "      <td>True</td>\n",
       "      <td>False</td>\n",
       "      <td>37.00</td>\n",
       "      <td>TWO_DAY</td>\n",
       "      <td>2023-02-01</td>\n",
       "      <td>NaN</td>\n",
       "      <td>90</td>\n",
       "      <td>2023-01-30 07:23:17</td>\n",
       "      <td>54878715</td>\n",
       "      <td>1</td>\n",
       "      <td>notification</td>\n",
       "    </tr>\n",
       "    <tr>\n",
       "      <th>3000</th>\n",
       "      <td>FC</td>\n",
       "      <td>NaN</td>\n",
       "      <td>Walmart.com</td>\n",
       "      <td>INTERNAL</td>\n",
       "      <td>False</td>\n",
       "      <td>NaN</td>\n",
       "      <td>33.40</td>\n",
       "      <td>THREE_TO_FIVE_DAY</td>\n",
       "      <td>2023-02-02</td>\n",
       "      <td>NaN</td>\n",
       "      <td>90</td>\n",
       "      <td>2023-01-30 07:23:17</td>\n",
       "      <td>54878715</td>\n",
       "      <td>2</td>\n",
       "      <td>notification</td>\n",
       "    </tr>\n",
       "    <tr>\n",
       "      <th>3001</th>\n",
       "      <td>MARKETPLACE</td>\n",
       "      <td>NaN</td>\n",
       "      <td>SS-BEAUTY</td>\n",
       "      <td>EXTERNAL</td>\n",
       "      <td>False</td>\n",
       "      <td>False</td>\n",
       "      <td>44.23</td>\n",
       "      <td>THREE_TO_FIVE_DAY</td>\n",
       "      <td>2023-02-06</td>\n",
       "      <td>0.0</td>\n",
       "      <td>30</td>\n",
       "      <td>2023-01-30 07:23:17</td>\n",
       "      <td>54878715</td>\n",
       "      <td>3</td>\n",
       "      <td>notification</td>\n",
       "    </tr>\n",
       "    <tr>\n",
       "      <th>3002</th>\n",
       "      <td>MARKETPLACE</td>\n",
       "      <td>NaN</td>\n",
       "      <td>Maison Rouge</td>\n",
       "      <td>EXTERNAL</td>\n",
       "      <td>False</td>\n",
       "      <td>False</td>\n",
       "      <td>29.78</td>\n",
       "      <td>THREE_TO_FIVE_DAY</td>\n",
       "      <td>2023-02-02</td>\n",
       "      <td>0.0</td>\n",
       "      <td>30</td>\n",
       "      <td>2023-01-30 07:23:27</td>\n",
       "      <td>54878715</td>\n",
       "      <td>0</td>\n",
       "      <td>check</td>\n",
       "    </tr>\n",
       "  </tbody>\n",
       "</table>\n",
       "</div>"
      ],
      "text/plain": [
       "     fulfillmentType fulfillmentBadge    sellerDisplayName sellerType  \\\n",
       "2998     MARKETPLACE              NaN         Maison Rouge   EXTERNAL   \n",
       "2999              FC           2 Days  Adina's Beauty Shop   EXTERNAL   \n",
       "3000              FC              NaN          Walmart.com   INTERNAL   \n",
       "3001     MARKETPLACE              NaN            SS-BEAUTY   EXTERNAL   \n",
       "3002     MARKETPLACE              NaN         Maison Rouge   EXTERNAL   \n",
       "\n",
       "      wfsEnabled hasSellerBadge  price            slaTier deliveryDate  \\\n",
       "2998       False          False  29.78  THREE_TO_FIVE_DAY   2023-02-02   \n",
       "2999        True          False  37.00            TWO_DAY   2023-02-01   \n",
       "3000       False            NaN  33.40  THREE_TO_FIVE_DAY   2023-02-02   \n",
       "3001       False          False  44.23  THREE_TO_FIVE_DAY   2023-02-06   \n",
       "3002       False          False  29.78  THREE_TO_FIVE_DAY   2023-02-02   \n",
       "\n",
       "      ship_price  returnWindow_value               period   item_id  order  \\\n",
       "2998         0.0                  30  2023-01-30 07:23:17  54878715      0   \n",
       "2999         NaN                  90  2023-01-30 07:23:17  54878715      1   \n",
       "3000         NaN                  90  2023-01-30 07:23:17  54878715      2   \n",
       "3001         0.0                  30  2023-01-30 07:23:17  54878715      3   \n",
       "3002         0.0                  30  2023-01-30 07:23:27  54878715      0   \n",
       "\n",
       "            reason  \n",
       "2998  notification  \n",
       "2999  notification  \n",
       "3000  notification  \n",
       "3001  notification  \n",
       "3002         check  "
      ]
     },
     "execution_count": 2337,
     "metadata": {},
     "output_type": "execute_result"
    }
   ],
   "source": [
    "offer_cl.head(5)"
   ]
  },
  {
   "cell_type": "code",
   "execution_count": 2338,
   "metadata": {},
   "outputs": [],
   "source": [
    "# reason повторяется для всех рангов order удаляем\n",
    "offer_cl = offer_cl.drop(['reason'], axis=1)\n",
    "\n",
    "# Сгенерируем признак - вычислим количество дней доставки\n",
    "offer_cl['deliveryDays'] = (pd.to_datetime(offer_cl.deliveryDate) - pd.to_datetime(offer_cl.period)).dt.days\n",
    "\n",
    "# после этого можно удалять deliveryDate, которая взаимосвязана с deliveryDays\n",
    "offer_cl = offer_cl.drop(['deliveryDate'], axis=1)\n",
    "\n",
    "# fulfillmentBadge заполним NaN - 'unknown'\n",
    "offer_cl.fulfillmentBadge = offer_cl.fulfillmentBadge.fillna('unknown')\n",
    "\n",
    "# hasSellerBadge заполним NaN - 'unknown'\n",
    "offer_cl.hasSellerBadge = offer_cl.hasSellerBadge.fillna('unknown')"
   ]
  },
  {
   "cell_type": "code",
   "execution_count": 1758,
   "metadata": {},
   "outputs": [
    {
     "data": {
      "text/plain": [
       "722"
      ]
     },
     "execution_count": 1758,
     "metadata": {},
     "output_type": "execute_result"
    }
   ],
   "source": [
    "#из 5972 строк 722 имеют ранг больше 2. Ранговые модели будем строить по 2 вариантам:\n",
    "# 1) по order по всем рангам\n",
    "# 2) по win 0 релевантное событие, 1 нерелевантное\n",
    "\n",
    "# Созадим еще 1 целевой столбец победа = 0, остальные ранги 0\n",
    "offer_cl['win'] = (offer_cl.order >= 1).astype(int)\n",
    "\n",
    "sum(offer_cl.order > 1)"
   ]
  },
  {
   "cell_type": "code",
   "execution_count": null,
   "metadata": {},
   "outputs": [],
   "source": []
  },
  {
   "cell_type": "markdown",
   "metadata": {},
   "source": [
    "# Посмотрим оставшиеся признаки на графиках"
   ]
  },
  {
   "cell_type": "code",
   "execution_count": 2340,
   "metadata": {
    "colab": {
     "base_uri": "https://localhost:8080/",
     "height": 312
    },
    "id": "px7EgsvuEgNf",
    "outputId": "5f197ee6-b660-4a19-8d4d-7507458105fd"
   },
   "outputs": [
    {
     "data": {
      "text/plain": [
       "Text(0.5, 1.0, 'Count of fulfillmentType by win')"
      ]
     },
     "execution_count": 2340,
     "metadata": {},
     "output_type": "execute_result"
    },
    {
     "data": {
      "image/png": "[encoded data removed]",
      "text/plain": [
       "<Figure size 640x480 with 1 Axes>"
      ]
     },
     "metadata": {},
     "output_type": "display_data"
    }
   ],
   "source": [
    "sns.countplot(data=offer_cl, x=\"fulfillmentType\", hue=\"win\")\n",
    "plt.title(\"Count of fulfillmentType by win\", size=12)"
   ]
  },
  {
   "cell_type": "markdown",
   "metadata": {
    "id": "Y7C79NWfEgNf"
   },
   "source": [
    "Продавцы, которое в Marketplace чаще проиграют - оставим feature для модели"
   ]
  },
  {
   "cell_type": "code",
   "execution_count": 1730,
   "metadata": {
    "colab": {
     "base_uri": "https://localhost:8080/",
     "height": 312
    },
    "id": "E4U-QBqHEgNg",
    "outputId": "5263e8e5-558a-4b3c-ba2e-c121c218b73f"
   },
   "outputs": [
    {
     "data": {
      "text/plain": [
       "Text(0.5, 1.0, 'Count of fulfillmentBadge by win')"
      ]
     },
     "execution_count": 1730,
     "metadata": {},
     "output_type": "execute_result"
    },
    {
     "data": {
      "image/png": "[encoded data removed]",
      "text/plain": [
       "<Figure size 640x480 with 1 Axes>"
      ]
     },
     "metadata": {},
     "output_type": "display_data"
    }
   ],
   "source": [
    "sns.countplot(data=offer_cl, x=\"fulfillmentBadge\", hue=\"win\")\n",
    "plt.title(\"Count of fulfillmentBadge by win\", size=12)"
   ]
  },
  {
   "cell_type": "markdown",
   "metadata": {
    "id": "dhojmBtHEgNg"
   },
   "source": [
    "Для fulfillmentBadge, которые unknown чаще проигравает - оставим feature для модели"
   ]
  },
  {
   "cell_type": "code",
   "execution_count": 1731,
   "metadata": {
    "colab": {
     "base_uri": "https://localhost:8080/",
     "height": 312
    },
    "id": "H4KqtEDgEgNh",
    "outputId": "73681a1f-0c2e-45c8-d36e-7679651f046f"
   },
   "outputs": [
    {
     "data": {
      "text/plain": [
       "Text(0.5, 1.0, 'Count of sellerDisplayName by win')"
      ]
     },
     "execution_count": 1731,
     "metadata": {},
     "output_type": "execute_result"
    },
    {
     "data": {
      "image/png": "[encoded data removed]",
      "text/plain": [
       "<Figure size 640x480 with 1 Axes>"
      ]
     },
     "metadata": {},
     "output_type": "display_data"
    }
   ],
   "source": [
    "sns.countplot(data=offer_cl, y=\"sellerDisplayName\", hue=\"win\")\n",
    "plt.title(\"Count of sellerDisplayName by win\", size=12)"
   ]
  },
  {
   "cell_type": "markdown",
   "metadata": {
    "id": "ASpSPwLsEgNh"
   },
   "source": [
    "В Датасете есть: Топ 3 магазинов, которые выигрывают чаще всего:\n",
    "1) Adina's Beauty Shop, \n",
    "2) thaks2you (но по многим позициям он проигрывает)\n",
    "3) Maison Rouge"
   ]
  },
  {
   "cell_type": "code",
   "execution_count": 2341,
   "metadata": {},
   "outputs": [],
   "source": [
    "# выберем магазин с самым большим ассортиментом и создадим признак\n",
    "offer_cl['top_seller'] = offer_cl.groupby(\"sellerDisplayName\")['win'].count().sort_values(ascending=False).index[0]\n",
    "offer_cl['top_sellerMark'] = (offer_cl['top_seller'] == offer_cl[\"sellerDisplayName\"]).astype(int)\n",
    "offer_cl = offer_cl.drop(['top_seller'], axis=1)"
   ]
  },
  {
   "cell_type": "code",
   "execution_count": 1733,
   "metadata": {
    "colab": {
     "base_uri": "https://localhost:8080/",
     "height": 312
    },
    "id": "9GfvPzmFEgNi",
    "outputId": "947af0f7-06fc-4c7f-e2d2-2757da8d97c1"
   },
   "outputs": [
    {
     "data": {
      "text/plain": [
       "Text(0.5, 1.0, 'Count of sellerType by win')"
      ]
     },
     "execution_count": 1733,
     "metadata": {},
     "output_type": "execute_result"
    },
    {
     "data": {
      "image/png": "[encoded data removed]",
      "text/plain": [
       "<Figure size 640x480 with 1 Axes>"
      ]
     },
     "metadata": {},
     "output_type": "display_data"
    }
   ],
   "source": [
    "sns.countplot(data=offer_cl, x=\"sellerType\", hue=\"win\")\n",
    "plt.title(\"Count of sellerType by win\", size=12)"
   ]
  },
  {
   "cell_type": "markdown",
   "metadata": {
    "id": "xqWLNJmyEgNi"
   },
   "source": [
    "Для вида Internal (это Wallmart) по размещенным предложениям он проигрывают"
   ]
  },
  {
   "cell_type": "code",
   "execution_count": 200,
   "metadata": {
    "colab": {
     "base_uri": "https://localhost:8080/",
     "height": 312
    },
    "id": "z8rpfec-EgNj",
    "outputId": "cdd75e76-f7ae-42c5-b122-4983af50d649"
   },
   "outputs": [
    {
     "data": {
      "text/plain": [
       "Text(0.5, 1.0, 'Count of wfsEnabled by win')"
      ]
     },
     "execution_count": 200,
     "metadata": {},
     "output_type": "execute_result"
    },
    {
     "data": {
      "image/png": "[encoded data removed]",
      "text/plain": [
       "<Figure size 432x288 with 1 Axes>"
      ]
     },
     "metadata": {
      "needs_background": "light"
     },
     "output_type": "display_data"
    }
   ],
   "source": [
    "sns.countplot(data=offer_cl, x=\"wfsEnabled\", hue=\"win\")\n",
    "plt.title(\"Count of wfsEnabled by win\", size=12)"
   ]
  },
  {
   "cell_type": "markdown",
   "metadata": {},
   "source": [
    "Статус wfsEnabled, когда False чаще проигрывает в витринах - оставим feature для модели"
   ]
  },
  {
   "cell_type": "code",
   "execution_count": 201,
   "metadata": {},
   "outputs": [
    {
     "data": {
      "text/plain": [
       "Text(0.5, 1.0, 'Count of hasSellerBadge by win')"
      ]
     },
     "execution_count": 201,
     "metadata": {},
     "output_type": "execute_result"
    },
    {
     "data": {
      "image/png": "[encoded data removed]",
      "text/plain": [
       "<Figure size 432x288 with 1 Axes>"
      ]
     },
     "metadata": {
      "needs_background": "light"
     },
     "output_type": "display_data"
    }
   ],
   "source": [
    "sns.countplot(data=offer_cl, x=\"hasSellerBadge\", hue=\"win\")\n",
    "plt.title(\"Count of hasSellerBadge by win\", size=12)"
   ]
  },
  {
   "cell_type": "markdown",
   "metadata": {},
   "source": [
    "Статус hasSellerBadge равный True и unknown чаще проигрывают в витринах - оставим feature для модели"
   ]
  },
  {
   "cell_type": "code",
   "execution_count": 202,
   "metadata": {},
   "outputs": [
    {
     "data": {
      "text/plain": [
       "Text(0.5, 1.0, 'Count of slaTier by win')"
      ]
     },
     "execution_count": 202,
     "metadata": {},
     "output_type": "execute_result"
    },
    {
     "data": {
      "image/png": "[encoded data removed]",
      "text/plain": [
       "<Figure size 432x288 with 1 Axes>"
      ]
     },
     "metadata": {
      "needs_background": "light"
     },
     "output_type": "display_data"
    }
   ],
   "source": [
    "# При сроке достакви THREE_TO_FIVE_DAY чаще проигрывают в витринах (срок доставки влияет на покупку) - остави\n",
    "# feature для модели\n",
    "sns.countplot(data=offer_cl, x=\"slaTier\", hue=\"win\")\n",
    "plt.title(\"Count of slaTier by win\", size=12)"
   ]
  },
  {
   "cell_type": "code",
   "execution_count": 203,
   "metadata": {},
   "outputs": [
    {
     "data": {
      "text/plain": [
       "Text(0.5, 1.0, 'Count of deliveryDays by win')"
      ]
     },
     "execution_count": 203,
     "metadata": {},
     "output_type": "execute_result"
    },
    {
     "data": {
      "image/png": "[encoded data removed]",
      "text/plain": [
       "<Figure size 432x288 with 1 Axes>"
      ]
     },
     "metadata": {
      "needs_background": "light"
     },
     "output_type": "display_data"
    }
   ],
   "source": [
    "# Если срок доставки был больше 4 дней, всегда был выбор в пользу другого продавца. Самые частый срок доставки 1,2 дня - оставим\n",
    "# feature для модели\n",
    "sns.countplot(data=offer_cl, y=\"deliveryDays\", hue=\"win\")\n",
    "plt.title(\"Count of deliveryDays by win\", size=12)"
   ]
  },
  {
   "cell_type": "code",
   "execution_count": 204,
   "metadata": {},
   "outputs": [
    {
     "data": {
      "text/plain": [
       "Text(0.5, 1.0, 'Count of returnWindow_value by win')"
      ]
     },
     "execution_count": 204,
     "metadata": {},
     "output_type": "execute_result"
    },
    {
     "data": {
      "image/png": "[encoded data removed]",
      "text/plain": [
       "<Figure size 432x288 with 1 Axes>"
      ]
     },
     "metadata": {
      "needs_background": "light"
     },
     "output_type": "display_data"
    }
   ],
   "source": [
    "# Побеждает чаще предложение с более длинным сроком возврата - оставим feature для модели\n",
    "sns.countplot(data=offer_cl, x=\"returnWindow_value\", hue=\"win\")\n",
    "plt.title(\"Count of returnWindow_value by win\", size=12)"
   ]
  },
  {
   "cell_type": "code",
   "execution_count": 2342,
   "metadata": {},
   "outputs": [],
   "source": [
    "# создадим признак цена с учетом доставки FullPrice\n",
    "offer_cl['ship_price'] = offer_cl.ship_price.fillna(0)\n",
    "offer_cl['FullPrice'] = offer_cl.price + offer_cl.ship_price\n",
    "\n",
    "# для модели цены возьмем в сравнении с лучшей ценой витрины (FullPrice / FullPrice (по минимальной цене в витрине) - 1)\n",
    "offer_cl['MinPrice'] = offer_cl.groupby(['item_id', 'period'])['FullPrice'].transform('min')\n",
    "offer_cl['AddPrice'] = np.round(offer_cl.FullPrice / offer_cl.MinPrice, 3) - 1\n",
    "offer_cl = offer_cl.drop(['MinPrice'], axis=1)\n",
    "\n",
    "# удалим sellerType ship_price\n",
    "offer_cl = offer_cl.drop(['sellerType', 'ship_price'], axis=1)"
   ]
  },
  {
   "cell_type": "code",
   "execution_count": 2343,
   "metadata": {},
   "outputs": [],
   "source": [
    "# fulfillmentType заменим FC 0 и MARKETPLACE 1\n",
    "offer_cl.fulfillmentType.replace({\"FC\":0, \"MARKETPLACE\":1}, inplace=True)\n",
    "\n",
    "# fulfillmentBadge заменим 2 Days 0 и unknown 1\n",
    "offer_cl.fulfillmentBadge.replace({\"2 Days\":0, \"unknown\":1}, inplace=True)\n",
    "\n",
    "# преобразуем в 0 и 1 место False и True \n",
    "offer_cl['wfsEnabled'] = offer_cl.wfsEnabled.astype(int)\n",
    "\n",
    "# hasSellerBadge заменим False 0, True 1, unknown 2\n",
    "offer_cl.hasSellerBadge.replace({False:0, True:1, \"unknown\":2}, inplace=True)\n",
    "\n",
    "# slaTier заменим TWO_DAY и THREE_TO_FIVE_DAY 1\n",
    "offer_cl.slaTier.replace({\"TWO_DAY\":0, \"THREE_TO_FIVE_DAY\":1}, inplace=True)"
   ]
  },
  {
   "cell_type": "code",
   "execution_count": 2344,
   "metadata": {},
   "outputs": [],
   "source": [
    "# создадим признак лучшего срока доставки в витрине\n",
    "offer_cl['MinDeliveryDays'] = offer_cl.groupby(['item_id', 'period'])['deliveryDays'].transform('min')\n",
    "offer_cl['MinDeliveryDaysMark'] = (offer_cl.MinDeliveryDays == offer_cl.deliveryDays).astype(int)\n",
    "offer_cl = offer_cl.drop(['MinDeliveryDays'], axis=1)"
   ]
  },
  {
   "cell_type": "code",
   "execution_count": 2541,
   "metadata": {},
   "outputs": [
    {
     "data": {
      "text/html": [
       "<div>\n",
       "<style scoped>\n",
       "    .dataframe tbody tr th:only-of-type {\n",
       "        vertical-align: middle;\n",
       "    }\n",
       "\n",
       "    .dataframe tbody tr th {\n",
       "        vertical-align: top;\n",
       "    }\n",
       "\n",
       "    .dataframe thead th {\n",
       "        text-align: right;\n",
       "    }\n",
       "</style>\n",
       "<table border=\"1\" class=\"dataframe\">\n",
       "  <thead>\n",
       "    <tr style=\"text-align: right;\">\n",
       "      <th></th>\n",
       "      <th>fulfillmentType</th>\n",
       "      <th>fulfillmentBadge</th>\n",
       "      <th>sellerDisplayName</th>\n",
       "      <th>wfsEnabled</th>\n",
       "      <th>hasSellerBadge</th>\n",
       "      <th>price</th>\n",
       "      <th>slaTier</th>\n",
       "      <th>returnWindow_value</th>\n",
       "      <th>period</th>\n",
       "      <th>item_id</th>\n",
       "      <th>order</th>\n",
       "      <th>deliveryDays</th>\n",
       "      <th>win</th>\n",
       "      <th>top_sellerMark</th>\n",
       "      <th>FullPrice</th>\n",
       "      <th>AddPrice</th>\n",
       "      <th>MinDeliveryDaysMark</th>\n",
       "    </tr>\n",
       "  </thead>\n",
       "  <tbody>\n",
       "    <tr>\n",
       "      <th>2998</th>\n",
       "      <td>1</td>\n",
       "      <td>1</td>\n",
       "      <td>Maison Rouge</td>\n",
       "      <td>0</td>\n",
       "      <td>0</td>\n",
       "      <td>29.78</td>\n",
       "      <td>1</td>\n",
       "      <td>30</td>\n",
       "      <td>2023-01-30 07:23:17</td>\n",
       "      <td>54878715</td>\n",
       "      <td>0</td>\n",
       "      <td>2</td>\n",
       "      <td>0</td>\n",
       "      <td>0</td>\n",
       "      <td>29.78</td>\n",
       "      <td>0.000</td>\n",
       "      <td>0</td>\n",
       "    </tr>\n",
       "    <tr>\n",
       "      <th>2999</th>\n",
       "      <td>0</td>\n",
       "      <td>0</td>\n",
       "      <td>Adina's Beauty Shop</td>\n",
       "      <td>1</td>\n",
       "      <td>0</td>\n",
       "      <td>37.00</td>\n",
       "      <td>0</td>\n",
       "      <td>90</td>\n",
       "      <td>2023-01-30 07:23:17</td>\n",
       "      <td>54878715</td>\n",
       "      <td>1</td>\n",
       "      <td>1</td>\n",
       "      <td>1</td>\n",
       "      <td>1</td>\n",
       "      <td>37.00</td>\n",
       "      <td>0.242</td>\n",
       "      <td>1</td>\n",
       "    </tr>\n",
       "    <tr>\n",
       "      <th>3000</th>\n",
       "      <td>0</td>\n",
       "      <td>1</td>\n",
       "      <td>Walmart.com</td>\n",
       "      <td>0</td>\n",
       "      <td>2</td>\n",
       "      <td>33.40</td>\n",
       "      <td>1</td>\n",
       "      <td>90</td>\n",
       "      <td>2023-01-30 07:23:17</td>\n",
       "      <td>54878715</td>\n",
       "      <td>2</td>\n",
       "      <td>2</td>\n",
       "      <td>1</td>\n",
       "      <td>0</td>\n",
       "      <td>33.40</td>\n",
       "      <td>0.122</td>\n",
       "      <td>0</td>\n",
       "    </tr>\n",
       "    <tr>\n",
       "      <th>3001</th>\n",
       "      <td>1</td>\n",
       "      <td>1</td>\n",
       "      <td>SS-BEAUTY</td>\n",
       "      <td>0</td>\n",
       "      <td>0</td>\n",
       "      <td>44.23</td>\n",
       "      <td>1</td>\n",
       "      <td>30</td>\n",
       "      <td>2023-01-30 07:23:17</td>\n",
       "      <td>54878715</td>\n",
       "      <td>3</td>\n",
       "      <td>6</td>\n",
       "      <td>1</td>\n",
       "      <td>0</td>\n",
       "      <td>44.23</td>\n",
       "      <td>0.485</td>\n",
       "      <td>0</td>\n",
       "    </tr>\n",
       "    <tr>\n",
       "      <th>3002</th>\n",
       "      <td>1</td>\n",
       "      <td>1</td>\n",
       "      <td>Maison Rouge</td>\n",
       "      <td>0</td>\n",
       "      <td>0</td>\n",
       "      <td>29.78</td>\n",
       "      <td>1</td>\n",
       "      <td>30</td>\n",
       "      <td>2023-01-30 07:23:27</td>\n",
       "      <td>54878715</td>\n",
       "      <td>0</td>\n",
       "      <td>2</td>\n",
       "      <td>0</td>\n",
       "      <td>0</td>\n",
       "      <td>29.78</td>\n",
       "      <td>0.000</td>\n",
       "      <td>0</td>\n",
       "    </tr>\n",
       "  </tbody>\n",
       "</table>\n",
       "</div>"
      ],
      "text/plain": [
       "      fulfillmentType  fulfillmentBadge    sellerDisplayName  wfsEnabled  \\\n",
       "2998                1                 1         Maison Rouge           0   \n",
       "2999                0                 0  Adina's Beauty Shop           1   \n",
       "3000                0                 1          Walmart.com           0   \n",
       "3001                1                 1            SS-BEAUTY           0   \n",
       "3002                1                 1         Maison Rouge           0   \n",
       "\n",
       "      hasSellerBadge  price  slaTier  returnWindow_value               period  \\\n",
       "2998               0  29.78        1                  30  2023-01-30 07:23:17   \n",
       "2999               0  37.00        0                  90  2023-01-30 07:23:17   \n",
       "3000               2  33.40        1                  90  2023-01-30 07:23:17   \n",
       "3001               0  44.23        1                  30  2023-01-30 07:23:17   \n",
       "3002               0  29.78        1                  30  2023-01-30 07:23:27   \n",
       "\n",
       "       item_id  order  deliveryDays  win  top_sellerMark  FullPrice  AddPrice  \\\n",
       "2998  54878715      0             2    0               0      29.78     0.000   \n",
       "2999  54878715      1             1    1               1      37.00     0.242   \n",
       "3000  54878715      2             2    1               0      33.40     0.122   \n",
       "3001  54878715      3             6    1               0      44.23     0.485   \n",
       "3002  54878715      0             2    0               0      29.78     0.000   \n",
       "\n",
       "      MinDeliveryDaysMark  \n",
       "2998                    0  \n",
       "2999                    1  \n",
       "3000                    0  \n",
       "3001                    0  \n",
       "3002                    0  "
      ]
     },
     "execution_count": 2541,
     "metadata": {},
     "output_type": "execute_result"
    }
   ],
   "source": [
    "# посмотрим на оставшиеся признаки\n",
    "offer_cl.head(5)"
   ]
  },
  {
   "cell_type": "code",
   "execution_count": null,
   "metadata": {},
   "outputs": [],
   "source": [
    "#Аналитика по цене"
   ]
  },
  {
   "cell_type": "code",
   "execution_count": 2539,
   "metadata": {},
   "outputs": [
    {
     "data": {
      "text/html": [
       "<div>\n",
       "<style scoped>\n",
       "    .dataframe tbody tr th:only-of-type {\n",
       "        vertical-align: middle;\n",
       "    }\n",
       "\n",
       "    .dataframe tbody tr th {\n",
       "        vertical-align: top;\n",
       "    }\n",
       "\n",
       "    .dataframe thead th {\n",
       "        text-align: right;\n",
       "    }\n",
       "</style>\n",
       "<table border=\"1\" class=\"dataframe\">\n",
       "  <thead>\n",
       "    <tr style=\"text-align: right;\">\n",
       "      <th></th>\n",
       "      <th>win</th>\n",
       "      <th>AddPrice</th>\n",
       "    </tr>\n",
       "  </thead>\n",
       "  <tbody>\n",
       "    <tr>\n",
       "      <th>3194</th>\n",
       "      <td>0</td>\n",
       "      <td>0.259</td>\n",
       "    </tr>\n",
       "    <tr>\n",
       "      <th>3302</th>\n",
       "      <td>0</td>\n",
       "      <td>0.241</td>\n",
       "    </tr>\n",
       "    <tr>\n",
       "      <th>3322</th>\n",
       "      <td>0</td>\n",
       "      <td>0.241</td>\n",
       "    </tr>\n",
       "    <tr>\n",
       "      <th>3266</th>\n",
       "      <td>0</td>\n",
       "      <td>0.241</td>\n",
       "    </tr>\n",
       "    <tr>\n",
       "      <th>3310</th>\n",
       "      <td>0</td>\n",
       "      <td>0.241</td>\n",
       "    </tr>\n",
       "  </tbody>\n",
       "</table>\n",
       "</div>"
      ],
      "text/plain": [
       "      win  AddPrice\n",
       "3194    0     0.259\n",
       "3302    0     0.241\n",
       "3322    0     0.241\n",
       "3266    0     0.241\n",
       "3310    0     0.241"
      ]
     },
     "execution_count": 2539,
     "metadata": {},
     "output_type": "execute_result"
    }
   ],
   "source": [
    "offer_cl[offer_cl.win == 0].sort_values('AddPrice', ascending=False)[['win', 'AddPrice']].head(5)\n",
    "# Если цена превышала 24.1% над минимальной ценой в витрине bbwin был 1 раз"
   ]
  },
  {
   "cell_type": "code",
   "execution_count": 2538,
   "metadata": {},
   "outputs": [
    {
     "data": {
      "text/html": [
       "<div>\n",
       "<style scoped>\n",
       "    .dataframe tbody tr th:only-of-type {\n",
       "        vertical-align: middle;\n",
       "    }\n",
       "\n",
       "    .dataframe tbody tr th {\n",
       "        vertical-align: top;\n",
       "    }\n",
       "\n",
       "    .dataframe thead th {\n",
       "        text-align: right;\n",
       "    }\n",
       "</style>\n",
       "<table border=\"1\" class=\"dataframe\">\n",
       "  <thead>\n",
       "    <tr style=\"text-align: right;\">\n",
       "      <th></th>\n",
       "      <th>AddPrice</th>\n",
       "      <th>win</th>\n",
       "    </tr>\n",
       "  </thead>\n",
       "  <tbody>\n",
       "    <tr>\n",
       "      <th>56</th>\n",
       "      <td>0.259</td>\n",
       "      <td>1</td>\n",
       "    </tr>\n",
       "    <tr>\n",
       "      <th>55</th>\n",
       "      <td>0.241</td>\n",
       "      <td>7</td>\n",
       "    </tr>\n",
       "    <tr>\n",
       "      <th>54</th>\n",
       "      <td>0.240</td>\n",
       "      <td>2</td>\n",
       "    </tr>\n",
       "    <tr>\n",
       "      <th>53</th>\n",
       "      <td>0.239</td>\n",
       "      <td>68</td>\n",
       "    </tr>\n",
       "    <tr>\n",
       "      <th>52</th>\n",
       "      <td>0.237</td>\n",
       "      <td>2</td>\n",
       "    </tr>\n",
       "  </tbody>\n",
       "</table>\n",
       "</div>"
      ],
      "text/plain": [
       "    AddPrice  win\n",
       "56     0.259    1\n",
       "55     0.241    7\n",
       "54     0.240    2\n",
       "53     0.239   68\n",
       "52     0.237    2"
      ]
     },
     "execution_count": 2538,
     "metadata": {},
     "output_type": "execute_result"
    }
   ],
   "source": [
    "offer_win = offer_cl[(offer_cl.win == 0) & (offer_cl.AddPrice > 0)\n",
    "                            ].groupby('AddPrice').count().reset_index()[['AddPrice', 'win']]\n",
    "count_win = offer_cl[offer_cl.win == 0].win.count()\n",
    "offer_win.sort_values('AddPrice', ascending=False).head(5)"
   ]
  },
  {
   "cell_type": "code",
   "execution_count": 2540,
   "metadata": {},
   "outputs": [
    {
     "data": {
      "text/html": [
       "<div>\n",
       "<style scoped>\n",
       "    .dataframe tbody tr th:only-of-type {\n",
       "        vertical-align: middle;\n",
       "    }\n",
       "\n",
       "    .dataframe tbody tr th {\n",
       "        vertical-align: top;\n",
       "    }\n",
       "\n",
       "    .dataframe thead th {\n",
       "        text-align: right;\n",
       "    }\n",
       "</style>\n",
       "<table border=\"1\" class=\"dataframe\">\n",
       "  <thead>\n",
       "    <tr style=\"text-align: right;\">\n",
       "      <th></th>\n",
       "      <th>AddPrice</th>\n",
       "      <th>win</th>\n",
       "    </tr>\n",
       "  </thead>\n",
       "  <tbody>\n",
       "    <tr>\n",
       "      <th>57</th>\n",
       "      <td>0.259</td>\n",
       "      <td>1</td>\n",
       "    </tr>\n",
       "    <tr>\n",
       "      <th>56</th>\n",
       "      <td>0.241</td>\n",
       "      <td>7</td>\n",
       "    </tr>\n",
       "    <tr>\n",
       "      <th>55</th>\n",
       "      <td>0.240</td>\n",
       "      <td>2</td>\n",
       "    </tr>\n",
       "    <tr>\n",
       "      <th>54</th>\n",
       "      <td>0.239</td>\n",
       "      <td>68</td>\n",
       "    </tr>\n",
       "    <tr>\n",
       "      <th>53</th>\n",
       "      <td>0.237</td>\n",
       "      <td>2</td>\n",
       "    </tr>\n",
       "  </tbody>\n",
       "</table>\n",
       "</div>"
      ],
      "text/plain": [
       "    AddPrice  win\n",
       "57     0.259    1\n",
       "56     0.241    7\n",
       "55     0.240    2\n",
       "54     0.239   68\n",
       "53     0.237    2"
      ]
     },
     "execution_count": 2540,
     "metadata": {},
     "output_type": "execute_result"
    }
   ],
   "source": [
    "offer_win1 = offer_cl[(offer_cl.win == 0)].groupby('AddPrice').count().reset_index()[['AddPrice', 'win']]\n",
    "offer_win1.sort_values('AddPrice', ascending=False).head(5)"
   ]
  },
  {
   "cell_type": "code",
   "execution_count": 2536,
   "metadata": {},
   "outputs": [],
   "source": [
    "x1 = offer_win[offer_win.AddPrice >= 0.20].win.sum()\n",
    "x2 = offer_win[(offer_win.AddPrice < 0.20) & (offer_win.AddPrice > 0.15)].win.sum()\n",
    "x3 = offer_win[(offer_win.AddPrice < 0.15) & (offer_win.AddPrice > 0.05)].win.sum()\n",
    "x4 = offer_win[offer_win.AddPrice <= 0.05].win.sum()\n",
    "x5 = offer_cl[(offer_cl.win == 0) & (offer_cl.AddPrice == 0)].win.count()"
   ]
  },
  {
   "cell_type": "code",
   "execution_count": 2563,
   "metadata": {},
   "outputs": [
    {
     "name": "stdout",
     "output_type": "stream",
     "text": [
      "Отлонение от минимальной цены в витрине:\n",
      "Более 20%:  4.3\n",
      "Более 15%, но менее 20%:  3.05\n",
      "Более 5%, но менее 15%:  1.83\n",
      "менее 5%:  2.93\n",
      "минимальная цена:  87.89\n"
     ]
    }
   ],
   "source": [
    "print('Отлонение от минимальной цены в витрине:')\n",
    "print('Более 20%: ',round(x1 *100/count_win, 2))\n",
    "print('Более 15%, но менее 20%: ',round(x2 *100/count_win, 2))\n",
    "print('Более 5%, но менее 15%: ',round(x3 *100/count_win, 2))\n",
    "print('менее 5%: ',round(x4 *100/count_win, 2))\n",
    "print('минимальная цена: ',round(x5 *100/count_win, 2))"
   ]
  },
  {
   "cell_type": "code",
   "execution_count": null,
   "metadata": {},
   "outputs": [],
   "source": []
  },
  {
   "cell_type": "code",
   "execution_count": 2346,
   "metadata": {
    "colab": {
     "base_uri": "https://localhost:8080/",
     "height": 516
    },
    "id": "z39v_yRUZoaY",
    "outputId": "80b0b653-12fb-4e91-af24-013b12eb7af2"
   },
   "outputs": [
    {
     "data": {
      "text/plain": [
       "<AxesSubplot:title={'center':'Pearson Correlation of Features'}>"
      ]
     },
     "execution_count": 2346,
     "metadata": {},
     "output_type": "execute_result"
    },
    {
     "data": {
      "image/png": "[encoded data removed]",
      "text/plain": [
       "<Figure size 1600x1600 with 2 Axes>"
      ]
     },
     "metadata": {},
     "output_type": "display_data"
    }
   ],
   "source": [
    "# посмотрим на линейные зависимости с целевыми переменными order и win \n",
    "colormap = plt.cm.RdBu\n",
    "plt.figure(figsize=(16,16))\n",
    "plt.title('Pearson Correlation of Features')\n",
    "sns.heatmap(offer_cl.corr(), cmap=colormap, linecolor='white', annot=True)"
   ]
  },
  {
   "cell_type": "code",
   "execution_count": 2416,
   "metadata": {},
   "outputs": [],
   "source": [
    "#удаляем не нужные столбцы: price и FullPrice (AddPrice коррелирует лучше)\n",
    "# wfsEnabled и fulfillmentBadge взамообратные, slaTier и MinDeliveryDayMark взаимозависимы\n",
    "offer_model = offer_cl.drop(['price', 'period', 'item_id', 'FullPrice', 'wfsEnabled', 'slaTier', 'fulfillmentType'], axis=1) "
   ]
  },
  {
   "cell_type": "code",
   "execution_count": null,
   "metadata": {},
   "outputs": [],
   "source": []
  },
  {
   "cell_type": "markdown",
   "metadata": {
    "id": "betqXe7KXbbb"
   },
   "source": [
    "# Modeling"
   ]
  },
  {
   "cell_type": "code",
   "execution_count": 2551,
   "metadata": {
    "id": "_u1wEHlnXbbe"
   },
   "outputs": [],
   "source": [
    "from sklearn.preprocessing import StandardScaler\n",
    "from sklearn.metrics import ndcg_score"
   ]
  },
  {
   "cell_type": "code",
   "execution_count": 2424,
   "metadata": {},
   "outputs": [],
   "source": [
    "# Функция для визуализации feature_importance в моделях\n",
    "def feature_importance_chart(model, df):\n",
    "    feature_importance = pd.DataFrame(df.columns, columns = ['feature'])\n",
    "    feature_importance['importance'] = model.feature_importances_\n",
    "    feature_importance = feature_importance.sort_values('importance')\n",
    "    \n",
    "    ax = feature_importance.plot.barh(x='feature', y='importance')\n",
    "    plt.show()"
   ]
  },
  {
   "cell_type": "code",
   "execution_count": 2426,
   "metadata": {
    "id": "DVg4Y1nNZoaW"
   },
   "outputs": [],
   "source": [
    "# Маштабирование deliveryDays признака\n",
    "scaler = StandardScaler()\n",
    "\n",
    "offer_rank = offer_cl.drop(['price', 'item_id', 'FullPrice', 'wfsEnabled','slaTier', 'fulfillmentType'\n",
    "                           ], axis=1) # wfsEnabled и fulfillmentBadge взамообратные, slaTier и MinDeliveryDayMark зависимы\n",
    "\n",
    "offer_rank[\"deliveryDays\"] = scaler.fit_transform(offer_rank[\"deliveryDays\"].values.reshape(-1,1))\n",
    "\n",
    "# returnWindow_value заменим 30 на 0 и 90 на 1\n",
    "offer_rank['returnWindow_value'] = offer_rank.returnWindow_value.astype(str)\n",
    "offer_rank.returnWindow_value.replace({\"30\":0, \"90\":1}, inplace=True)"
   ]
  },
  {
   "cell_type": "code",
   "execution_count": null,
   "metadata": {},
   "outputs": [],
   "source": []
  },
  {
   "cell_type": "markdown",
   "metadata": {},
   "source": [
    "# Построим модели ранжирования и настроим их"
   ]
  },
  {
   "cell_type": "code",
   "execution_count": 2427,
   "metadata": {},
   "outputs": [],
   "source": [
    "#сохраним названия продацов\n",
    "sellerDisplayName = offer_rank.sellerDisplayName\n",
    "\n",
    "# пронумеруем витрины\n",
    "offer_rank['id'] = (offer_rank.period != offer_rank.period.shift()).cumsum()\n",
    "offer_rank = offer_rank.drop(['period'], axis=1)"
   ]
  },
  {
   "cell_type": "code",
   "execution_count": 2428,
   "metadata": {},
   "outputs": [
    {
     "data": {
      "text/html": [
       "<div>\n",
       "<style scoped>\n",
       "    .dataframe tbody tr th:only-of-type {\n",
       "        vertical-align: middle;\n",
       "    }\n",
       "\n",
       "    .dataframe tbody tr th {\n",
       "        vertical-align: top;\n",
       "    }\n",
       "\n",
       "    .dataframe thead th {\n",
       "        text-align: right;\n",
       "    }\n",
       "</style>\n",
       "<table border=\"1\" class=\"dataframe\">\n",
       "  <thead>\n",
       "    <tr style=\"text-align: right;\">\n",
       "      <th></th>\n",
       "      <th>fulfillmentBadge</th>\n",
       "      <th>sellerDisplayName</th>\n",
       "      <th>hasSellerBadge</th>\n",
       "      <th>returnWindow_value</th>\n",
       "      <th>order</th>\n",
       "      <th>deliveryDays</th>\n",
       "      <th>win</th>\n",
       "      <th>top_sellerMark</th>\n",
       "      <th>AddPrice</th>\n",
       "      <th>MinDeliveryDaysMark</th>\n",
       "      <th>id</th>\n",
       "    </tr>\n",
       "  </thead>\n",
       "  <tbody>\n",
       "    <tr>\n",
       "      <th>2998</th>\n",
       "      <td>1</td>\n",
       "      <td>Maison Rouge</td>\n",
       "      <td>0</td>\n",
       "      <td>0</td>\n",
       "      <td>0</td>\n",
       "      <td>-0.028042</td>\n",
       "      <td>0</td>\n",
       "      <td>0</td>\n",
       "      <td>0.000</td>\n",
       "      <td>0</td>\n",
       "      <td>1</td>\n",
       "    </tr>\n",
       "    <tr>\n",
       "      <th>2999</th>\n",
       "      <td>0</td>\n",
       "      <td>Adina's Beauty Shop</td>\n",
       "      <td>0</td>\n",
       "      <td>1</td>\n",
       "      <td>1</td>\n",
       "      <td>-0.664789</td>\n",
       "      <td>1</td>\n",
       "      <td>1</td>\n",
       "      <td>0.242</td>\n",
       "      <td>1</td>\n",
       "      <td>1</td>\n",
       "    </tr>\n",
       "    <tr>\n",
       "      <th>3000</th>\n",
       "      <td>1</td>\n",
       "      <td>Walmart.com</td>\n",
       "      <td>2</td>\n",
       "      <td>1</td>\n",
       "      <td>2</td>\n",
       "      <td>-0.028042</td>\n",
       "      <td>1</td>\n",
       "      <td>0</td>\n",
       "      <td>0.122</td>\n",
       "      <td>0</td>\n",
       "      <td>1</td>\n",
       "    </tr>\n",
       "    <tr>\n",
       "      <th>3001</th>\n",
       "      <td>1</td>\n",
       "      <td>SS-BEAUTY</td>\n",
       "      <td>0</td>\n",
       "      <td>0</td>\n",
       "      <td>3</td>\n",
       "      <td>2.518948</td>\n",
       "      <td>1</td>\n",
       "      <td>0</td>\n",
       "      <td>0.485</td>\n",
       "      <td>0</td>\n",
       "      <td>1</td>\n",
       "    </tr>\n",
       "    <tr>\n",
       "      <th>3002</th>\n",
       "      <td>1</td>\n",
       "      <td>Maison Rouge</td>\n",
       "      <td>0</td>\n",
       "      <td>0</td>\n",
       "      <td>0</td>\n",
       "      <td>-0.028042</td>\n",
       "      <td>0</td>\n",
       "      <td>0</td>\n",
       "      <td>0.000</td>\n",
       "      <td>0</td>\n",
       "      <td>2</td>\n",
       "    </tr>\n",
       "  </tbody>\n",
       "</table>\n",
       "</div>"
      ],
      "text/plain": [
       "      fulfillmentBadge    sellerDisplayName  hasSellerBadge  \\\n",
       "2998                 1         Maison Rouge               0   \n",
       "2999                 0  Adina's Beauty Shop               0   \n",
       "3000                 1          Walmart.com               2   \n",
       "3001                 1            SS-BEAUTY               0   \n",
       "3002                 1         Maison Rouge               0   \n",
       "\n",
       "      returnWindow_value  order  deliveryDays  win  top_sellerMark  AddPrice  \\\n",
       "2998                   0      0     -0.028042    0               0     0.000   \n",
       "2999                   1      1     -0.664789    1               1     0.242   \n",
       "3000                   1      2     -0.028042    1               0     0.122   \n",
       "3001                   0      3      2.518948    1               0     0.485   \n",
       "3002                   0      0     -0.028042    0               0     0.000   \n",
       "\n",
       "      MinDeliveryDaysMark  id  \n",
       "2998                    0   1  \n",
       "2999                    1   1  \n",
       "3000                    0   1  \n",
       "3001                    0   1  \n",
       "3002                    0   2  "
      ]
     },
     "execution_count": 2428,
     "metadata": {},
     "output_type": "execute_result"
    }
   ],
   "source": [
    "offer_rank.head(5)"
   ]
  },
  {
   "cell_type": "code",
   "execution_count": null,
   "metadata": {},
   "outputs": [],
   "source": []
  },
  {
   "cell_type": "markdown",
   "metadata": {},
   "source": [
    "# Базовая модель по всем рангам на основе LGBMRanker"
   ]
  },
  {
   "cell_type": "code",
   "execution_count": 2429,
   "metadata": {},
   "outputs": [],
   "source": [
    "import lightgbm as lightgbm"
   ]
  },
  {
   "cell_type": "code",
   "execution_count": 2430,
   "metadata": {},
   "outputs": [],
   "source": [
    "from sklearn.model_selection import GroupShuffleSplit\n",
    "\n",
    "# для разделения датасета на трейн и тест по группам\n",
    "gss = GroupShuffleSplit(test_size=.30, n_splits=1, random_state = 7\n",
    "                       ).split(offer_rank, groups=offer_rank['id'])\n",
    "\n",
    "X_train_inds, X_test_inds = next(gss)\n",
    "\n",
    "train_data= offer_rank.iloc[X_train_inds]\n",
    "test_data= offer_rank.iloc[X_test_inds]\n",
    "\n",
    "# весь набор данных\n",
    "sellerDisplayName = offer_rank.sellerDisplayName\n",
    "x_full = offer_rank.drop([\"id\", \"win\", 'order','sellerDisplayName'], axis=1)\n",
    "y_full = offer_rank[\"win\"]\n",
    "y_full_order = offer_rank[\"order\"]\n",
    "\n",
    "# трейн размеры групп\n",
    "qids_train = train_data.groupby(\"id\")[\"id\"].count().to_numpy()\n",
    "sellerDisplayName_train = train_data.sellerDisplayName\n",
    "X_train = train_data.drop([\"id\", \"win\",'order', 'sellerDisplayName'], axis=1)\n",
    "y_train = train_data[\"win\"]\n",
    "y_train_order = train_data[\"order\"] # для нескольких рангов\n",
    "\n",
    "# тест размеры групп\n",
    "qids_validation = test_data.groupby(\"id\")[\"id\"].count().to_numpy()\n",
    "sellerDisplayName_test = test_data.sellerDisplayName\n",
    "X_validation = test_data.drop([\"id\", \"win\", 'order','sellerDisplayName'], axis=1)\n",
    "y_validation = test_data[\"win\"]\n",
    "y_validation_order = test_data[\"order\"] # для нескольких рангов"
   ]
  },
  {
   "cell_type": "code",
   "execution_count": 2431,
   "metadata": {},
   "outputs": [],
   "source": [
    "# базовая модель без настроек, lambdarank - для задач ранжтирования, ndcg - целевая метрика\n",
    "model_rank_order = lightgbm.LGBMRanker(\n",
    "    objective=\"lambdarank\",\n",
    "    metric=\"ndcg\")"
   ]
  },
  {
   "cell_type": "code",
   "execution_count": 2432,
   "metadata": {},
   "outputs": [
    {
     "name": "stdout",
     "output_type": "stream",
     "text": [
      "[50]\tvalid_0's ndcg@1: 0.949239\tvalid_0's ndcg@2: 0.980455\tvalid_0's ndcg@3: 0.978809\tvalid_0's ndcg@4: 0.980788\tvalid_0's ndcg@5: 0.980788\n",
      "[100]\tvalid_0's ndcg@1: 0.949239\tvalid_0's ndcg@2: 0.980725\tvalid_0's ndcg@3: 0.978863\tvalid_0's ndcg@4: 0.980841\tvalid_0's ndcg@5: 0.980841\n"
     ]
    },
    {
     "data": {
      "text/plain": [
       "LGBMRanker(metric='ndcg', objective='lambdarank')"
      ]
     },
     "execution_count": 2432,
     "metadata": {},
     "output_type": "execute_result"
    }
   ],
   "source": [
    "# обучение происходим по группам в нашем случае витринам\n",
    "model_rank_order.fit(\n",
    "    X=X_train,\n",
    "    y=y_train_order,\n",
    "    group=qids_train,\n",
    "    eval_set=[(X_validation, y_validation_order)],\n",
    "    eval_group=[qids_validation],\n",
    "    verbose=50,\n",
    ")"
   ]
  },
  {
   "cell_type": "code",
   "execution_count": 2433,
   "metadata": {},
   "outputs": [
    {
     "data": {
      "image/png": "[encoded data removed]",
      "text/plain": [
       "<Figure size 640x480 with 1 Axes>"
      ]
     },
     "metadata": {},
     "output_type": "display_data"
    }
   ],
   "source": [
    "feature_importance_chart(model_rank_order, X_validation)"
   ]
  },
  {
   "cell_type": "code",
   "execution_count": 2434,
   "metadata": {},
   "outputs": [
    {
     "data": {
      "text/plain": [
       "0.9731084637606553"
      ]
     },
     "execution_count": 2434,
     "metadata": {},
     "output_type": "execute_result"
    }
   ],
   "source": [
    "ndcg_score([y_validation_order], [model_rank_order.predict(X_validation)])"
   ]
  },
  {
   "cell_type": "code",
   "execution_count": null,
   "metadata": {},
   "outputs": [],
   "source": [
    "# Предсказания модели можно интерпретировать как вероятности того, что элемент будет релевантным (то есть будет на вершине), \n",
    "# поэтому для создания рейтинга нам нужно только упорядочить набор по этим числам."
   ]
  },
  {
   "cell_type": "code",
   "execution_count": 2559,
   "metadata": {},
   "outputs": [],
   "source": [
    "def prediction_rank_table(df, model, x_val, Seller_Name, order_win, n=5):\n",
    "    prediction_order_rank = df[[order_win, 'id']].copy()\n",
    "    prediction_order_rank['rank'] = model.predict(x_val)\n",
    "    \n",
    "    # пронумеруем ранги от минимального значения в rank\n",
    "    prediction_order_rank['rank_number'] = (prediction_order_rank.groupby(['id']).rank() - 1)['rank']\n",
    "    prediction_order_rank['sellerDisplayName'] = Seller_Name\n",
    "    print(prediction_order_rank.head(n))\n",
    "    \n",
    "    #count_positive\n",
    "    count_positive = prediction_order_rank[(prediction_order_rank[order_win] == 0) & \n",
    "                                       (prediction_order_rank.rank_number == 0)] ['rank_number']\n",
    "    # доля правильных правильно предсказанных витрин по предсказанию bbwin==0\n",
    "    accuracy = count_positive.count() / prediction_order_rank[prediction_order_rank[order_win] == 0][order_win].count()\n",
    "    print('\\nДоля выигранных витрин по предсказанию модели (bbwin=0):', round(accuracy, 4))\n",
    "    \n",
    "    # Рассчитаем средний Рейтинг продавцов по их rank, спрогнозированных моделью\n",
    "    rank_seller = prediction_order_rank.groupby('sellerDisplayName')['rank'].mean().reset_index()\n",
    "    rank_seller['rank_seller'] = rank_seller['rank'].rank()\n",
    "    \n",
    "    print('\\nПрогнозируемый усредненный рейтинг продацов:')\n",
    "    \n",
    "    return rank_seller.sort_values('rank_seller')"
   ]
  },
  {
   "cell_type": "code",
   "execution_count": 2560,
   "metadata": {},
   "outputs": [
    {
     "name": "stdout",
     "output_type": "stream",
     "text": [
      "      order  id      rank  rank_number    sellerDisplayName\n",
      "2998      0   1 -2.554543          0.0         Maison Rouge\n",
      "2999      1   1 -1.636369          1.0  Adina's Beauty Shop\n",
      "3000      2   1  1.012166          2.0          Walmart.com\n",
      "3001      3   1  9.180707          3.0            SS-BEAUTY\n",
      "3006      0   3 -2.554543          0.0         Maison Rouge\n",
      "\n",
      "Доля выигранных витрин по предсказанию модели (bbwin=0): 0.9061\n",
      "\n",
      "Прогнозируемый усредненный рейтинг продацов:\n"
     ]
    },
    {
     "data": {
      "text/html": [
       "<div>\n",
       "<style scoped>\n",
       "    .dataframe tbody tr th:only-of-type {\n",
       "        vertical-align: middle;\n",
       "    }\n",
       "\n",
       "    .dataframe tbody tr th {\n",
       "        vertical-align: top;\n",
       "    }\n",
       "\n",
       "    .dataframe thead th {\n",
       "        text-align: right;\n",
       "    }\n",
       "</style>\n",
       "<table border=\"1\" class=\"dataframe\">\n",
       "  <thead>\n",
       "    <tr style=\"text-align: right;\">\n",
       "      <th></th>\n",
       "      <th>sellerDisplayName</th>\n",
       "      <th>rank</th>\n",
       "      <th>rank_seller</th>\n",
       "    </tr>\n",
       "  </thead>\n",
       "  <tbody>\n",
       "    <tr>\n",
       "      <th>3</th>\n",
       "      <td>Maison Rouge</td>\n",
       "      <td>-2.795553</td>\n",
       "      <td>1.0</td>\n",
       "    </tr>\n",
       "    <tr>\n",
       "      <th>1</th>\n",
       "      <td>Exotic Pro</td>\n",
       "      <td>-2.751688</td>\n",
       "      <td>2.0</td>\n",
       "    </tr>\n",
       "    <tr>\n",
       "      <th>0</th>\n",
       "      <td>Adina's Beauty Shop</td>\n",
       "      <td>-1.135780</td>\n",
       "      <td>3.0</td>\n",
       "    </tr>\n",
       "    <tr>\n",
       "      <th>6</th>\n",
       "      <td>thanks2you</td>\n",
       "      <td>0.911773</td>\n",
       "      <td>4.0</td>\n",
       "    </tr>\n",
       "    <tr>\n",
       "      <th>5</th>\n",
       "      <td>Walmart.com</td>\n",
       "      <td>1.248863</td>\n",
       "      <td>5.0</td>\n",
       "    </tr>\n",
       "    <tr>\n",
       "      <th>2</th>\n",
       "      <td>Fit &amp; Fab</td>\n",
       "      <td>1.590421</td>\n",
       "      <td>6.0</td>\n",
       "    </tr>\n",
       "    <tr>\n",
       "      <th>4</th>\n",
       "      <td>SS-BEAUTY</td>\n",
       "      <td>7.945076</td>\n",
       "      <td>7.0</td>\n",
       "    </tr>\n",
       "  </tbody>\n",
       "</table>\n",
       "</div>"
      ],
      "text/plain": [
       "     sellerDisplayName      rank  rank_seller\n",
       "3         Maison Rouge -2.795553          1.0\n",
       "1           Exotic Pro -2.751688          2.0\n",
       "0  Adina's Beauty Shop -1.135780          3.0\n",
       "6           thanks2you  0.911773          4.0\n",
       "5          Walmart.com  1.248863          5.0\n",
       "2            Fit & Fab  1.590421          6.0\n",
       "4            SS-BEAUTY  7.945076          7.0"
      ]
     },
     "execution_count": 2560,
     "metadata": {},
     "output_type": "execute_result"
    }
   ],
   "source": [
    "prediction_rank_table(test_data, model_rank_order, X_validation, sellerDisplayName_test, 'order')\n",
    "# Отдельно будем отслеживать метрику для бизнеса, Доля выигранных витрин - количество релевантных прогнозов (из всех bbwin=0)"
   ]
  },
  {
   "cell_type": "code",
   "execution_count": null,
   "metadata": {},
   "outputs": [],
   "source": [
    "# базовая модель дала хорошие показатели качества, попробуем настроить её"
   ]
  },
  {
   "cell_type": "code",
   "execution_count": null,
   "metadata": {},
   "outputs": [],
   "source": []
  },
  {
   "cell_type": "markdown",
   "metadata": {},
   "source": [
    "# Настройка с помощью optuna модели LGBMRanker"
   ]
  },
  {
   "cell_type": "code",
   "execution_count": 2000,
   "metadata": {},
   "outputs": [],
   "source": [
    "import optuna as optuna"
   ]
  },
  {
   "cell_type": "code",
   "execution_count": 2437,
   "metadata": {},
   "outputs": [],
   "source": [
    "# функция для настройки моделей LGBMRanker\n",
    "def objective_lgb(trial, df_rank, y_col, N_splits=3, random_state=42):\n",
    "    lgb_params = {\n",
    "        \"n_estimators\": trial.suggest_categorical(\"n_estimators\", [100, 200, 300]),\n",
    "        \"learning_rate\": trial.suggest_float(\"learning_rate\", 0.001, 0.3, log=True),\n",
    "        \"max_depth\": trial.suggest_int(\"max_depth\", 1, 10, step=1),\n",
    "        \"min_data_in_leaf\": trial.suggest_int(\"min_data_in_leaf\", 10, 1000),\n",
    "        \"lambda_l1\": trial.suggest_loguniform(\"lambda_l1\", 1e-3, 100),\n",
    "        \"lambda_l2\": trial.suggest_loguniform(\"lambda_l2\", 1e-3, 100),  \n",
    "        \"objective\": trial.suggest_categorical(\"objective\", ['lambdarank']),\n",
    "        \"metric\": trial.suggest_categorical(\"metric\", ['ndcg']),\n",
    "        \"random_state\": trial.suggest_categorical(\"random_state\", [random_state]),        \n",
    "    }\n",
    "    \n",
    "    n_predicts = np.empty(N_splits)\n",
    "    \n",
    "    # для разделения датасета на трейн и тест по группам\n",
    "    gss = GroupShuffleSplit(n_splits=N_splits, test_size=.3, random_state=random_state)\n",
    "    \n",
    "    for idx, (train_index, test_index) in enumerate(gss.split(df_rank, groups=df_rank['id'])):\n",
    "        \n",
    "        train_data= df_rank.iloc[train_index]\n",
    "        test_data= df_rank.iloc[test_index]\n",
    "        \n",
    "        # трейн размеры групп\n",
    "        qids_train = train_data.groupby(\"id\")[\"id\"].count().to_numpy()\n",
    "        X_train = train_data.drop([\"id\", \"win\",'order', 'sellerDisplayName'], axis=1)\n",
    "        y_train = train_data[y_col]\n",
    "\n",
    "        # тест размеры групп\n",
    "        qids_validation = test_data.groupby(\"id\")[\"id\"].count().to_numpy()\n",
    "        X_validation = test_data.drop([\"id\", \"win\", 'order','sellerDisplayName'], axis=1)\n",
    "        y_validation = test_data[y_col]\n",
    "        \n",
    "        model = lightgbm.LGBMRanker(**lgb_params)\n",
    "        model.fit(X_train,\n",
    "                  y_train,\n",
    "                  group=qids_train,\n",
    "                  eval_set=[(X_validation, y_validation)],\n",
    "                  eval_group=[qids_validation],\n",
    "                  eval_metric=\"ndcg\",\n",
    "                  early_stopping_rounds=100,\n",
    "                  verbose=0)\n",
    "                \n",
    "        preds = model.predict(X_validation)\n",
    "        n_predicts[idx] = ndcg_score([y_validation], [preds])\n",
    "\n",
    "    return np.mean(n_predicts)"
   ]
  },
  {
   "cell_type": "code",
   "execution_count": null,
   "metadata": {},
   "outputs": [],
   "source": []
  },
  {
   "cell_type": "markdown",
   "metadata": {},
   "source": [
    "# Модель 1 настройка на все ранги"
   ]
  },
  {
   "cell_type": "code",
   "execution_count": 2438,
   "metadata": {},
   "outputs": [
    {
     "data": {
      "application/vnd.jupyter.widget-view+json": {
       "model_id": "9eba89257dd54f31a215acfcc62a85f0",
       "version_major": 2,
       "version_minor": 0
      },
      "text/plain": [
       "  0%|          | 0/30 [00:00<?, ?it/s]"
      ]
     },
     "metadata": {},
     "output_type": "display_data"
    },
    {
     "name": "stdout",
     "output_type": "stream",
     "text": [
      "[LightGBM] [Warning] min_data_in_leaf is set=935, min_child_samples=20 will be ignored. Current value: min_data_in_leaf=935\n",
      "[LightGBM] [Warning] lambda_l1 is set=0.6593619900087233, reg_alpha=0.0 will be ignored. Current value: lambda_l1=0.6593619900087233\n",
      "[LightGBM] [Warning] lambda_l2 is set=3.7891391797777008, reg_lambda=0.0 will be ignored. Current value: lambda_l2=3.7891391797777008\n",
      "[LightGBM] [Warning] min_data_in_leaf is set=935, min_child_samples=20 will be ignored. Current value: min_data_in_leaf=935\n",
      "[LightGBM] [Warning] lambda_l1 is set=0.6593619900087233, reg_alpha=0.0 will be ignored. Current value: lambda_l1=0.6593619900087233\n",
      "[LightGBM] [Warning] lambda_l2 is set=3.7891391797777008, reg_lambda=0.0 will be ignored. Current value: lambda_l2=3.7891391797777008\n",
      "[LightGBM] [Warning] min_data_in_leaf is set=935, min_child_samples=20 will be ignored. Current value: min_data_in_leaf=935\n",
      "[LightGBM] [Warning] lambda_l1 is set=0.6593619900087233, reg_alpha=0.0 will be ignored. Current value: lambda_l1=0.6593619900087233\n",
      "[LightGBM] [Warning] lambda_l2 is set=3.7891391797777008, reg_lambda=0.0 will be ignored. Current value: lambda_l2=3.7891391797777008\n",
      "[LightGBM] [Warning] min_data_in_leaf is set=824, min_child_samples=20 will be ignored. Current value: min_data_in_leaf=824\n",
      "[LightGBM] [Warning] lambda_l1 is set=0.0019921136127719324, reg_alpha=0.0 will be ignored. Current value: lambda_l1=0.0019921136127719324\n",
      "[LightGBM] [Warning] lambda_l2 is set=0.6050790355114203, reg_lambda=0.0 will be ignored. Current value: lambda_l2=0.6050790355114203\n",
      "[LightGBM] [Warning] min_data_in_leaf is set=824, min_child_samples=20 will be ignored. Current value: min_data_in_leaf=824\n",
      "[LightGBM] [Warning] lambda_l1 is set=0.0019921136127719324, reg_alpha=0.0 will be ignored. Current value: lambda_l1=0.0019921136127719324\n",
      "[LightGBM] [Warning] lambda_l2 is set=0.6050790355114203, reg_lambda=0.0 will be ignored. Current value: lambda_l2=0.6050790355114203\n",
      "[LightGBM] [Warning] min_data_in_leaf is set=824, min_child_samples=20 will be ignored. Current value: min_data_in_leaf=824\n",
      "[LightGBM] [Warning] lambda_l1 is set=0.0019921136127719324, reg_alpha=0.0 will be ignored. Current value: lambda_l1=0.0019921136127719324\n",
      "[LightGBM] [Warning] lambda_l2 is set=0.6050790355114203, reg_lambda=0.0 will be ignored. Current value: lambda_l2=0.6050790355114203\n",
      "[LightGBM] [Warning] min_data_in_leaf is set=903, min_child_samples=20 will be ignored. Current value: min_data_in_leaf=903\n",
      "[LightGBM] [Warning] lambda_l1 is set=29.150041504546333, reg_alpha=0.0 will be ignored. Current value: lambda_l1=29.150041504546333\n",
      "[LightGBM] [Warning] lambda_l2 is set=0.0037431406178745005, reg_lambda=0.0 will be ignored. Current value: lambda_l2=0.0037431406178745005\n",
      "[LightGBM] [Warning] min_data_in_leaf is set=903, min_child_samples=20 will be ignored. Current value: min_data_in_leaf=903\n",
      "[LightGBM] [Warning] lambda_l1 is set=29.150041504546333, reg_alpha=0.0 will be ignored. Current value: lambda_l1=29.150041504546333\n",
      "[LightGBM] [Warning] lambda_l2 is set=0.0037431406178745005, reg_lambda=0.0 will be ignored. Current value: lambda_l2=0.0037431406178745005\n",
      "[LightGBM] [Warning] min_data_in_leaf is set=903, min_child_samples=20 will be ignored. Current value: min_data_in_leaf=903\n",
      "[LightGBM] [Warning] lambda_l1 is set=29.150041504546333, reg_alpha=0.0 will be ignored. Current value: lambda_l1=29.150041504546333\n",
      "[LightGBM] [Warning] lambda_l2 is set=0.0037431406178745005, reg_lambda=0.0 will be ignored. Current value: lambda_l2=0.0037431406178745005\n",
      "[LightGBM] [Warning] min_data_in_leaf is set=93, min_child_samples=20 will be ignored. Current value: min_data_in_leaf=93\n",
      "[LightGBM] [Warning] lambda_l1 is set=0.8777127987132891, reg_alpha=0.0 will be ignored. Current value: lambda_l1=0.8777127987132891\n",
      "[LightGBM] [Warning] lambda_l2 is set=21.78314793869809, reg_lambda=0.0 will be ignored. Current value: lambda_l2=21.78314793869809\n",
      "[LightGBM] [Warning] min_data_in_leaf is set=93, min_child_samples=20 will be ignored. Current value: min_data_in_leaf=93\n",
      "[LightGBM] [Warning] lambda_l1 is set=0.8777127987132891, reg_alpha=0.0 will be ignored. Current value: lambda_l1=0.8777127987132891\n",
      "[LightGBM] [Warning] lambda_l2 is set=21.78314793869809, reg_lambda=0.0 will be ignored. Current value: lambda_l2=21.78314793869809\n",
      "[LightGBM] [Warning] min_data_in_leaf is set=93, min_child_samples=20 will be ignored. Current value: min_data_in_leaf=93\n",
      "[LightGBM] [Warning] lambda_l1 is set=0.8777127987132891, reg_alpha=0.0 will be ignored. Current value: lambda_l1=0.8777127987132891\n",
      "[LightGBM] [Warning] lambda_l2 is set=21.78314793869809, reg_lambda=0.0 will be ignored. Current value: lambda_l2=21.78314793869809\n",
      "[LightGBM] [Warning] min_data_in_leaf is set=847, min_child_samples=20 will be ignored. Current value: min_data_in_leaf=847\n",
      "[LightGBM] [Warning] lambda_l1 is set=0.9322531106109322, reg_alpha=0.0 will be ignored. Current value: lambda_l1=0.9322531106109322\n",
      "[LightGBM] [Warning] lambda_l2 is set=0.11529621806343367, reg_lambda=0.0 will be ignored. Current value: lambda_l2=0.11529621806343367\n",
      "[LightGBM] [Warning] min_data_in_leaf is set=847, min_child_samples=20 will be ignored. Current value: min_data_in_leaf=847\n",
      "[LightGBM] [Warning] lambda_l1 is set=0.9322531106109322, reg_alpha=0.0 will be ignored. Current value: lambda_l1=0.9322531106109322\n",
      "[LightGBM] [Warning] lambda_l2 is set=0.11529621806343367, reg_lambda=0.0 will be ignored. Current value: lambda_l2=0.11529621806343367\n",
      "[LightGBM] [Warning] min_data_in_leaf is set=847, min_child_samples=20 will be ignored. Current value: min_data_in_leaf=847\n",
      "[LightGBM] [Warning] lambda_l1 is set=0.9322531106109322, reg_alpha=0.0 will be ignored. Current value: lambda_l1=0.9322531106109322\n",
      "[LightGBM] [Warning] lambda_l2 is set=0.11529621806343367, reg_lambda=0.0 will be ignored. Current value: lambda_l2=0.11529621806343367\n",
      "[LightGBM] [Warning] min_data_in_leaf is set=505, min_child_samples=20 will be ignored. Current value: min_data_in_leaf=505\n",
      "[LightGBM] [Warning] lambda_l1 is set=4.626737778817404, reg_alpha=0.0 will be ignored. Current value: lambda_l1=4.626737778817404\n",
      "[LightGBM] [Warning] lambda_l2 is set=12.34029029644866, reg_lambda=0.0 will be ignored. Current value: lambda_l2=12.34029029644866\n",
      "[LightGBM] [Warning] min_data_in_leaf is set=505, min_child_samples=20 will be ignored. Current value: min_data_in_leaf=505\n",
      "[LightGBM] [Warning] lambda_l1 is set=4.626737778817404, reg_alpha=0.0 will be ignored. Current value: lambda_l1=4.626737778817404\n",
      "[LightGBM] [Warning] lambda_l2 is set=12.34029029644866, reg_lambda=0.0 will be ignored. Current value: lambda_l2=12.34029029644866\n",
      "[LightGBM] [Warning] min_data_in_leaf is set=505, min_child_samples=20 will be ignored. Current value: min_data_in_leaf=505\n",
      "[LightGBM] [Warning] lambda_l1 is set=4.626737778817404, reg_alpha=0.0 will be ignored. Current value: lambda_l1=4.626737778817404\n",
      "[LightGBM] [Warning] lambda_l2 is set=12.34029029644866, reg_lambda=0.0 will be ignored. Current value: lambda_l2=12.34029029644866\n",
      "[LightGBM] [Warning] min_data_in_leaf is set=164, min_child_samples=20 will be ignored. Current value: min_data_in_leaf=164\n",
      "[LightGBM] [Warning] lambda_l1 is set=3.709632291012511, reg_alpha=0.0 will be ignored. Current value: lambda_l1=3.709632291012511\n",
      "[LightGBM] [Warning] lambda_l2 is set=0.001621732845493317, reg_lambda=0.0 will be ignored. Current value: lambda_l2=0.001621732845493317\n",
      "[LightGBM] [Warning] min_data_in_leaf is set=164, min_child_samples=20 will be ignored. Current value: min_data_in_leaf=164\n",
      "[LightGBM] [Warning] lambda_l1 is set=3.709632291012511, reg_alpha=0.0 will be ignored. Current value: lambda_l1=3.709632291012511\n",
      "[LightGBM] [Warning] lambda_l2 is set=0.001621732845493317, reg_lambda=0.0 will be ignored. Current value: lambda_l2=0.001621732845493317\n",
      "[LightGBM] [Warning] min_data_in_leaf is set=164, min_child_samples=20 will be ignored. Current value: min_data_in_leaf=164\n",
      "[LightGBM] [Warning] lambda_l1 is set=3.709632291012511, reg_alpha=0.0 will be ignored. Current value: lambda_l1=3.709632291012511\n",
      "[LightGBM] [Warning] lambda_l2 is set=0.001621732845493317, reg_lambda=0.0 will be ignored. Current value: lambda_l2=0.001621732845493317\n",
      "[LightGBM] [Warning] min_data_in_leaf is set=879, min_child_samples=20 will be ignored. Current value: min_data_in_leaf=879\n",
      "[LightGBM] [Warning] lambda_l1 is set=1.277450950514973, reg_alpha=0.0 will be ignored. Current value: lambda_l1=1.277450950514973\n",
      "[LightGBM] [Warning] lambda_l2 is set=0.042110037320397614, reg_lambda=0.0 will be ignored. Current value: lambda_l2=0.042110037320397614\n",
      "[LightGBM] [Warning] min_data_in_leaf is set=879, min_child_samples=20 will be ignored. Current value: min_data_in_leaf=879\n",
      "[LightGBM] [Warning] lambda_l1 is set=1.277450950514973, reg_alpha=0.0 will be ignored. Current value: lambda_l1=1.277450950514973\n",
      "[LightGBM] [Warning] lambda_l2 is set=0.042110037320397614, reg_lambda=0.0 will be ignored. Current value: lambda_l2=0.042110037320397614\n"
     ]
    },
    {
     "name": "stdout",
     "output_type": "stream",
     "text": [
      "[LightGBM] [Warning] min_data_in_leaf is set=879, min_child_samples=20 will be ignored. Current value: min_data_in_leaf=879\n",
      "[LightGBM] [Warning] lambda_l1 is set=1.277450950514973, reg_alpha=0.0 will be ignored. Current value: lambda_l1=1.277450950514973\n",
      "[LightGBM] [Warning] lambda_l2 is set=0.042110037320397614, reg_lambda=0.0 will be ignored. Current value: lambda_l2=0.042110037320397614\n",
      "[LightGBM] [Warning] min_data_in_leaf is set=108, min_child_samples=20 will be ignored. Current value: min_data_in_leaf=108\n",
      "[LightGBM] [Warning] lambda_l1 is set=0.27381252951579216, reg_alpha=0.0 will be ignored. Current value: lambda_l1=0.27381252951579216\n",
      "[LightGBM] [Warning] lambda_l2 is set=0.004638240455532023, reg_lambda=0.0 will be ignored. Current value: lambda_l2=0.004638240455532023\n",
      "[LightGBM] [Warning] min_data_in_leaf is set=108, min_child_samples=20 will be ignored. Current value: min_data_in_leaf=108\n",
      "[LightGBM] [Warning] lambda_l1 is set=0.27381252951579216, reg_alpha=0.0 will be ignored. Current value: lambda_l1=0.27381252951579216\n",
      "[LightGBM] [Warning] lambda_l2 is set=0.004638240455532023, reg_lambda=0.0 will be ignored. Current value: lambda_l2=0.004638240455532023\n",
      "[LightGBM] [Warning] min_data_in_leaf is set=108, min_child_samples=20 will be ignored. Current value: min_data_in_leaf=108\n",
      "[LightGBM] [Warning] lambda_l1 is set=0.27381252951579216, reg_alpha=0.0 will be ignored. Current value: lambda_l1=0.27381252951579216\n",
      "[LightGBM] [Warning] lambda_l2 is set=0.004638240455532023, reg_lambda=0.0 will be ignored. Current value: lambda_l2=0.004638240455532023\n",
      "[LightGBM] [Warning] min_data_in_leaf is set=985, min_child_samples=20 will be ignored. Current value: min_data_in_leaf=985\n",
      "[LightGBM] [Warning] lambda_l1 is set=0.11009166653155934, reg_alpha=0.0 will be ignored. Current value: lambda_l1=0.11009166653155934\n",
      "[LightGBM] [Warning] lambda_l2 is set=0.44678233331097017, reg_lambda=0.0 will be ignored. Current value: lambda_l2=0.44678233331097017\n",
      "[LightGBM] [Warning] min_data_in_leaf is set=985, min_child_samples=20 will be ignored. Current value: min_data_in_leaf=985\n",
      "[LightGBM] [Warning] lambda_l1 is set=0.11009166653155934, reg_alpha=0.0 will be ignored. Current value: lambda_l1=0.11009166653155934\n",
      "[LightGBM] [Warning] lambda_l2 is set=0.44678233331097017, reg_lambda=0.0 will be ignored. Current value: lambda_l2=0.44678233331097017\n",
      "[LightGBM] [Warning] min_data_in_leaf is set=985, min_child_samples=20 will be ignored. Current value: min_data_in_leaf=985\n",
      "[LightGBM] [Warning] lambda_l1 is set=0.11009166653155934, reg_alpha=0.0 will be ignored. Current value: lambda_l1=0.11009166653155934\n",
      "[LightGBM] [Warning] lambda_l2 is set=0.44678233331097017, reg_lambda=0.0 will be ignored. Current value: lambda_l2=0.44678233331097017\n",
      "[LightGBM] [Warning] min_data_in_leaf is set=318, min_child_samples=20 will be ignored. Current value: min_data_in_leaf=318\n",
      "[LightGBM] [Warning] lambda_l1 is set=0.04486309574876602, reg_alpha=0.0 will be ignored. Current value: lambda_l1=0.04486309574876602\n",
      "[LightGBM] [Warning] lambda_l2 is set=0.013932352116193179, reg_lambda=0.0 will be ignored. Current value: lambda_l2=0.013932352116193179\n",
      "[LightGBM] [Warning] min_data_in_leaf is set=318, min_child_samples=20 will be ignored. Current value: min_data_in_leaf=318\n",
      "[LightGBM] [Warning] lambda_l1 is set=0.04486309574876602, reg_alpha=0.0 will be ignored. Current value: lambda_l1=0.04486309574876602\n",
      "[LightGBM] [Warning] lambda_l2 is set=0.013932352116193179, reg_lambda=0.0 will be ignored. Current value: lambda_l2=0.013932352116193179\n",
      "[LightGBM] [Warning] min_data_in_leaf is set=318, min_child_samples=20 will be ignored. Current value: min_data_in_leaf=318\n",
      "[LightGBM] [Warning] lambda_l1 is set=0.04486309574876602, reg_alpha=0.0 will be ignored. Current value: lambda_l1=0.04486309574876602\n",
      "[LightGBM] [Warning] lambda_l2 is set=0.013932352116193179, reg_lambda=0.0 will be ignored. Current value: lambda_l2=0.013932352116193179\n",
      "[LightGBM] [Warning] min_data_in_leaf is set=325, min_child_samples=20 will be ignored. Current value: min_data_in_leaf=325\n",
      "[LightGBM] [Warning] lambda_l1 is set=0.027662749628560142, reg_alpha=0.0 will be ignored. Current value: lambda_l1=0.027662749628560142\n",
      "[LightGBM] [Warning] lambda_l2 is set=0.013894978005446956, reg_lambda=0.0 will be ignored. Current value: lambda_l2=0.013894978005446956\n",
      "[LightGBM] [Warning] min_data_in_leaf is set=325, min_child_samples=20 will be ignored. Current value: min_data_in_leaf=325\n",
      "[LightGBM] [Warning] lambda_l1 is set=0.027662749628560142, reg_alpha=0.0 will be ignored. Current value: lambda_l1=0.027662749628560142\n",
      "[LightGBM] [Warning] lambda_l2 is set=0.013894978005446956, reg_lambda=0.0 will be ignored. Current value: lambda_l2=0.013894978005446956\n",
      "[LightGBM] [Warning] min_data_in_leaf is set=325, min_child_samples=20 will be ignored. Current value: min_data_in_leaf=325\n",
      "[LightGBM] [Warning] lambda_l1 is set=0.027662749628560142, reg_alpha=0.0 will be ignored. Current value: lambda_l1=0.027662749628560142\n",
      "[LightGBM] [Warning] lambda_l2 is set=0.013894978005446956, reg_lambda=0.0 will be ignored. Current value: lambda_l2=0.013894978005446956\n",
      "[LightGBM] [Warning] min_data_in_leaf is set=342, min_child_samples=20 will be ignored. Current value: min_data_in_leaf=342\n",
      "[LightGBM] [Warning] lambda_l1 is set=0.01861361609074568, reg_alpha=0.0 will be ignored. Current value: lambda_l1=0.01861361609074568\n",
      "[LightGBM] [Warning] lambda_l2 is set=0.01847935165551237, reg_lambda=0.0 will be ignored. Current value: lambda_l2=0.01847935165551237\n",
      "[LightGBM] [Warning] min_data_in_leaf is set=342, min_child_samples=20 will be ignored. Current value: min_data_in_leaf=342\n",
      "[LightGBM] [Warning] lambda_l1 is set=0.01861361609074568, reg_alpha=0.0 will be ignored. Current value: lambda_l1=0.01861361609074568\n",
      "[LightGBM] [Warning] lambda_l2 is set=0.01847935165551237, reg_lambda=0.0 will be ignored. Current value: lambda_l2=0.01847935165551237\n",
      "[LightGBM] [Warning] min_data_in_leaf is set=342, min_child_samples=20 will be ignored. Current value: min_data_in_leaf=342\n",
      "[LightGBM] [Warning] lambda_l1 is set=0.01861361609074568, reg_alpha=0.0 will be ignored. Current value: lambda_l1=0.01861361609074568\n",
      "[LightGBM] [Warning] lambda_l2 is set=0.01847935165551237, reg_lambda=0.0 will be ignored. Current value: lambda_l2=0.01847935165551237\n",
      "[LightGBM] [Warning] min_data_in_leaf is set=367, min_child_samples=20 will be ignored. Current value: min_data_in_leaf=367\n",
      "[LightGBM] [Warning] lambda_l1 is set=0.022675450610241007, reg_alpha=0.0 will be ignored. Current value: lambda_l1=0.022675450610241007\n",
      "[LightGBM] [Warning] lambda_l2 is set=0.012204867932934774, reg_lambda=0.0 will be ignored. Current value: lambda_l2=0.012204867932934774\n",
      "[LightGBM] [Warning] min_data_in_leaf is set=367, min_child_samples=20 will be ignored. Current value: min_data_in_leaf=367\n",
      "[LightGBM] [Warning] lambda_l1 is set=0.022675450610241007, reg_alpha=0.0 will be ignored. Current value: lambda_l1=0.022675450610241007\n",
      "[LightGBM] [Warning] lambda_l2 is set=0.012204867932934774, reg_lambda=0.0 will be ignored. Current value: lambda_l2=0.012204867932934774\n",
      "[LightGBM] [Warning] min_data_in_leaf is set=367, min_child_samples=20 will be ignored. Current value: min_data_in_leaf=367\n",
      "[LightGBM] [Warning] lambda_l1 is set=0.022675450610241007, reg_alpha=0.0 will be ignored. Current value: lambda_l1=0.022675450610241007\n",
      "[LightGBM] [Warning] lambda_l2 is set=0.012204867932934774, reg_lambda=0.0 will be ignored. Current value: lambda_l2=0.012204867932934774\n",
      "[LightGBM] [Warning] min_data_in_leaf is set=651, min_child_samples=20 will be ignored. Current value: min_data_in_leaf=651\n",
      "[LightGBM] [Warning] lambda_l1 is set=0.0012246162033604628, reg_alpha=0.0 will be ignored. Current value: lambda_l1=0.0012246162033604628\n",
      "[LightGBM] [Warning] lambda_l2 is set=0.0010051972175017393, reg_lambda=0.0 will be ignored. Current value: lambda_l2=0.0010051972175017393\n",
      "[LightGBM] [Warning] min_data_in_leaf is set=651, min_child_samples=20 will be ignored. Current value: min_data_in_leaf=651\n",
      "[LightGBM] [Warning] lambda_l1 is set=0.0012246162033604628, reg_alpha=0.0 will be ignored. Current value: lambda_l1=0.0012246162033604628\n",
      "[LightGBM] [Warning] lambda_l2 is set=0.0010051972175017393, reg_lambda=0.0 will be ignored. Current value: lambda_l2=0.0010051972175017393\n",
      "[LightGBM] [Warning] min_data_in_leaf is set=651, min_child_samples=20 will be ignored. Current value: min_data_in_leaf=651\n",
      "[LightGBM] [Warning] lambda_l1 is set=0.0012246162033604628, reg_alpha=0.0 will be ignored. Current value: lambda_l1=0.0012246162033604628\n",
      "[LightGBM] [Warning] lambda_l2 is set=0.0010051972175017393, reg_lambda=0.0 will be ignored. Current value: lambda_l2=0.0010051972175017393\n",
      "[LightGBM] [Warning] min_data_in_leaf is set=269, min_child_samples=20 will be ignored. Current value: min_data_in_leaf=269\n",
      "[LightGBM] [Warning] lambda_l1 is set=0.01825806628290198, reg_alpha=0.0 will be ignored. Current value: lambda_l1=0.01825806628290198\n",
      "[LightGBM] [Warning] lambda_l2 is set=0.08194877959271078, reg_lambda=0.0 will be ignored. Current value: lambda_l2=0.08194877959271078\n"
     ]
    },
    {
     "name": "stdout",
     "output_type": "stream",
     "text": [
      "[LightGBM] [Warning] min_data_in_leaf is set=269, min_child_samples=20 will be ignored. Current value: min_data_in_leaf=269\n",
      "[LightGBM] [Warning] lambda_l1 is set=0.01825806628290198, reg_alpha=0.0 will be ignored. Current value: lambda_l1=0.01825806628290198\n",
      "[LightGBM] [Warning] lambda_l2 is set=0.08194877959271078, reg_lambda=0.0 will be ignored. Current value: lambda_l2=0.08194877959271078\n",
      "[LightGBM] [Warning] min_data_in_leaf is set=269, min_child_samples=20 will be ignored. Current value: min_data_in_leaf=269\n",
      "[LightGBM] [Warning] lambda_l1 is set=0.01825806628290198, reg_alpha=0.0 will be ignored. Current value: lambda_l1=0.01825806628290198\n",
      "[LightGBM] [Warning] lambda_l2 is set=0.08194877959271078, reg_lambda=0.0 will be ignored. Current value: lambda_l2=0.08194877959271078\n",
      "[LightGBM] [Warning] min_data_in_leaf is set=485, min_child_samples=20 will be ignored. Current value: min_data_in_leaf=485\n",
      "[LightGBM] [Warning] lambda_l1 is set=0.07151682723504262, reg_alpha=0.0 will be ignored. Current value: lambda_l1=0.07151682723504262\n",
      "[LightGBM] [Warning] lambda_l2 is set=0.00863869331800851, reg_lambda=0.0 will be ignored. Current value: lambda_l2=0.00863869331800851\n",
      "[LightGBM] [Warning] min_data_in_leaf is set=485, min_child_samples=20 will be ignored. Current value: min_data_in_leaf=485\n",
      "[LightGBM] [Warning] lambda_l1 is set=0.07151682723504262, reg_alpha=0.0 will be ignored. Current value: lambda_l1=0.07151682723504262\n",
      "[LightGBM] [Warning] lambda_l2 is set=0.00863869331800851, reg_lambda=0.0 will be ignored. Current value: lambda_l2=0.00863869331800851\n",
      "[LightGBM] [Warning] min_data_in_leaf is set=485, min_child_samples=20 will be ignored. Current value: min_data_in_leaf=485\n",
      "[LightGBM] [Warning] lambda_l1 is set=0.07151682723504262, reg_alpha=0.0 will be ignored. Current value: lambda_l1=0.07151682723504262\n",
      "[LightGBM] [Warning] lambda_l2 is set=0.00863869331800851, reg_lambda=0.0 will be ignored. Current value: lambda_l2=0.00863869331800851\n",
      "[LightGBM] [Warning] min_data_in_leaf is set=648, min_child_samples=20 will be ignored. Current value: min_data_in_leaf=648\n",
      "[LightGBM] [Warning] lambda_l1 is set=0.00588492125531179, reg_alpha=0.0 will be ignored. Current value: lambda_l1=0.00588492125531179\n",
      "[LightGBM] [Warning] lambda_l2 is set=1.7393486137618874, reg_lambda=0.0 will be ignored. Current value: lambda_l2=1.7393486137618874\n",
      "[LightGBM] [Warning] min_data_in_leaf is set=648, min_child_samples=20 will be ignored. Current value: min_data_in_leaf=648\n",
      "[LightGBM] [Warning] lambda_l1 is set=0.00588492125531179, reg_alpha=0.0 will be ignored. Current value: lambda_l1=0.00588492125531179\n",
      "[LightGBM] [Warning] lambda_l2 is set=1.7393486137618874, reg_lambda=0.0 will be ignored. Current value: lambda_l2=1.7393486137618874\n",
      "[LightGBM] [Warning] min_data_in_leaf is set=648, min_child_samples=20 will be ignored. Current value: min_data_in_leaf=648\n",
      "[LightGBM] [Warning] lambda_l1 is set=0.00588492125531179, reg_alpha=0.0 will be ignored. Current value: lambda_l1=0.00588492125531179\n",
      "[LightGBM] [Warning] lambda_l2 is set=1.7393486137618874, reg_lambda=0.0 will be ignored. Current value: lambda_l2=1.7393486137618874\n",
      "[LightGBM] [Warning] min_data_in_leaf is set=225, min_child_samples=20 will be ignored. Current value: min_data_in_leaf=225\n",
      "[LightGBM] [Warning] lambda_l1 is set=0.06484977735978974, reg_alpha=0.0 will be ignored. Current value: lambda_l1=0.06484977735978974\n",
      "[LightGBM] [Warning] lambda_l2 is set=0.04391981883645227, reg_lambda=0.0 will be ignored. Current value: lambda_l2=0.04391981883645227\n",
      "[LightGBM] [Warning] min_data_in_leaf is set=225, min_child_samples=20 will be ignored. Current value: min_data_in_leaf=225\n",
      "[LightGBM] [Warning] lambda_l1 is set=0.06484977735978974, reg_alpha=0.0 will be ignored. Current value: lambda_l1=0.06484977735978974\n",
      "[LightGBM] [Warning] lambda_l2 is set=0.04391981883645227, reg_lambda=0.0 will be ignored. Current value: lambda_l2=0.04391981883645227\n",
      "[LightGBM] [Warning] min_data_in_leaf is set=225, min_child_samples=20 will be ignored. Current value: min_data_in_leaf=225\n",
      "[LightGBM] [Warning] lambda_l1 is set=0.06484977735978974, reg_alpha=0.0 will be ignored. Current value: lambda_l1=0.06484977735978974\n",
      "[LightGBM] [Warning] lambda_l2 is set=0.04391981883645227, reg_lambda=0.0 will be ignored. Current value: lambda_l2=0.04391981883645227\n",
      "[LightGBM] [Warning] min_data_in_leaf is set=480, min_child_samples=20 will be ignored. Current value: min_data_in_leaf=480\n",
      "[LightGBM] [Warning] lambda_l1 is set=0.004586756267767281, reg_alpha=0.0 will be ignored. Current value: lambda_l1=0.004586756267767281\n",
      "[LightGBM] [Warning] lambda_l2 is set=73.36553186164696, reg_lambda=0.0 will be ignored. Current value: lambda_l2=73.36553186164696\n",
      "[LightGBM] [Warning] min_data_in_leaf is set=480, min_child_samples=20 will be ignored. Current value: min_data_in_leaf=480\n",
      "[LightGBM] [Warning] lambda_l1 is set=0.004586756267767281, reg_alpha=0.0 will be ignored. Current value: lambda_l1=0.004586756267767281\n",
      "[LightGBM] [Warning] lambda_l2 is set=73.36553186164696, reg_lambda=0.0 will be ignored. Current value: lambda_l2=73.36553186164696\n",
      "[LightGBM] [Warning] min_data_in_leaf is set=480, min_child_samples=20 will be ignored. Current value: min_data_in_leaf=480\n",
      "[LightGBM] [Warning] lambda_l1 is set=0.004586756267767281, reg_alpha=0.0 will be ignored. Current value: lambda_l1=0.004586756267767281\n",
      "[LightGBM] [Warning] lambda_l2 is set=73.36553186164696, reg_lambda=0.0 will be ignored. Current value: lambda_l2=73.36553186164696\n",
      "[LightGBM] [Warning] min_data_in_leaf is set=377, min_child_samples=20 will be ignored. Current value: min_data_in_leaf=377\n",
      "[LightGBM] [Warning] lambda_l1 is set=0.17243370914601794, reg_alpha=0.0 will be ignored. Current value: lambda_l1=0.17243370914601794\n",
      "[LightGBM] [Warning] lambda_l2 is set=0.1271767600045098, reg_lambda=0.0 will be ignored. Current value: lambda_l2=0.1271767600045098\n",
      "[LightGBM] [Warning] min_data_in_leaf is set=377, min_child_samples=20 will be ignored. Current value: min_data_in_leaf=377\n",
      "[LightGBM] [Warning] lambda_l1 is set=0.17243370914601794, reg_alpha=0.0 will be ignored. Current value: lambda_l1=0.17243370914601794\n",
      "[LightGBM] [Warning] lambda_l2 is set=0.1271767600045098, reg_lambda=0.0 will be ignored. Current value: lambda_l2=0.1271767600045098\n",
      "[LightGBM] [Warning] min_data_in_leaf is set=377, min_child_samples=20 will be ignored. Current value: min_data_in_leaf=377\n",
      "[LightGBM] [Warning] lambda_l1 is set=0.17243370914601794, reg_alpha=0.0 will be ignored. Current value: lambda_l1=0.17243370914601794\n",
      "[LightGBM] [Warning] lambda_l2 is set=0.1271767600045098, reg_lambda=0.0 will be ignored. Current value: lambda_l2=0.1271767600045098\n",
      "[LightGBM] [Warning] min_data_in_leaf is set=403, min_child_samples=20 will be ignored. Current value: min_data_in_leaf=403\n",
      "[LightGBM] [Warning] lambda_l1 is set=0.030788235940934897, reg_alpha=0.0 will be ignored. Current value: lambda_l1=0.030788235940934897\n",
      "[LightGBM] [Warning] lambda_l2 is set=0.015813007358120513, reg_lambda=0.0 will be ignored. Current value: lambda_l2=0.015813007358120513\n",
      "[LightGBM] [Warning] min_data_in_leaf is set=403, min_child_samples=20 will be ignored. Current value: min_data_in_leaf=403\n",
      "[LightGBM] [Warning] lambda_l1 is set=0.030788235940934897, reg_alpha=0.0 will be ignored. Current value: lambda_l1=0.030788235940934897\n",
      "[LightGBM] [Warning] lambda_l2 is set=0.015813007358120513, reg_lambda=0.0 will be ignored. Current value: lambda_l2=0.015813007358120513\n",
      "[LightGBM] [Warning] min_data_in_leaf is set=403, min_child_samples=20 will be ignored. Current value: min_data_in_leaf=403\n",
      "[LightGBM] [Warning] lambda_l1 is set=0.030788235940934897, reg_alpha=0.0 will be ignored. Current value: lambda_l1=0.030788235940934897\n",
      "[LightGBM] [Warning] lambda_l2 is set=0.015813007358120513, reg_lambda=0.0 will be ignored. Current value: lambda_l2=0.015813007358120513\n",
      "[LightGBM] [Warning] min_data_in_leaf is set=279, min_child_samples=20 will be ignored. Current value: min_data_in_leaf=279\n",
      "[LightGBM] [Warning] lambda_l1 is set=0.007487689181707262, reg_alpha=0.0 will be ignored. Current value: lambda_l1=0.007487689181707262\n",
      "[LightGBM] [Warning] lambda_l2 is set=0.02104554494254849, reg_lambda=0.0 will be ignored. Current value: lambda_l2=0.02104554494254849\n",
      "[LightGBM] [Warning] min_data_in_leaf is set=279, min_child_samples=20 will be ignored. Current value: min_data_in_leaf=279\n",
      "[LightGBM] [Warning] lambda_l1 is set=0.007487689181707262, reg_alpha=0.0 will be ignored. Current value: lambda_l1=0.007487689181707262\n",
      "[LightGBM] [Warning] lambda_l2 is set=0.02104554494254849, reg_lambda=0.0 will be ignored. Current value: lambda_l2=0.02104554494254849\n",
      "[LightGBM] [Warning] min_data_in_leaf is set=279, min_child_samples=20 will be ignored. Current value: min_data_in_leaf=279\n",
      "[LightGBM] [Warning] lambda_l1 is set=0.007487689181707262, reg_alpha=0.0 will be ignored. Current value: lambda_l1=0.007487689181707262\n",
      "[LightGBM] [Warning] lambda_l2 is set=0.02104554494254849, reg_lambda=0.0 will be ignored. Current value: lambda_l2=0.02104554494254849\n"
     ]
    },
    {
     "name": "stdout",
     "output_type": "stream",
     "text": [
      "[LightGBM] [Warning] min_data_in_leaf is set=277, min_child_samples=20 will be ignored. Current value: min_data_in_leaf=277\n",
      "[LightGBM] [Warning] lambda_l1 is set=0.006408111135025746, reg_alpha=0.0 will be ignored. Current value: lambda_l1=0.006408111135025746\n",
      "[LightGBM] [Warning] lambda_l2 is set=0.004677695921007822, reg_lambda=0.0 will be ignored. Current value: lambda_l2=0.004677695921007822\n",
      "[LightGBM] [Warning] min_data_in_leaf is set=277, min_child_samples=20 will be ignored. Current value: min_data_in_leaf=277\n",
      "[LightGBM] [Warning] lambda_l1 is set=0.006408111135025746, reg_alpha=0.0 will be ignored. Current value: lambda_l1=0.006408111135025746\n",
      "[LightGBM] [Warning] lambda_l2 is set=0.004677695921007822, reg_lambda=0.0 will be ignored. Current value: lambda_l2=0.004677695921007822\n",
      "[LightGBM] [Warning] min_data_in_leaf is set=277, min_child_samples=20 will be ignored. Current value: min_data_in_leaf=277\n",
      "[LightGBM] [Warning] lambda_l1 is set=0.006408111135025746, reg_alpha=0.0 will be ignored. Current value: lambda_l1=0.006408111135025746\n",
      "[LightGBM] [Warning] lambda_l2 is set=0.004677695921007822, reg_lambda=0.0 will be ignored. Current value: lambda_l2=0.004677695921007822\n",
      "[LightGBM] [Warning] min_data_in_leaf is set=24, min_child_samples=20 will be ignored. Current value: min_data_in_leaf=24\n",
      "[LightGBM] [Warning] lambda_l1 is set=0.010706169670945542, reg_alpha=0.0 will be ignored. Current value: lambda_l1=0.010706169670945542\n",
      "[LightGBM] [Warning] lambda_l2 is set=0.04424633427781583, reg_lambda=0.0 will be ignored. Current value: lambda_l2=0.04424633427781583\n",
      "[LightGBM] [Warning] min_data_in_leaf is set=24, min_child_samples=20 will be ignored. Current value: min_data_in_leaf=24\n",
      "[LightGBM] [Warning] lambda_l1 is set=0.010706169670945542, reg_alpha=0.0 will be ignored. Current value: lambda_l1=0.010706169670945542\n",
      "[LightGBM] [Warning] lambda_l2 is set=0.04424633427781583, reg_lambda=0.0 will be ignored. Current value: lambda_l2=0.04424633427781583\n",
      "[LightGBM] [Warning] min_data_in_leaf is set=24, min_child_samples=20 will be ignored. Current value: min_data_in_leaf=24\n",
      "[LightGBM] [Warning] lambda_l1 is set=0.010706169670945542, reg_alpha=0.0 will be ignored. Current value: lambda_l1=0.010706169670945542\n",
      "[LightGBM] [Warning] lambda_l2 is set=0.04424633427781583, reg_lambda=0.0 will be ignored. Current value: lambda_l2=0.04424633427781583\n",
      "[LightGBM] [Warning] min_data_in_leaf is set=212, min_child_samples=20 will be ignored. Current value: min_data_in_leaf=212\n",
      "[LightGBM] [Warning] lambda_l1 is set=0.045677790593207535, reg_alpha=0.0 will be ignored. Current value: lambda_l1=0.045677790593207535\n",
      "[LightGBM] [Warning] lambda_l2 is set=0.25490648296994106, reg_lambda=0.0 will be ignored. Current value: lambda_l2=0.25490648296994106\n",
      "[LightGBM] [Warning] min_data_in_leaf is set=212, min_child_samples=20 will be ignored. Current value: min_data_in_leaf=212\n",
      "[LightGBM] [Warning] lambda_l1 is set=0.045677790593207535, reg_alpha=0.0 will be ignored. Current value: lambda_l1=0.045677790593207535\n",
      "[LightGBM] [Warning] lambda_l2 is set=0.25490648296994106, reg_lambda=0.0 will be ignored. Current value: lambda_l2=0.25490648296994106\n",
      "[LightGBM] [Warning] min_data_in_leaf is set=212, min_child_samples=20 will be ignored. Current value: min_data_in_leaf=212\n",
      "[LightGBM] [Warning] lambda_l1 is set=0.045677790593207535, reg_alpha=0.0 will be ignored. Current value: lambda_l1=0.045677790593207535\n",
      "[LightGBM] [Warning] lambda_l2 is set=0.25490648296994106, reg_lambda=0.0 will be ignored. Current value: lambda_l2=0.25490648296994106\n",
      "[LightGBM] [Warning] min_data_in_leaf is set=579, min_child_samples=20 will be ignored. Current value: min_data_in_leaf=579\n",
      "[LightGBM] [Warning] lambda_l1 is set=0.0033924995149752935, reg_alpha=0.0 will be ignored. Current value: lambda_l1=0.0033924995149752935\n",
      "[LightGBM] [Warning] lambda_l2 is set=0.00196003873931053, reg_lambda=0.0 will be ignored. Current value: lambda_l2=0.00196003873931053\n",
      "[LightGBM] [Warning] min_data_in_leaf is set=579, min_child_samples=20 will be ignored. Current value: min_data_in_leaf=579\n",
      "[LightGBM] [Warning] lambda_l1 is set=0.0033924995149752935, reg_alpha=0.0 will be ignored. Current value: lambda_l1=0.0033924995149752935\n",
      "[LightGBM] [Warning] lambda_l2 is set=0.00196003873931053, reg_lambda=0.0 will be ignored. Current value: lambda_l2=0.00196003873931053\n",
      "[LightGBM] [Warning] min_data_in_leaf is set=579, min_child_samples=20 will be ignored. Current value: min_data_in_leaf=579\n",
      "[LightGBM] [Warning] lambda_l1 is set=0.0033924995149752935, reg_alpha=0.0 will be ignored. Current value: lambda_l1=0.0033924995149752935\n",
      "[LightGBM] [Warning] lambda_l2 is set=0.00196003873931053, reg_lambda=0.0 will be ignored. Current value: lambda_l2=0.00196003873931053\n",
      "[LightGBM] [Warning] min_data_in_leaf is set=282, min_child_samples=20 will be ignored. Current value: min_data_in_leaf=282\n",
      "[LightGBM] [Warning] lambda_l1 is set=0.009275208381367682, reg_alpha=0.0 will be ignored. Current value: lambda_l1=0.009275208381367682\n",
      "[LightGBM] [Warning] lambda_l2 is set=0.025583354354010525, reg_lambda=0.0 will be ignored. Current value: lambda_l2=0.025583354354010525\n",
      "[LightGBM] [Warning] min_data_in_leaf is set=282, min_child_samples=20 will be ignored. Current value: min_data_in_leaf=282\n",
      "[LightGBM] [Warning] lambda_l1 is set=0.009275208381367682, reg_alpha=0.0 will be ignored. Current value: lambda_l1=0.009275208381367682\n",
      "[LightGBM] [Warning] lambda_l2 is set=0.025583354354010525, reg_lambda=0.0 will be ignored. Current value: lambda_l2=0.025583354354010525\n",
      "[LightGBM] [Warning] min_data_in_leaf is set=282, min_child_samples=20 will be ignored. Current value: min_data_in_leaf=282\n",
      "[LightGBM] [Warning] lambda_l1 is set=0.009275208381367682, reg_alpha=0.0 will be ignored. Current value: lambda_l1=0.009275208381367682\n",
      "[LightGBM] [Warning] lambda_l2 is set=0.025583354354010525, reg_lambda=0.0 will be ignored. Current value: lambda_l2=0.025583354354010525\n",
      "[LightGBM] [Warning] min_data_in_leaf is set=432, min_child_samples=20 will be ignored. Current value: min_data_in_leaf=432\n",
      "[LightGBM] [Warning] lambda_l1 is set=0.0010207428392587589, reg_alpha=0.0 will be ignored. Current value: lambda_l1=0.0010207428392587589\n",
      "[LightGBM] [Warning] lambda_l2 is set=0.005063417528636757, reg_lambda=0.0 will be ignored. Current value: lambda_l2=0.005063417528636757\n",
      "[LightGBM] [Warning] min_data_in_leaf is set=432, min_child_samples=20 will be ignored. Current value: min_data_in_leaf=432\n",
      "[LightGBM] [Warning] lambda_l1 is set=0.0010207428392587589, reg_alpha=0.0 will be ignored. Current value: lambda_l1=0.0010207428392587589\n",
      "[LightGBM] [Warning] lambda_l2 is set=0.005063417528636757, reg_lambda=0.0 will be ignored. Current value: lambda_l2=0.005063417528636757\n",
      "[LightGBM] [Warning] min_data_in_leaf is set=432, min_child_samples=20 will be ignored. Current value: min_data_in_leaf=432\n",
      "[LightGBM] [Warning] lambda_l1 is set=0.0010207428392587589, reg_alpha=0.0 will be ignored. Current value: lambda_l1=0.0010207428392587589\n",
      "[LightGBM] [Warning] lambda_l2 is set=0.005063417528636757, reg_lambda=0.0 will be ignored. Current value: lambda_l2=0.005063417528636757\n",
      "[LightGBM] [Warning] min_data_in_leaf is set=311, min_child_samples=20 will be ignored. Current value: min_data_in_leaf=311\n",
      "[LightGBM] [Warning] lambda_l1 is set=0.2503437338217811, reg_alpha=0.0 will be ignored. Current value: lambda_l1=0.2503437338217811\n",
      "[LightGBM] [Warning] lambda_l2 is set=1.0973268019528792, reg_lambda=0.0 will be ignored. Current value: lambda_l2=1.0973268019528792\n",
      "[LightGBM] [Warning] min_data_in_leaf is set=311, min_child_samples=20 will be ignored. Current value: min_data_in_leaf=311\n",
      "[LightGBM] [Warning] lambda_l1 is set=0.2503437338217811, reg_alpha=0.0 will be ignored. Current value: lambda_l1=0.2503437338217811\n",
      "[LightGBM] [Warning] lambda_l2 is set=1.0973268019528792, reg_lambda=0.0 will be ignored. Current value: lambda_l2=1.0973268019528792\n",
      "[LightGBM] [Warning] min_data_in_leaf is set=311, min_child_samples=20 will be ignored. Current value: min_data_in_leaf=311\n",
      "[LightGBM] [Warning] lambda_l1 is set=0.2503437338217811, reg_alpha=0.0 will be ignored. Current value: lambda_l1=0.2503437338217811\n",
      "[LightGBM] [Warning] lambda_l2 is set=1.0973268019528792, reg_lambda=0.0 will be ignored. Current value: lambda_l2=1.0973268019528792\n"
     ]
    }
   ],
   "source": [
    "study1 = optuna.create_study(direction=\"maximize\", study_name=\"LGBR1\")\n",
    "\n",
    "\n",
    "def func(trial):\n",
    "    return objective_lgb(trial,\n",
    "                         offer_rank,\n",
    "                         y_col=\"order\"\n",
    "                        )\n",
    "\n",
    "optuna.logging.set_verbosity(optuna.logging.WARNING)\n",
    "study1.optimize(func, n_trials=30, show_progress_bar=True)"
   ]
  },
  {
   "cell_type": "code",
   "execution_count": 2439,
   "metadata": {},
   "outputs": [
    {
     "data": {
      "text/plain": [
       "{'n_estimators': 100,\n",
       " 'learning_rate': 0.16769407726089694,\n",
       " 'max_depth': 1,\n",
       " 'min_data_in_leaf': 279,\n",
       " 'lambda_l1': 0.007487689181707262,\n",
       " 'lambda_l2': 0.02104554494254849,\n",
       " 'objective': 'lambdarank',\n",
       " 'metric': 'ndcg',\n",
       " 'random_state': 42}"
      ]
     },
     "execution_count": 2439,
     "metadata": {},
     "output_type": "execute_result"
    }
   ],
   "source": [
    "study1.best_params"
   ]
  },
  {
   "cell_type": "code",
   "execution_count": 2440,
   "metadata": {},
   "outputs": [
    {
     "name": "stdout",
     "output_type": "stream",
     "text": [
      "[LightGBM] [Warning] min_data_in_leaf is set=279, min_child_samples=20 will be ignored. Current value: min_data_in_leaf=279\n",
      "[LightGBM] [Warning] lambda_l1 is set=0.007487689181707262, reg_alpha=0.0 will be ignored. Current value: lambda_l1=0.007487689181707262\n",
      "[LightGBM] [Warning] lambda_l2 is set=0.02104554494254849, reg_lambda=0.0 will be ignored. Current value: lambda_l2=0.02104554494254849\n",
      "[10]\tvalid_0's ndcg@1: 0.948211\tvalid_0's ndcg@2: 0.979523\tvalid_0's ndcg@3: 0.977392\tvalid_0's ndcg@4: 0.980277\tvalid_0's ndcg@5: 0.9803\n",
      "[20]\tvalid_0's ndcg@1: 0.948211\tvalid_0's ndcg@2: 0.979853\tvalid_0's ndcg@3: 0.977456\tvalid_0's ndcg@4: 0.98034\tvalid_0's ndcg@5: 0.980363\n",
      "[30]\tvalid_0's ndcg@1: 0.948211\tvalid_0's ndcg@2: 0.980393\tvalid_0's ndcg@3: 0.977562\tvalid_0's ndcg@4: 0.980446\tvalid_0's ndcg@5: 0.980469\n",
      "[40]\tvalid_0's ndcg@1: 0.948211\tvalid_0's ndcg@2: 0.980393\tvalid_0's ndcg@3: 0.977562\tvalid_0's ndcg@4: 0.980446\tvalid_0's ndcg@5: 0.980469\n",
      "[50]\tvalid_0's ndcg@1: 0.948211\tvalid_0's ndcg@2: 0.981055\tvalid_0's ndcg@3: 0.977699\tvalid_0's ndcg@4: 0.980583\tvalid_0's ndcg@5: 0.980606\n",
      "[60]\tvalid_0's ndcg@1: 0.948211\tvalid_0's ndcg@2: 0.980694\tvalid_0's ndcg@3: 0.977628\tvalid_0's ndcg@4: 0.980512\tvalid_0's ndcg@5: 0.980535\n",
      "[70]\tvalid_0's ndcg@1: 0.949057\tvalid_0's ndcg@2: 0.980952\tvalid_0's ndcg@3: 0.978224\tvalid_0's ndcg@4: 0.980817\tvalid_0's ndcg@5: 0.98084\n",
      "[80]\tvalid_0's ndcg@1: 0.949057\tvalid_0's ndcg@2: 0.980952\tvalid_0's ndcg@3: 0.978224\tvalid_0's ndcg@4: 0.980817\tvalid_0's ndcg@5: 0.98084\n",
      "[90]\tvalid_0's ndcg@1: 0.949057\tvalid_0's ndcg@2: 0.980952\tvalid_0's ndcg@3: 0.978224\tvalid_0's ndcg@4: 0.980817\tvalid_0's ndcg@5: 0.98084\n",
      "[100]\tvalid_0's ndcg@1: 0.949057\tvalid_0's ndcg@2: 0.980952\tvalid_0's ndcg@3: 0.978292\tvalid_0's ndcg@4: 0.980826\tvalid_0's ndcg@5: 0.980849\n"
     ]
    },
    {
     "data": {
      "text/plain": [
       "LGBMRanker(lambda_l1=0.007487689181707262, lambda_l2=0.02104554494254849,\n",
       "           learning_rate=0.16769407726089694, max_depth=1, metric='ndcg',\n",
       "           min_data_in_leaf=279, objective='lambdarank', random_state=42)"
      ]
     },
     "execution_count": 2440,
     "metadata": {},
     "output_type": "execute_result"
    }
   ],
   "source": [
    "best_params_ver1 = study1.best_params\n",
    "lgbmr_optuna1 = lightgbm.LGBMRanker(**best_params_ver1)\n",
    "lgbmr_optuna1.fit(X_train,\n",
    "                  y_train_order,\n",
    "                  group=qids_train,\n",
    "                  eval_set=[(X_validation, y_validation_order)],\n",
    "                  eval_group=[qids_validation],\n",
    "                  eval_metric=\"ndcg\",\n",
    "                  early_stopping_rounds=100,\n",
    "                  verbose=10,)"
   ]
  },
  {
   "cell_type": "code",
   "execution_count": 2441,
   "metadata": {},
   "outputs": [
    {
     "data": {
      "text/plain": [
       "0.9903674955552922"
      ]
     },
     "execution_count": 2441,
     "metadata": {},
     "output_type": "execute_result"
    }
   ],
   "source": [
    "# метрика выросла\n",
    "ndcg_score([y_validation_order], [lgbmr_optuna1.predict(X_validation)])"
   ]
  },
  {
   "cell_type": "code",
   "execution_count": 2442,
   "metadata": {},
   "outputs": [
    {
     "data": {
      "image/png": "[encoded data removed]",
      "text/plain": [
       "<Figure size 640x480 with 1 Axes>"
      ]
     },
     "metadata": {},
     "output_type": "display_data"
    }
   ],
   "source": [
    "feature_importance_chart(lgbmr_optuna1, X_validation)"
   ]
  },
  {
   "cell_type": "code",
   "execution_count": 2567,
   "metadata": {},
   "outputs": [
    {
     "name": "stdout",
     "output_type": "stream",
     "text": [
      "      order  id      rank  rank_number    sellerDisplayName\n",
      "2998      0   1 -0.530224          0.0         Maison Rouge\n",
      "2999      1   1  0.062572          1.0  Adina's Beauty Shop\n",
      "3000      2   1  1.473222          2.0          Walmart.com\n",
      "3001      3   1  5.958217          3.0            SS-BEAUTY\n",
      "3006      0   3 -0.530224          0.0         Maison Rouge\n",
      "3007      1   3  0.062572          1.0  Adina's Beauty Shop\n",
      "3008      2   3  1.473222          2.0          Walmart.com\n",
      "3009      3   3  5.958217          3.0            SS-BEAUTY\n",
      "3014      0   5 -0.530224          0.0         Maison Rouge\n",
      "3015      1   5  0.062572          1.0  Adina's Beauty Shop\n",
      "\n",
      "Доля выигранных витрин по предсказанию модели (bbwin=0): 0.8858\n",
      "\n",
      "Прогнозируемый усредненный рейтинг продацов:\n"
     ]
    },
    {
     "data": {
      "text/html": [
       "<div>\n",
       "<style scoped>\n",
       "    .dataframe tbody tr th:only-of-type {\n",
       "        vertical-align: middle;\n",
       "    }\n",
       "\n",
       "    .dataframe tbody tr th {\n",
       "        vertical-align: top;\n",
       "    }\n",
       "\n",
       "    .dataframe thead th {\n",
       "        text-align: right;\n",
       "    }\n",
       "</style>\n",
       "<table border=\"1\" class=\"dataframe\">\n",
       "  <thead>\n",
       "    <tr style=\"text-align: right;\">\n",
       "      <th></th>\n",
       "      <th>sellerDisplayName</th>\n",
       "      <th>rank</th>\n",
       "      <th>rank_seller</th>\n",
       "    </tr>\n",
       "  </thead>\n",
       "  <tbody>\n",
       "    <tr>\n",
       "      <th>0</th>\n",
       "      <td>Adina's Beauty Shop</td>\n",
       "      <td>-1.740875</td>\n",
       "      <td>1.0</td>\n",
       "    </tr>\n",
       "    <tr>\n",
       "      <th>1</th>\n",
       "      <td>Exotic Pro</td>\n",
       "      <td>-0.530224</td>\n",
       "      <td>2.0</td>\n",
       "    </tr>\n",
       "    <tr>\n",
       "      <th>3</th>\n",
       "      <td>Maison Rouge</td>\n",
       "      <td>-0.396670</td>\n",
       "      <td>3.0</td>\n",
       "    </tr>\n",
       "    <tr>\n",
       "      <th>6</th>\n",
       "      <td>thanks2you</td>\n",
       "      <td>-0.296993</td>\n",
       "      <td>4.0</td>\n",
       "    </tr>\n",
       "    <tr>\n",
       "      <th>2</th>\n",
       "      <td>Fit &amp; Fab</td>\n",
       "      <td>0.345407</td>\n",
       "      <td>5.0</td>\n",
       "    </tr>\n",
       "    <tr>\n",
       "      <th>5</th>\n",
       "      <td>Walmart.com</td>\n",
       "      <td>2.149692</td>\n",
       "      <td>6.0</td>\n",
       "    </tr>\n",
       "    <tr>\n",
       "      <th>4</th>\n",
       "      <td>SS-BEAUTY</td>\n",
       "      <td>5.264673</td>\n",
       "      <td>7.0</td>\n",
       "    </tr>\n",
       "  </tbody>\n",
       "</table>\n",
       "</div>"
      ],
      "text/plain": [
       "     sellerDisplayName      rank  rank_seller\n",
       "0  Adina's Beauty Shop -1.740875          1.0\n",
       "1           Exotic Pro -0.530224          2.0\n",
       "3         Maison Rouge -0.396670          3.0\n",
       "6           thanks2you -0.296993          4.0\n",
       "2            Fit & Fab  0.345407          5.0\n",
       "5          Walmart.com  2.149692          6.0\n",
       "4            SS-BEAUTY  5.264673          7.0"
      ]
     },
     "execution_count": 2567,
     "metadata": {},
     "output_type": "execute_result"
    }
   ],
   "source": [
    "prediction_rank_table(test_data, lgbmr_optuna1, X_validation, sellerDisplayName_test, 'order', 10)\n",
    "# но доля выигранных витрин снизилась"
   ]
  },
  {
   "cell_type": "code",
   "execution_count": null,
   "metadata": {},
   "outputs": [],
   "source": [
    "# Доля выигранных витрин снизилась, а продавец Adina's Beauty Shop полнялся в ТОП рекомендации.\n",
    "# Модель лучшая по качеству прогнозирования ранга на всех позициях в витрине."
   ]
  },
  {
   "cell_type": "code",
   "execution_count": null,
   "metadata": {},
   "outputs": [],
   "source": []
  },
  {
   "cell_type": "markdown",
   "metadata": {},
   "source": [
    "# Модель 2 настройка на 2 ранга (0 выиграл и 1 проиграл)"
   ]
  },
  {
   "cell_type": "code",
   "execution_count": 2450,
   "metadata": {},
   "outputs": [
    {
     "data": {
      "application/vnd.jupyter.widget-view+json": {
       "model_id": "ee8994cc4ea644cfa1805ac5e640149f",
       "version_major": 2,
       "version_minor": 0
      },
      "text/plain": [
       "  0%|          | 0/30 [00:00<?, ?it/s]"
      ]
     },
     "metadata": {},
     "output_type": "display_data"
    },
    {
     "name": "stdout",
     "output_type": "stream",
     "text": [
      "[LightGBM] [Warning] min_data_in_leaf is set=185, min_child_samples=20 will be ignored. Current value: min_data_in_leaf=185\n",
      "[LightGBM] [Warning] lambda_l1 is set=1.2440351406926076, reg_alpha=0.0 will be ignored. Current value: lambda_l1=1.2440351406926076\n",
      "[LightGBM] [Warning] lambda_l2 is set=30.354971464095616, reg_lambda=0.0 will be ignored. Current value: lambda_l2=30.354971464095616\n",
      "[LightGBM] [Warning] min_data_in_leaf is set=185, min_child_samples=20 will be ignored. Current value: min_data_in_leaf=185\n",
      "[LightGBM] [Warning] lambda_l1 is set=1.2440351406926076, reg_alpha=0.0 will be ignored. Current value: lambda_l1=1.2440351406926076\n",
      "[LightGBM] [Warning] lambda_l2 is set=30.354971464095616, reg_lambda=0.0 will be ignored. Current value: lambda_l2=30.354971464095616\n",
      "[LightGBM] [Warning] min_data_in_leaf is set=185, min_child_samples=20 will be ignored. Current value: min_data_in_leaf=185\n",
      "[LightGBM] [Warning] lambda_l1 is set=1.2440351406926076, reg_alpha=0.0 will be ignored. Current value: lambda_l1=1.2440351406926076\n",
      "[LightGBM] [Warning] lambda_l2 is set=30.354971464095616, reg_lambda=0.0 will be ignored. Current value: lambda_l2=30.354971464095616\n",
      "[LightGBM] [Warning] min_data_in_leaf is set=171, min_child_samples=20 will be ignored. Current value: min_data_in_leaf=171\n",
      "[LightGBM] [Warning] lambda_l1 is set=0.0010993435768684842, reg_alpha=0.0 will be ignored. Current value: lambda_l1=0.0010993435768684842\n",
      "[LightGBM] [Warning] lambda_l2 is set=0.3447316850518632, reg_lambda=0.0 will be ignored. Current value: lambda_l2=0.3447316850518632\n",
      "[LightGBM] [Warning] min_data_in_leaf is set=171, min_child_samples=20 will be ignored. Current value: min_data_in_leaf=171\n",
      "[LightGBM] [Warning] lambda_l1 is set=0.0010993435768684842, reg_alpha=0.0 will be ignored. Current value: lambda_l1=0.0010993435768684842\n",
      "[LightGBM] [Warning] lambda_l2 is set=0.3447316850518632, reg_lambda=0.0 will be ignored. Current value: lambda_l2=0.3447316850518632\n",
      "[LightGBM] [Warning] min_data_in_leaf is set=171, min_child_samples=20 will be ignored. Current value: min_data_in_leaf=171\n",
      "[LightGBM] [Warning] lambda_l1 is set=0.0010993435768684842, reg_alpha=0.0 will be ignored. Current value: lambda_l1=0.0010993435768684842\n",
      "[LightGBM] [Warning] lambda_l2 is set=0.3447316850518632, reg_lambda=0.0 will be ignored. Current value: lambda_l2=0.3447316850518632\n",
      "[LightGBM] [Warning] min_data_in_leaf is set=256, min_child_samples=20 will be ignored. Current value: min_data_in_leaf=256\n",
      "[LightGBM] [Warning] lambda_l1 is set=9.754191544766735, reg_alpha=0.0 will be ignored. Current value: lambda_l1=9.754191544766735\n",
      "[LightGBM] [Warning] lambda_l2 is set=0.005787688663824781, reg_lambda=0.0 will be ignored. Current value: lambda_l2=0.005787688663824781\n",
      "[LightGBM] [Warning] min_data_in_leaf is set=256, min_child_samples=20 will be ignored. Current value: min_data_in_leaf=256\n",
      "[LightGBM] [Warning] lambda_l1 is set=9.754191544766735, reg_alpha=0.0 will be ignored. Current value: lambda_l1=9.754191544766735\n",
      "[LightGBM] [Warning] lambda_l2 is set=0.005787688663824781, reg_lambda=0.0 will be ignored. Current value: lambda_l2=0.005787688663824781\n",
      "[LightGBM] [Warning] min_data_in_leaf is set=256, min_child_samples=20 will be ignored. Current value: min_data_in_leaf=256\n",
      "[LightGBM] [Warning] lambda_l1 is set=9.754191544766735, reg_alpha=0.0 will be ignored. Current value: lambda_l1=9.754191544766735\n",
      "[LightGBM] [Warning] lambda_l2 is set=0.005787688663824781, reg_lambda=0.0 will be ignored. Current value: lambda_l2=0.005787688663824781\n",
      "[LightGBM] [Warning] min_data_in_leaf is set=259, min_child_samples=20 will be ignored. Current value: min_data_in_leaf=259\n",
      "[LightGBM] [Warning] lambda_l1 is set=0.23291782160115726, reg_alpha=0.0 will be ignored. Current value: lambda_l1=0.23291782160115726\n",
      "[LightGBM] [Warning] lambda_l2 is set=6.503015289316436, reg_lambda=0.0 will be ignored. Current value: lambda_l2=6.503015289316436\n",
      "[LightGBM] [Warning] min_data_in_leaf is set=259, min_child_samples=20 will be ignored. Current value: min_data_in_leaf=259\n",
      "[LightGBM] [Warning] lambda_l1 is set=0.23291782160115726, reg_alpha=0.0 will be ignored. Current value: lambda_l1=0.23291782160115726\n",
      "[LightGBM] [Warning] lambda_l2 is set=6.503015289316436, reg_lambda=0.0 will be ignored. Current value: lambda_l2=6.503015289316436\n",
      "[LightGBM] [Warning] min_data_in_leaf is set=259, min_child_samples=20 will be ignored. Current value: min_data_in_leaf=259\n",
      "[LightGBM] [Warning] lambda_l1 is set=0.23291782160115726, reg_alpha=0.0 will be ignored. Current value: lambda_l1=0.23291782160115726\n",
      "[LightGBM] [Warning] lambda_l2 is set=6.503015289316436, reg_lambda=0.0 will be ignored. Current value: lambda_l2=6.503015289316436\n",
      "[LightGBM] [Warning] min_data_in_leaf is set=560, min_child_samples=20 will be ignored. Current value: min_data_in_leaf=560\n",
      "[LightGBM] [Warning] lambda_l1 is set=0.5373293303006709, reg_alpha=0.0 will be ignored. Current value: lambda_l1=0.5373293303006709\n",
      "[LightGBM] [Warning] lambda_l2 is set=0.003102628037261181, reg_lambda=0.0 will be ignored. Current value: lambda_l2=0.003102628037261181\n",
      "[LightGBM] [Warning] min_data_in_leaf is set=560, min_child_samples=20 will be ignored. Current value: min_data_in_leaf=560\n",
      "[LightGBM] [Warning] lambda_l1 is set=0.5373293303006709, reg_alpha=0.0 will be ignored. Current value: lambda_l1=0.5373293303006709\n",
      "[LightGBM] [Warning] lambda_l2 is set=0.003102628037261181, reg_lambda=0.0 will be ignored. Current value: lambda_l2=0.003102628037261181\n",
      "[LightGBM] [Warning] min_data_in_leaf is set=560, min_child_samples=20 will be ignored. Current value: min_data_in_leaf=560\n",
      "[LightGBM] [Warning] lambda_l1 is set=0.5373293303006709, reg_alpha=0.0 will be ignored. Current value: lambda_l1=0.5373293303006709\n",
      "[LightGBM] [Warning] lambda_l2 is set=0.003102628037261181, reg_lambda=0.0 will be ignored. Current value: lambda_l2=0.003102628037261181\n",
      "[LightGBM] [Warning] min_data_in_leaf is set=87, min_child_samples=20 will be ignored. Current value: min_data_in_leaf=87\n",
      "[LightGBM] [Warning] lambda_l1 is set=0.00399589067655652, reg_alpha=0.0 will be ignored. Current value: lambda_l1=0.00399589067655652\n",
      "[LightGBM] [Warning] lambda_l2 is set=96.31759316159079, reg_lambda=0.0 will be ignored. Current value: lambda_l2=96.31759316159079\n",
      "[LightGBM] [Warning] min_data_in_leaf is set=87, min_child_samples=20 will be ignored. Current value: min_data_in_leaf=87\n",
      "[LightGBM] [Warning] lambda_l1 is set=0.00399589067655652, reg_alpha=0.0 will be ignored. Current value: lambda_l1=0.00399589067655652\n",
      "[LightGBM] [Warning] lambda_l2 is set=96.31759316159079, reg_lambda=0.0 will be ignored. Current value: lambda_l2=96.31759316159079\n",
      "[LightGBM] [Warning] min_data_in_leaf is set=87, min_child_samples=20 will be ignored. Current value: min_data_in_leaf=87\n",
      "[LightGBM] [Warning] lambda_l1 is set=0.00399589067655652, reg_alpha=0.0 will be ignored. Current value: lambda_l1=0.00399589067655652\n",
      "[LightGBM] [Warning] lambda_l2 is set=96.31759316159079, reg_lambda=0.0 will be ignored. Current value: lambda_l2=96.31759316159079\n",
      "[LightGBM] [Warning] min_data_in_leaf is set=719, min_child_samples=20 will be ignored. Current value: min_data_in_leaf=719\n",
      "[LightGBM] [Warning] lambda_l1 is set=0.798176747903066, reg_alpha=0.0 will be ignored. Current value: lambda_l1=0.798176747903066\n",
      "[LightGBM] [Warning] lambda_l2 is set=0.0029412641996804587, reg_lambda=0.0 will be ignored. Current value: lambda_l2=0.0029412641996804587\n",
      "[LightGBM] [Warning] min_data_in_leaf is set=719, min_child_samples=20 will be ignored. Current value: min_data_in_leaf=719\n",
      "[LightGBM] [Warning] lambda_l1 is set=0.798176747903066, reg_alpha=0.0 will be ignored. Current value: lambda_l1=0.798176747903066\n",
      "[LightGBM] [Warning] lambda_l2 is set=0.0029412641996804587, reg_lambda=0.0 will be ignored. Current value: lambda_l2=0.0029412641996804587\n",
      "[LightGBM] [Warning] min_data_in_leaf is set=719, min_child_samples=20 will be ignored. Current value: min_data_in_leaf=719\n",
      "[LightGBM] [Warning] lambda_l1 is set=0.798176747903066, reg_alpha=0.0 will be ignored. Current value: lambda_l1=0.798176747903066\n",
      "[LightGBM] [Warning] lambda_l2 is set=0.0029412641996804587, reg_lambda=0.0 will be ignored. Current value: lambda_l2=0.0029412641996804587\n"
     ]
    },
    {
     "name": "stdout",
     "output_type": "stream",
     "text": [
      "[LightGBM] [Warning] min_data_in_leaf is set=215, min_child_samples=20 will be ignored. Current value: min_data_in_leaf=215\n",
      "[LightGBM] [Warning] lambda_l1 is set=0.007036199118999689, reg_alpha=0.0 will be ignored. Current value: lambda_l1=0.007036199118999689\n",
      "[LightGBM] [Warning] lambda_l2 is set=0.08555348427980108, reg_lambda=0.0 will be ignored. Current value: lambda_l2=0.08555348427980108\n",
      "[LightGBM] [Warning] min_data_in_leaf is set=215, min_child_samples=20 will be ignored. Current value: min_data_in_leaf=215\n",
      "[LightGBM] [Warning] lambda_l1 is set=0.007036199118999689, reg_alpha=0.0 will be ignored. Current value: lambda_l1=0.007036199118999689\n",
      "[LightGBM] [Warning] lambda_l2 is set=0.08555348427980108, reg_lambda=0.0 will be ignored. Current value: lambda_l2=0.08555348427980108\n",
      "[LightGBM] [Warning] min_data_in_leaf is set=215, min_child_samples=20 will be ignored. Current value: min_data_in_leaf=215\n",
      "[LightGBM] [Warning] lambda_l1 is set=0.007036199118999689, reg_alpha=0.0 will be ignored. Current value: lambda_l1=0.007036199118999689\n",
      "[LightGBM] [Warning] lambda_l2 is set=0.08555348427980108, reg_lambda=0.0 will be ignored. Current value: lambda_l2=0.08555348427980108\n",
      "[LightGBM] [Warning] min_data_in_leaf is set=223, min_child_samples=20 will be ignored. Current value: min_data_in_leaf=223\n",
      "[LightGBM] [Warning] lambda_l1 is set=0.0029611898352362577, reg_alpha=0.0 will be ignored. Current value: lambda_l1=0.0029611898352362577\n",
      "[LightGBM] [Warning] lambda_l2 is set=11.573795950823039, reg_lambda=0.0 will be ignored. Current value: lambda_l2=11.573795950823039\n",
      "[LightGBM] [Warning] min_data_in_leaf is set=223, min_child_samples=20 will be ignored. Current value: min_data_in_leaf=223\n",
      "[LightGBM] [Warning] lambda_l1 is set=0.0029611898352362577, reg_alpha=0.0 will be ignored. Current value: lambda_l1=0.0029611898352362577\n",
      "[LightGBM] [Warning] lambda_l2 is set=11.573795950823039, reg_lambda=0.0 will be ignored. Current value: lambda_l2=11.573795950823039\n",
      "[LightGBM] [Warning] min_data_in_leaf is set=223, min_child_samples=20 will be ignored. Current value: min_data_in_leaf=223\n",
      "[LightGBM] [Warning] lambda_l1 is set=0.0029611898352362577, reg_alpha=0.0 will be ignored. Current value: lambda_l1=0.0029611898352362577\n",
      "[LightGBM] [Warning] lambda_l2 is set=11.573795950823039, reg_lambda=0.0 will be ignored. Current value: lambda_l2=11.573795950823039\n",
      "[LightGBM] [Warning] min_data_in_leaf is set=905, min_child_samples=20 will be ignored. Current value: min_data_in_leaf=905\n",
      "[LightGBM] [Warning] lambda_l1 is set=0.11433449999945362, reg_alpha=0.0 will be ignored. Current value: lambda_l1=0.11433449999945362\n",
      "[LightGBM] [Warning] lambda_l2 is set=2.5976435381470777, reg_lambda=0.0 will be ignored. Current value: lambda_l2=2.5976435381470777\n",
      "[LightGBM] [Warning] min_data_in_leaf is set=905, min_child_samples=20 will be ignored. Current value: min_data_in_leaf=905\n",
      "[LightGBM] [Warning] lambda_l1 is set=0.11433449999945362, reg_alpha=0.0 will be ignored. Current value: lambda_l1=0.11433449999945362\n",
      "[LightGBM] [Warning] lambda_l2 is set=2.5976435381470777, reg_lambda=0.0 will be ignored. Current value: lambda_l2=2.5976435381470777\n",
      "[LightGBM] [Warning] min_data_in_leaf is set=905, min_child_samples=20 will be ignored. Current value: min_data_in_leaf=905\n",
      "[LightGBM] [Warning] lambda_l1 is set=0.11433449999945362, reg_alpha=0.0 will be ignored. Current value: lambda_l1=0.11433449999945362\n",
      "[LightGBM] [Warning] lambda_l2 is set=2.5976435381470777, reg_lambda=0.0 will be ignored. Current value: lambda_l2=2.5976435381470777\n",
      "[LightGBM] [Warning] min_data_in_leaf is set=447, min_child_samples=20 will be ignored. Current value: min_data_in_leaf=447\n",
      "[LightGBM] [Warning] lambda_l1 is set=36.68734663827526, reg_alpha=0.0 will be ignored. Current value: lambda_l1=36.68734663827526\n",
      "[LightGBM] [Warning] lambda_l2 is set=0.29372675414389326, reg_lambda=0.0 will be ignored. Current value: lambda_l2=0.29372675414389326\n",
      "[LightGBM] [Warning] min_data_in_leaf is set=447, min_child_samples=20 will be ignored. Current value: min_data_in_leaf=447\n",
      "[LightGBM] [Warning] lambda_l1 is set=36.68734663827526, reg_alpha=0.0 will be ignored. Current value: lambda_l1=36.68734663827526\n",
      "[LightGBM] [Warning] lambda_l2 is set=0.29372675414389326, reg_lambda=0.0 will be ignored. Current value: lambda_l2=0.29372675414389326\n",
      "[LightGBM] [Warning] min_data_in_leaf is set=447, min_child_samples=20 will be ignored. Current value: min_data_in_leaf=447\n",
      "[LightGBM] [Warning] lambda_l1 is set=36.68734663827526, reg_alpha=0.0 will be ignored. Current value: lambda_l1=36.68734663827526\n",
      "[LightGBM] [Warning] lambda_l2 is set=0.29372675414389326, reg_lambda=0.0 will be ignored. Current value: lambda_l2=0.29372675414389326\n",
      "[LightGBM] [Warning] min_data_in_leaf is set=534, min_child_samples=20 will be ignored. Current value: min_data_in_leaf=534\n",
      "[LightGBM] [Warning] lambda_l1 is set=0.0231321544176733, reg_alpha=0.0 will be ignored. Current value: lambda_l1=0.0231321544176733\n",
      "[LightGBM] [Warning] lambda_l2 is set=0.024989508120943364, reg_lambda=0.0 will be ignored. Current value: lambda_l2=0.024989508120943364\n",
      "[LightGBM] [Warning] min_data_in_leaf is set=534, min_child_samples=20 will be ignored. Current value: min_data_in_leaf=534\n",
      "[LightGBM] [Warning] lambda_l1 is set=0.0231321544176733, reg_alpha=0.0 will be ignored. Current value: lambda_l1=0.0231321544176733\n",
      "[LightGBM] [Warning] lambda_l2 is set=0.024989508120943364, reg_lambda=0.0 will be ignored. Current value: lambda_l2=0.024989508120943364\n",
      "[LightGBM] [Warning] min_data_in_leaf is set=534, min_child_samples=20 will be ignored. Current value: min_data_in_leaf=534\n",
      "[LightGBM] [Warning] lambda_l1 is set=0.0231321544176733, reg_alpha=0.0 will be ignored. Current value: lambda_l1=0.0231321544176733\n",
      "[LightGBM] [Warning] lambda_l2 is set=0.024989508120943364, reg_lambda=0.0 will be ignored. Current value: lambda_l2=0.024989508120943364\n",
      "[LightGBM] [Warning] min_data_in_leaf is set=471, min_child_samples=20 will be ignored. Current value: min_data_in_leaf=471\n",
      "[LightGBM] [Warning] lambda_l1 is set=0.024430221323078413, reg_alpha=0.0 will be ignored. Current value: lambda_l1=0.024430221323078413\n",
      "[LightGBM] [Warning] lambda_l2 is set=0.03402122140711046, reg_lambda=0.0 will be ignored. Current value: lambda_l2=0.03402122140711046\n",
      "[LightGBM] [Warning] min_data_in_leaf is set=471, min_child_samples=20 will be ignored. Current value: min_data_in_leaf=471\n",
      "[LightGBM] [Warning] lambda_l1 is set=0.024430221323078413, reg_alpha=0.0 will be ignored. Current value: lambda_l1=0.024430221323078413\n",
      "[LightGBM] [Warning] lambda_l2 is set=0.03402122140711046, reg_lambda=0.0 will be ignored. Current value: lambda_l2=0.03402122140711046\n",
      "[LightGBM] [Warning] min_data_in_leaf is set=471, min_child_samples=20 will be ignored. Current value: min_data_in_leaf=471\n",
      "[LightGBM] [Warning] lambda_l1 is set=0.024430221323078413, reg_alpha=0.0 will be ignored. Current value: lambda_l1=0.024430221323078413\n",
      "[LightGBM] [Warning] lambda_l2 is set=0.03402122140711046, reg_lambda=0.0 will be ignored. Current value: lambda_l2=0.03402122140711046\n",
      "[LightGBM] [Warning] min_data_in_leaf is set=484, min_child_samples=20 will be ignored. Current value: min_data_in_leaf=484\n",
      "[LightGBM] [Warning] lambda_l1 is set=0.015502352271555926, reg_alpha=0.0 will be ignored. Current value: lambda_l1=0.015502352271555926\n",
      "[LightGBM] [Warning] lambda_l2 is set=0.02429502101087464, reg_lambda=0.0 will be ignored. Current value: lambda_l2=0.02429502101087464\n",
      "[LightGBM] [Warning] min_data_in_leaf is set=484, min_child_samples=20 will be ignored. Current value: min_data_in_leaf=484\n",
      "[LightGBM] [Warning] lambda_l1 is set=0.015502352271555926, reg_alpha=0.0 will be ignored. Current value: lambda_l1=0.015502352271555926\n",
      "[LightGBM] [Warning] lambda_l2 is set=0.02429502101087464, reg_lambda=0.0 will be ignored. Current value: lambda_l2=0.02429502101087464\n",
      "[LightGBM] [Warning] min_data_in_leaf is set=484, min_child_samples=20 will be ignored. Current value: min_data_in_leaf=484\n",
      "[LightGBM] [Warning] lambda_l1 is set=0.015502352271555926, reg_alpha=0.0 will be ignored. Current value: lambda_l1=0.015502352271555926\n",
      "[LightGBM] [Warning] lambda_l2 is set=0.02429502101087464, reg_lambda=0.0 will be ignored. Current value: lambda_l2=0.02429502101087464\n"
     ]
    },
    {
     "name": "stdout",
     "output_type": "stream",
     "text": [
      "[LightGBM] [Warning] min_data_in_leaf is set=696, min_child_samples=20 will be ignored. Current value: min_data_in_leaf=696\n",
      "[LightGBM] [Warning] lambda_l1 is set=0.05844916600341757, reg_alpha=0.0 will be ignored. Current value: lambda_l1=0.05844916600341757\n",
      "[LightGBM] [Warning] lambda_l2 is set=0.020584590738309542, reg_lambda=0.0 will be ignored. Current value: lambda_l2=0.020584590738309542\n",
      "[LightGBM] [Warning] min_data_in_leaf is set=696, min_child_samples=20 will be ignored. Current value: min_data_in_leaf=696\n",
      "[LightGBM] [Warning] lambda_l1 is set=0.05844916600341757, reg_alpha=0.0 will be ignored. Current value: lambda_l1=0.05844916600341757\n",
      "[LightGBM] [Warning] lambda_l2 is set=0.020584590738309542, reg_lambda=0.0 will be ignored. Current value: lambda_l2=0.020584590738309542\n",
      "[LightGBM] [Warning] min_data_in_leaf is set=696, min_child_samples=20 will be ignored. Current value: min_data_in_leaf=696\n",
      "[LightGBM] [Warning] lambda_l1 is set=0.05844916600341757, reg_alpha=0.0 will be ignored. Current value: lambda_l1=0.05844916600341757\n",
      "[LightGBM] [Warning] lambda_l2 is set=0.020584590738309542, reg_lambda=0.0 will be ignored. Current value: lambda_l2=0.020584590738309542\n",
      "[LightGBM] [Warning] min_data_in_leaf is set=616, min_child_samples=20 will be ignored. Current value: min_data_in_leaf=616\n",
      "[LightGBM] [Warning] lambda_l1 is set=0.020017649954492858, reg_alpha=0.0 will be ignored. Current value: lambda_l1=0.020017649954492858\n",
      "[LightGBM] [Warning] lambda_l2 is set=0.016579466162800885, reg_lambda=0.0 will be ignored. Current value: lambda_l2=0.016579466162800885\n",
      "[LightGBM] [Warning] min_data_in_leaf is set=616, min_child_samples=20 will be ignored. Current value: min_data_in_leaf=616\n",
      "[LightGBM] [Warning] lambda_l1 is set=0.020017649954492858, reg_alpha=0.0 will be ignored. Current value: lambda_l1=0.020017649954492858\n",
      "[LightGBM] [Warning] lambda_l2 is set=0.016579466162800885, reg_lambda=0.0 will be ignored. Current value: lambda_l2=0.016579466162800885\n",
      "[LightGBM] [Warning] min_data_in_leaf is set=616, min_child_samples=20 will be ignored. Current value: min_data_in_leaf=616\n",
      "[LightGBM] [Warning] lambda_l1 is set=0.020017649954492858, reg_alpha=0.0 will be ignored. Current value: lambda_l1=0.020017649954492858\n",
      "[LightGBM] [Warning] lambda_l2 is set=0.016579466162800885, reg_lambda=0.0 will be ignored. Current value: lambda_l2=0.016579466162800885\n",
      "[LightGBM] [Warning] min_data_in_leaf is set=877, min_child_samples=20 will be ignored. Current value: min_data_in_leaf=877\n",
      "[LightGBM] [Warning] lambda_l1 is set=0.020990721640553742, reg_alpha=0.0 will be ignored. Current value: lambda_l1=0.020990721640553742\n",
      "[LightGBM] [Warning] lambda_l2 is set=0.31827009846764526, reg_lambda=0.0 will be ignored. Current value: lambda_l2=0.31827009846764526\n",
      "[LightGBM] [Warning] min_data_in_leaf is set=877, min_child_samples=20 will be ignored. Current value: min_data_in_leaf=877\n",
      "[LightGBM] [Warning] lambda_l1 is set=0.020990721640553742, reg_alpha=0.0 will be ignored. Current value: lambda_l1=0.020990721640553742\n",
      "[LightGBM] [Warning] lambda_l2 is set=0.31827009846764526, reg_lambda=0.0 will be ignored. Current value: lambda_l2=0.31827009846764526\n",
      "[LightGBM] [Warning] min_data_in_leaf is set=877, min_child_samples=20 will be ignored. Current value: min_data_in_leaf=877\n",
      "[LightGBM] [Warning] lambda_l1 is set=0.020990721640553742, reg_alpha=0.0 will be ignored. Current value: lambda_l1=0.020990721640553742\n",
      "[LightGBM] [Warning] lambda_l2 is set=0.31827009846764526, reg_lambda=0.0 will be ignored. Current value: lambda_l2=0.31827009846764526\n",
      "[LightGBM] [Warning] min_data_in_leaf is set=451, min_child_samples=20 will be ignored. Current value: min_data_in_leaf=451\n",
      "[LightGBM] [Warning] lambda_l1 is set=2.649806132412859, reg_alpha=0.0 will be ignored. Current value: lambda_l1=2.649806132412859\n",
      "[LightGBM] [Warning] lambda_l2 is set=0.0014206638438405805, reg_lambda=0.0 will be ignored. Current value: lambda_l2=0.0014206638438405805\n",
      "[LightGBM] [Warning] min_data_in_leaf is set=451, min_child_samples=20 will be ignored. Current value: min_data_in_leaf=451\n",
      "[LightGBM] [Warning] lambda_l1 is set=2.649806132412859, reg_alpha=0.0 will be ignored. Current value: lambda_l1=2.649806132412859\n",
      "[LightGBM] [Warning] lambda_l2 is set=0.0014206638438405805, reg_lambda=0.0 will be ignored. Current value: lambda_l2=0.0014206638438405805\n",
      "[LightGBM] [Warning] min_data_in_leaf is set=451, min_child_samples=20 will be ignored. Current value: min_data_in_leaf=451\n",
      "[LightGBM] [Warning] lambda_l1 is set=2.649806132412859, reg_alpha=0.0 will be ignored. Current value: lambda_l1=2.649806132412859\n",
      "[LightGBM] [Warning] lambda_l2 is set=0.0014206638438405805, reg_lambda=0.0 will be ignored. Current value: lambda_l2=0.0014206638438405805\n",
      "[LightGBM] [Warning] min_data_in_leaf is set=666, min_child_samples=20 will be ignored. Current value: min_data_in_leaf=666\n",
      "[LightGBM] [Warning] lambda_l1 is set=0.0797325099910823, reg_alpha=0.0 will be ignored. Current value: lambda_l1=0.0797325099910823\n",
      "[LightGBM] [Warning] lambda_l2 is set=0.012270278941202467, reg_lambda=0.0 will be ignored. Current value: lambda_l2=0.012270278941202467\n",
      "[LightGBM] [Warning] min_data_in_leaf is set=666, min_child_samples=20 will be ignored. Current value: min_data_in_leaf=666\n",
      "[LightGBM] [Warning] lambda_l1 is set=0.0797325099910823, reg_alpha=0.0 will be ignored. Current value: lambda_l1=0.0797325099910823\n",
      "[LightGBM] [Warning] lambda_l2 is set=0.012270278941202467, reg_lambda=0.0 will be ignored. Current value: lambda_l2=0.012270278941202467\n",
      "[LightGBM] [Warning] min_data_in_leaf is set=666, min_child_samples=20 will be ignored. Current value: min_data_in_leaf=666\n",
      "[LightGBM] [Warning] lambda_l1 is set=0.0797325099910823, reg_alpha=0.0 will be ignored. Current value: lambda_l1=0.0797325099910823\n",
      "[LightGBM] [Warning] lambda_l2 is set=0.012270278941202467, reg_lambda=0.0 will be ignored. Current value: lambda_l2=0.012270278941202467\n",
      "[LightGBM] [Warning] min_data_in_leaf is set=362, min_child_samples=20 will be ignored. Current value: min_data_in_leaf=362\n",
      "[LightGBM] [Warning] lambda_l1 is set=0.0010002556480653486, reg_alpha=0.0 will be ignored. Current value: lambda_l1=0.0010002556480653486\n",
      "[LightGBM] [Warning] lambda_l2 is set=0.09598047383483713, reg_lambda=0.0 will be ignored. Current value: lambda_l2=0.09598047383483713\n",
      "[LightGBM] [Warning] min_data_in_leaf is set=362, min_child_samples=20 will be ignored. Current value: min_data_in_leaf=362\n",
      "[LightGBM] [Warning] lambda_l1 is set=0.0010002556480653486, reg_alpha=0.0 will be ignored. Current value: lambda_l1=0.0010002556480653486\n",
      "[LightGBM] [Warning] lambda_l2 is set=0.09598047383483713, reg_lambda=0.0 will be ignored. Current value: lambda_l2=0.09598047383483713\n",
      "[LightGBM] [Warning] min_data_in_leaf is set=362, min_child_samples=20 will be ignored. Current value: min_data_in_leaf=362\n",
      "[LightGBM] [Warning] lambda_l1 is set=0.0010002556480653486, reg_alpha=0.0 will be ignored. Current value: lambda_l1=0.0010002556480653486\n",
      "[LightGBM] [Warning] lambda_l2 is set=0.09598047383483713, reg_lambda=0.0 will be ignored. Current value: lambda_l2=0.09598047383483713\n",
      "[LightGBM] [Warning] min_data_in_leaf is set=362, min_child_samples=20 will be ignored. Current value: min_data_in_leaf=362\n",
      "[LightGBM] [Warning] lambda_l1 is set=0.0021162810171664343, reg_alpha=0.0 will be ignored. Current value: lambda_l1=0.0021162810171664343\n",
      "[LightGBM] [Warning] lambda_l2 is set=0.10614354491555288, reg_lambda=0.0 will be ignored. Current value: lambda_l2=0.10614354491555288\n",
      "[LightGBM] [Warning] min_data_in_leaf is set=362, min_child_samples=20 will be ignored. Current value: min_data_in_leaf=362\n",
      "[LightGBM] [Warning] lambda_l1 is set=0.0021162810171664343, reg_alpha=0.0 will be ignored. Current value: lambda_l1=0.0021162810171664343\n",
      "[LightGBM] [Warning] lambda_l2 is set=0.10614354491555288, reg_lambda=0.0 will be ignored. Current value: lambda_l2=0.10614354491555288\n",
      "[LightGBM] [Warning] min_data_in_leaf is set=362, min_child_samples=20 will be ignored. Current value: min_data_in_leaf=362\n",
      "[LightGBM] [Warning] lambda_l1 is set=0.0021162810171664343, reg_alpha=0.0 will be ignored. Current value: lambda_l1=0.0021162810171664343\n",
      "[LightGBM] [Warning] lambda_l2 is set=0.10614354491555288, reg_lambda=0.0 will be ignored. Current value: lambda_l2=0.10614354491555288\n"
     ]
    },
    {
     "name": "stdout",
     "output_type": "stream",
     "text": [
      "[LightGBM] [Warning] min_data_in_leaf is set=369, min_child_samples=20 will be ignored. Current value: min_data_in_leaf=369\n",
      "[LightGBM] [Warning] lambda_l1 is set=0.0012450668790753797, reg_alpha=0.0 will be ignored. Current value: lambda_l1=0.0012450668790753797\n",
      "[LightGBM] [Warning] lambda_l2 is set=0.10217722635814043, reg_lambda=0.0 will be ignored. Current value: lambda_l2=0.10217722635814043\n",
      "[LightGBM] [Warning] min_data_in_leaf is set=369, min_child_samples=20 will be ignored. Current value: min_data_in_leaf=369\n",
      "[LightGBM] [Warning] lambda_l1 is set=0.0012450668790753797, reg_alpha=0.0 will be ignored. Current value: lambda_l1=0.0012450668790753797\n",
      "[LightGBM] [Warning] lambda_l2 is set=0.10217722635814043, reg_lambda=0.0 will be ignored. Current value: lambda_l2=0.10217722635814043\n",
      "[LightGBM] [Warning] min_data_in_leaf is set=369, min_child_samples=20 will be ignored. Current value: min_data_in_leaf=369\n",
      "[LightGBM] [Warning] lambda_l1 is set=0.0012450668790753797, reg_alpha=0.0 will be ignored. Current value: lambda_l1=0.0012450668790753797\n",
      "[LightGBM] [Warning] lambda_l2 is set=0.10217722635814043, reg_lambda=0.0 will be ignored. Current value: lambda_l2=0.10217722635814043\n",
      "[LightGBM] [Warning] min_data_in_leaf is set=346, min_child_samples=20 will be ignored. Current value: min_data_in_leaf=346\n",
      "[LightGBM] [Warning] lambda_l1 is set=0.0010368236322448844, reg_alpha=0.0 will be ignored. Current value: lambda_l1=0.0010368236322448844\n",
      "[LightGBM] [Warning] lambda_l2 is set=0.08495216197261139, reg_lambda=0.0 will be ignored. Current value: lambda_l2=0.08495216197261139\n",
      "[LightGBM] [Warning] min_data_in_leaf is set=346, min_child_samples=20 will be ignored. Current value: min_data_in_leaf=346\n",
      "[LightGBM] [Warning] lambda_l1 is set=0.0010368236322448844, reg_alpha=0.0 will be ignored. Current value: lambda_l1=0.0010368236322448844\n",
      "[LightGBM] [Warning] lambda_l2 is set=0.08495216197261139, reg_lambda=0.0 will be ignored. Current value: lambda_l2=0.08495216197261139\n",
      "[LightGBM] [Warning] min_data_in_leaf is set=346, min_child_samples=20 will be ignored. Current value: min_data_in_leaf=346\n",
      "[LightGBM] [Warning] lambda_l1 is set=0.0010368236322448844, reg_alpha=0.0 will be ignored. Current value: lambda_l1=0.0010368236322448844\n",
      "[LightGBM] [Warning] lambda_l2 is set=0.08495216197261139, reg_lambda=0.0 will be ignored. Current value: lambda_l2=0.08495216197261139\n",
      "[LightGBM] [Warning] min_data_in_leaf is set=342, min_child_samples=20 will be ignored. Current value: min_data_in_leaf=342\n",
      "[LightGBM] [Warning] lambda_l1 is set=0.002587907224445025, reg_alpha=0.0 will be ignored. Current value: lambda_l1=0.002587907224445025\n",
      "[LightGBM] [Warning] lambda_l2 is set=1.6224390928108756, reg_lambda=0.0 will be ignored. Current value: lambda_l2=1.6224390928108756\n",
      "[LightGBM] [Warning] min_data_in_leaf is set=342, min_child_samples=20 will be ignored. Current value: min_data_in_leaf=342\n",
      "[LightGBM] [Warning] lambda_l1 is set=0.002587907224445025, reg_alpha=0.0 will be ignored. Current value: lambda_l1=0.002587907224445025\n",
      "[LightGBM] [Warning] lambda_l2 is set=1.6224390928108756, reg_lambda=0.0 will be ignored. Current value: lambda_l2=1.6224390928108756\n",
      "[LightGBM] [Warning] min_data_in_leaf is set=342, min_child_samples=20 will be ignored. Current value: min_data_in_leaf=342\n",
      "[LightGBM] [Warning] lambda_l1 is set=0.002587907224445025, reg_alpha=0.0 will be ignored. Current value: lambda_l1=0.002587907224445025\n",
      "[LightGBM] [Warning] lambda_l2 is set=1.6224390928108756, reg_lambda=0.0 will be ignored. Current value: lambda_l2=1.6224390928108756\n",
      "[LightGBM] [Warning] min_data_in_leaf is set=359, min_child_samples=20 will be ignored. Current value: min_data_in_leaf=359\n",
      "[LightGBM] [Warning] lambda_l1 is set=0.008099150619117151, reg_alpha=0.0 will be ignored. Current value: lambda_l1=0.008099150619117151\n",
      "[LightGBM] [Warning] lambda_l2 is set=0.9554333450050152, reg_lambda=0.0 will be ignored. Current value: lambda_l2=0.9554333450050152\n",
      "[LightGBM] [Warning] min_data_in_leaf is set=359, min_child_samples=20 will be ignored. Current value: min_data_in_leaf=359\n",
      "[LightGBM] [Warning] lambda_l1 is set=0.008099150619117151, reg_alpha=0.0 will be ignored. Current value: lambda_l1=0.008099150619117151\n",
      "[LightGBM] [Warning] lambda_l2 is set=0.9554333450050152, reg_lambda=0.0 will be ignored. Current value: lambda_l2=0.9554333450050152\n",
      "[LightGBM] [Warning] min_data_in_leaf is set=359, min_child_samples=20 will be ignored. Current value: min_data_in_leaf=359\n",
      "[LightGBM] [Warning] lambda_l1 is set=0.008099150619117151, reg_alpha=0.0 will be ignored. Current value: lambda_l1=0.008099150619117151\n",
      "[LightGBM] [Warning] lambda_l2 is set=0.9554333450050152, reg_lambda=0.0 will be ignored. Current value: lambda_l2=0.9554333450050152\n",
      "[LightGBM] [Warning] min_data_in_leaf is set=19, min_child_samples=20 will be ignored. Current value: min_data_in_leaf=19\n",
      "[LightGBM] [Warning] lambda_l1 is set=0.009018392116851867, reg_alpha=0.0 will be ignored. Current value: lambda_l1=0.009018392116851867\n",
      "[LightGBM] [Warning] lambda_l2 is set=1.3036422783755017, reg_lambda=0.0 will be ignored. Current value: lambda_l2=1.3036422783755017\n",
      "[LightGBM] [Warning] min_data_in_leaf is set=19, min_child_samples=20 will be ignored. Current value: min_data_in_leaf=19\n",
      "[LightGBM] [Warning] lambda_l1 is set=0.009018392116851867, reg_alpha=0.0 will be ignored. Current value: lambda_l1=0.009018392116851867\n",
      "[LightGBM] [Warning] lambda_l2 is set=1.3036422783755017, reg_lambda=0.0 will be ignored. Current value: lambda_l2=1.3036422783755017\n",
      "[LightGBM] [Warning] min_data_in_leaf is set=19, min_child_samples=20 will be ignored. Current value: min_data_in_leaf=19\n",
      "[LightGBM] [Warning] lambda_l1 is set=0.009018392116851867, reg_alpha=0.0 will be ignored. Current value: lambda_l1=0.009018392116851867\n",
      "[LightGBM] [Warning] lambda_l2 is set=1.3036422783755017, reg_lambda=0.0 will be ignored. Current value: lambda_l2=1.3036422783755017\n",
      "[LightGBM] [Warning] min_data_in_leaf is set=19, min_child_samples=20 will be ignored. Current value: min_data_in_leaf=19\n",
      "[LightGBM] [Warning] lambda_l1 is set=0.005943846896530156, reg_alpha=0.0 will be ignored. Current value: lambda_l1=0.005943846896530156\n",
      "[LightGBM] [Warning] lambda_l2 is set=1.421760878734003, reg_lambda=0.0 will be ignored. Current value: lambda_l2=1.421760878734003\n",
      "[LightGBM] [Warning] min_data_in_leaf is set=19, min_child_samples=20 will be ignored. Current value: min_data_in_leaf=19\n",
      "[LightGBM] [Warning] lambda_l1 is set=0.005943846896530156, reg_alpha=0.0 will be ignored. Current value: lambda_l1=0.005943846896530156\n",
      "[LightGBM] [Warning] lambda_l2 is set=1.421760878734003, reg_lambda=0.0 will be ignored. Current value: lambda_l2=1.421760878734003\n",
      "[LightGBM] [Warning] min_data_in_leaf is set=19, min_child_samples=20 will be ignored. Current value: min_data_in_leaf=19\n",
      "[LightGBM] [Warning] lambda_l1 is set=0.005943846896530156, reg_alpha=0.0 will be ignored. Current value: lambda_l1=0.005943846896530156\n",
      "[LightGBM] [Warning] lambda_l2 is set=1.421760878734003, reg_lambda=0.0 will be ignored. Current value: lambda_l2=1.421760878734003\n",
      "[LightGBM] [Warning] min_data_in_leaf is set=31, min_child_samples=20 will be ignored. Current value: min_data_in_leaf=31\n",
      "[LightGBM] [Warning] lambda_l1 is set=0.00787558408051338, reg_alpha=0.0 will be ignored. Current value: lambda_l1=0.00787558408051338\n",
      "[LightGBM] [Warning] lambda_l2 is set=1.5144749618623947, reg_lambda=0.0 will be ignored. Current value: lambda_l2=1.5144749618623947\n",
      "[LightGBM] [Warning] min_data_in_leaf is set=31, min_child_samples=20 will be ignored. Current value: min_data_in_leaf=31\n",
      "[LightGBM] [Warning] lambda_l1 is set=0.00787558408051338, reg_alpha=0.0 will be ignored. Current value: lambda_l1=0.00787558408051338\n",
      "[LightGBM] [Warning] lambda_l2 is set=1.5144749618623947, reg_lambda=0.0 will be ignored. Current value: lambda_l2=1.5144749618623947\n",
      "[LightGBM] [Warning] min_data_in_leaf is set=31, min_child_samples=20 will be ignored. Current value: min_data_in_leaf=31\n",
      "[LightGBM] [Warning] lambda_l1 is set=0.00787558408051338, reg_alpha=0.0 will be ignored. Current value: lambda_l1=0.00787558408051338\n",
      "[LightGBM] [Warning] lambda_l2 is set=1.5144749618623947, reg_lambda=0.0 will be ignored. Current value: lambda_l2=1.5144749618623947\n",
      "[LightGBM] [Warning] min_data_in_leaf is set=24, min_child_samples=20 will be ignored. Current value: min_data_in_leaf=24\n",
      "[LightGBM] [Warning] lambda_l1 is set=0.003889811403583043, reg_alpha=0.0 will be ignored. Current value: lambda_l1=0.003889811403583043\n",
      "[LightGBM] [Warning] lambda_l2 is set=4.6151080414651195, reg_lambda=0.0 will be ignored. Current value: lambda_l2=4.6151080414651195\n"
     ]
    },
    {
     "name": "stdout",
     "output_type": "stream",
     "text": [
      "[LightGBM] [Warning] min_data_in_leaf is set=24, min_child_samples=20 will be ignored. Current value: min_data_in_leaf=24\n",
      "[LightGBM] [Warning] lambda_l1 is set=0.003889811403583043, reg_alpha=0.0 will be ignored. Current value: lambda_l1=0.003889811403583043\n",
      "[LightGBM] [Warning] lambda_l2 is set=4.6151080414651195, reg_lambda=0.0 will be ignored. Current value: lambda_l2=4.6151080414651195\n",
      "[LightGBM] [Warning] min_data_in_leaf is set=24, min_child_samples=20 will be ignored. Current value: min_data_in_leaf=24\n",
      "[LightGBM] [Warning] lambda_l1 is set=0.003889811403583043, reg_alpha=0.0 will be ignored. Current value: lambda_l1=0.003889811403583043\n",
      "[LightGBM] [Warning] lambda_l2 is set=4.6151080414651195, reg_lambda=0.0 will be ignored. Current value: lambda_l2=4.6151080414651195\n",
      "[LightGBM] [Warning] min_data_in_leaf is set=107, min_child_samples=20 will be ignored. Current value: min_data_in_leaf=107\n",
      "[LightGBM] [Warning] lambda_l1 is set=0.20292043266554835, reg_alpha=0.0 will be ignored. Current value: lambda_l1=0.20292043266554835\n",
      "[LightGBM] [Warning] lambda_l2 is set=7.307427479186198, reg_lambda=0.0 will be ignored. Current value: lambda_l2=7.307427479186198\n",
      "[LightGBM] [Warning] min_data_in_leaf is set=107, min_child_samples=20 will be ignored. Current value: min_data_in_leaf=107\n",
      "[LightGBM] [Warning] lambda_l1 is set=0.20292043266554835, reg_alpha=0.0 will be ignored. Current value: lambda_l1=0.20292043266554835\n",
      "[LightGBM] [Warning] lambda_l2 is set=7.307427479186198, reg_lambda=0.0 will be ignored. Current value: lambda_l2=7.307427479186198\n",
      "[LightGBM] [Warning] min_data_in_leaf is set=107, min_child_samples=20 will be ignored. Current value: min_data_in_leaf=107\n",
      "[LightGBM] [Warning] lambda_l1 is set=0.20292043266554835, reg_alpha=0.0 will be ignored. Current value: lambda_l1=0.20292043266554835\n",
      "[LightGBM] [Warning] lambda_l2 is set=7.307427479186198, reg_lambda=0.0 will be ignored. Current value: lambda_l2=7.307427479186198\n"
     ]
    }
   ],
   "source": [
    "study2 = optuna.create_study(direction=\"maximize\", study_name=\"LGBR2\")\n",
    "\n",
    "\n",
    "def func(trial):\n",
    "    return objective_lgb(trial,\n",
    "                         offer_rank,\n",
    "                         y_col=\"win\"\n",
    "                        )\n",
    "\n",
    "optuna.logging.set_verbosity(optuna.logging.WARNING)\n",
    "study2.optimize(func, n_trials=30, show_progress_bar=True)"
   ]
  },
  {
   "cell_type": "code",
   "execution_count": 2451,
   "metadata": {},
   "outputs": [
    {
     "data": {
      "text/plain": [
       "{'n_estimators': 300,\n",
       " 'learning_rate': 0.2835884808571657,\n",
       " 'max_depth': 5,\n",
       " 'min_data_in_leaf': 19,\n",
       " 'lambda_l1': 0.009018392116851867,\n",
       " 'lambda_l2': 1.3036422783755017,\n",
       " 'objective': 'lambdarank',\n",
       " 'metric': 'ndcg',\n",
       " 'random_state': 42}"
      ]
     },
     "execution_count": 2451,
     "metadata": {},
     "output_type": "execute_result"
    }
   ],
   "source": [
    "study2.best_params"
   ]
  },
  {
   "cell_type": "code",
   "execution_count": 2452,
   "metadata": {},
   "outputs": [
    {
     "name": "stdout",
     "output_type": "stream",
     "text": [
      "[LightGBM] [Warning] min_data_in_leaf is set=19, min_child_samples=20 will be ignored. Current value: min_data_in_leaf=19\n",
      "[LightGBM] [Warning] lambda_l1 is set=0.009018392116851867, reg_alpha=0.0 will be ignored. Current value: lambda_l1=0.009018392116851867\n",
      "[LightGBM] [Warning] lambda_l2 is set=1.3036422783755017, reg_lambda=0.0 will be ignored. Current value: lambda_l2=1.3036422783755017\n",
      "[10]\tvalid_0's ndcg@1: 0.950508\tvalid_0's ndcg@2: 0.981734\tvalid_0's ndcg@3: 0.972503\tvalid_0's ndcg@4: 0.980241\tvalid_0's ndcg@5: 0.980432\n",
      "[20]\tvalid_0's ndcg@1: 0.950508\tvalid_0's ndcg@2: 0.981734\tvalid_0's ndcg@3: 0.972503\tvalid_0's ndcg@4: 0.980241\tvalid_0's ndcg@5: 0.980432\n",
      "[30]\tvalid_0's ndcg@1: 0.950508\tvalid_0's ndcg@2: 0.981734\tvalid_0's ndcg@3: 0.972503\tvalid_0's ndcg@4: 0.980241\tvalid_0's ndcg@5: 0.980432\n",
      "[40]\tvalid_0's ndcg@1: 0.950508\tvalid_0's ndcg@2: 0.981734\tvalid_0's ndcg@3: 0.972503\tvalid_0's ndcg@4: 0.980241\tvalid_0's ndcg@5: 0.980432\n",
      "[50]\tvalid_0's ndcg@1: 0.950508\tvalid_0's ndcg@2: 0.981734\tvalid_0's ndcg@3: 0.972503\tvalid_0's ndcg@4: 0.980241\tvalid_0's ndcg@5: 0.980432\n",
      "[60]\tvalid_0's ndcg@1: 0.950508\tvalid_0's ndcg@2: 0.981734\tvalid_0's ndcg@3: 0.972503\tvalid_0's ndcg@4: 0.980241\tvalid_0's ndcg@5: 0.980432\n",
      "[70]\tvalid_0's ndcg@1: 0.950508\tvalid_0's ndcg@2: 0.981734\tvalid_0's ndcg@3: 0.972503\tvalid_0's ndcg@4: 0.980241\tvalid_0's ndcg@5: 0.980432\n",
      "[80]\tvalid_0's ndcg@1: 0.950508\tvalid_0's ndcg@2: 0.981734\tvalid_0's ndcg@3: 0.972503\tvalid_0's ndcg@4: 0.980454\tvalid_0's ndcg@5: 0.980454\n",
      "[90]\tvalid_0's ndcg@1: 0.950508\tvalid_0's ndcg@2: 0.981734\tvalid_0's ndcg@3: 0.972503\tvalid_0's ndcg@4: 0.980454\tvalid_0's ndcg@5: 0.980454\n",
      "[100]\tvalid_0's ndcg@1: 0.950508\tvalid_0's ndcg@2: 0.981734\tvalid_0's ndcg@3: 0.972503\tvalid_0's ndcg@4: 0.980454\tvalid_0's ndcg@5: 0.980454\n"
     ]
    },
    {
     "data": {
      "text/plain": [
       "LGBMRanker(lambda_l1=0.009018392116851867, lambda_l2=1.3036422783755017,\n",
       "           learning_rate=0.2835884808571657, max_depth=5, metric='ndcg',\n",
       "           min_data_in_leaf=19, n_estimators=300, objective='lambdarank',\n",
       "           random_state=42)"
      ]
     },
     "execution_count": 2452,
     "metadata": {},
     "output_type": "execute_result"
    }
   ],
   "source": [
    "best_params_ver2 = study2.best_params\n",
    "lgbmr_optuna2 = lightgbm.LGBMRanker(**best_params_ver2)\n",
    "lgbmr_optuna2.fit(X_train,\n",
    "                  y_train,\n",
    "                  group=qids_train,\n",
    "                  eval_set=[(X_validation, y_validation)],\n",
    "                  eval_group=[qids_validation],\n",
    "                  eval_metric=\"ndcg\",\n",
    "                  early_stopping_rounds=100,\n",
    "                  verbose=10,)"
   ]
  },
  {
   "cell_type": "code",
   "execution_count": 2565,
   "metadata": {},
   "outputs": [
    {
     "data": {
      "text/plain": [
       "0.995951015727695"
      ]
     },
     "execution_count": 2565,
     "metadata": {},
     "output_type": "execute_result"
    }
   ],
   "source": [
    "# метрика качества по столбцу win выросла\n",
    "ndcg_score([y_validation], [lgbmr_optuna2.predict(X_validation)])"
   ]
  },
  {
   "cell_type": "code",
   "execution_count": 2566,
   "metadata": {},
   "outputs": [
    {
     "data": {
      "text/plain": [
       "0.9528723442849097"
      ]
     },
     "execution_count": 2566,
     "metadata": {},
     "output_type": "execute_result"
    }
   ],
   "source": [
    "# метрика качества по столбцу order снизилась\n",
    "ndcg_score([y_validation_order], [lgbmr_optuna2.predict(X_validation)])"
   ]
  },
  {
   "cell_type": "code",
   "execution_count": 2454,
   "metadata": {},
   "outputs": [
    {
     "data": {
      "image/png": "[encoded data removed]",
      "text/plain": [
       "<Figure size 640x480 with 1 Axes>"
      ]
     },
     "metadata": {},
     "output_type": "display_data"
    }
   ],
   "source": [
    "feature_importance_chart(lgbmr_optuna2, X_validation)"
   ]
  },
  {
   "cell_type": "code",
   "execution_count": 2562,
   "metadata": {},
   "outputs": [
    {
     "name": "stdout",
     "output_type": "stream",
     "text": [
      "      order  id      rank  rank_number    sellerDisplayName\n",
      "2998      0   1 -0.570986          0.0         Maison Rouge\n",
      "2999      1   1  0.217788          1.0  Adina's Beauty Shop\n",
      "3000      2   1  2.126701          2.0          Walmart.com\n",
      "3001      3   1  2.245998          3.0            SS-BEAUTY\n",
      "3006      0   3 -0.570986          0.0         Maison Rouge\n",
      "3007      1   3  0.217788          1.0  Adina's Beauty Shop\n",
      "3008      2   3  2.126701          2.0          Walmart.com\n",
      "3009      3   3  2.245998          3.0            SS-BEAUTY\n",
      "3014      0   5 -0.570986          0.0         Maison Rouge\n",
      "3015      1   5  0.217788          1.0  Adina's Beauty Shop\n",
      "\n",
      "Доля выигранных витрин по предсказанию модели (bbwin=0): 0.9137\n",
      "\n",
      "Прогнозируемый усредненный рейтинг продацов:\n"
     ]
    },
    {
     "data": {
      "text/html": [
       "<div>\n",
       "<style scoped>\n",
       "    .dataframe tbody tr th:only-of-type {\n",
       "        vertical-align: middle;\n",
       "    }\n",
       "\n",
       "    .dataframe tbody tr th {\n",
       "        vertical-align: top;\n",
       "    }\n",
       "\n",
       "    .dataframe thead th {\n",
       "        text-align: right;\n",
       "    }\n",
       "</style>\n",
       "<table border=\"1\" class=\"dataframe\">\n",
       "  <thead>\n",
       "    <tr style=\"text-align: right;\">\n",
       "      <th></th>\n",
       "      <th>sellerDisplayName</th>\n",
       "      <th>rank</th>\n",
       "      <th>rank_seller</th>\n",
       "    </tr>\n",
       "  </thead>\n",
       "  <tbody>\n",
       "    <tr>\n",
       "      <th>0</th>\n",
       "      <td>Adina's Beauty Shop</td>\n",
       "      <td>-0.879739</td>\n",
       "      <td>1.0</td>\n",
       "    </tr>\n",
       "    <tr>\n",
       "      <th>3</th>\n",
       "      <td>Maison Rouge</td>\n",
       "      <td>-0.636326</td>\n",
       "      <td>2.0</td>\n",
       "    </tr>\n",
       "    <tr>\n",
       "      <th>1</th>\n",
       "      <td>Exotic Pro</td>\n",
       "      <td>-0.252798</td>\n",
       "      <td>3.0</td>\n",
       "    </tr>\n",
       "    <tr>\n",
       "      <th>2</th>\n",
       "      <td>Fit &amp; Fab</td>\n",
       "      <td>0.189371</td>\n",
       "      <td>4.0</td>\n",
       "    </tr>\n",
       "    <tr>\n",
       "      <th>6</th>\n",
       "      <td>thanks2you</td>\n",
       "      <td>0.937797</td>\n",
       "      <td>5.0</td>\n",
       "    </tr>\n",
       "    <tr>\n",
       "      <th>4</th>\n",
       "      <td>SS-BEAUTY</td>\n",
       "      <td>2.155806</td>\n",
       "      <td>6.0</td>\n",
       "    </tr>\n",
       "    <tr>\n",
       "      <th>5</th>\n",
       "      <td>Walmart.com</td>\n",
       "      <td>2.220892</td>\n",
       "      <td>7.0</td>\n",
       "    </tr>\n",
       "  </tbody>\n",
       "</table>\n",
       "</div>"
      ],
      "text/plain": [
       "     sellerDisplayName      rank  rank_seller\n",
       "0  Adina's Beauty Shop -0.879739          1.0\n",
       "3         Maison Rouge -0.636326          2.0\n",
       "1           Exotic Pro -0.252798          3.0\n",
       "2            Fit & Fab  0.189371          4.0\n",
       "6           thanks2you  0.937797          5.0\n",
       "4            SS-BEAUTY  2.155806          6.0\n",
       "5          Walmart.com  2.220892          7.0"
      ]
     },
     "execution_count": 2562,
     "metadata": {},
     "output_type": "execute_result"
    }
   ],
   "source": [
    "prediction_rank_table(test_data, lgbmr_optuna2, X_validation, sellerDisplayName_test, 'order', 10)\n",
    "# выросла Доля выигранных витрин по предсказанию модели"
   ]
  },
  {
   "cell_type": "code",
   "execution_count": 2552,
   "metadata": {},
   "outputs": [
    {
     "data": {
      "text/plain": [
       "Text(0.5, 1.0, 'Count of sellerDisplayName by win')"
      ]
     },
     "execution_count": 2552,
     "metadata": {},
     "output_type": "execute_result"
    },
    {
     "data": {
      "image/png": "[encoded data removed]",
      "text/plain": [
       "<Figure size 640x480 with 1 Axes>"
      ]
     },
     "metadata": {},
     "output_type": "display_data"
    }
   ],
   "source": [
    "# И если посмотреть выигрыши на графике в разрезе продавцов, Adina's Beauty Shop я бы также отметил на первом месте, а\n",
    "# Maison Rouge на втором. Такая модель лучше учиться под 1-й ранг.\n",
    "sns.countplot(data=offer_cl, y=\"sellerDisplayName\", hue=\"win\")\n",
    "plt.title(\"Count of sellerDisplayName by win\", size=12)"
   ]
  },
  {
   "cell_type": "code",
   "execution_count": null,
   "metadata": {},
   "outputs": [],
   "source": []
  },
  {
   "cell_type": "markdown",
   "metadata": {},
   "source": [
    "# Базовая модель без настройки по всем рангам на XGBRanker"
   ]
  },
  {
   "cell_type": "code",
   "execution_count": 2312,
   "metadata": {},
   "outputs": [],
   "source": [
    "import xgboost as xgb\n",
    "from sklearn.metrics import ndcg_score\n",
    "\n",
    "model_xgb = xgb.XGBRanker(  \n",
    "    booster='gbtree',\n",
    "    objective='rank:ndcg',\n",
    "    eval_metric='ndcg'\n",
    "    )"
   ]
  },
  {
   "cell_type": "code",
   "execution_count": 2456,
   "metadata": {},
   "outputs": [
    {
     "name": "stdout",
     "output_type": "stream",
     "text": [
      "[0]\tvalidation_0-ndcg:0.97713\n",
      "[10]\tvalidation_0-ndcg:0.97932\n",
      "[20]\tvalidation_0-ndcg:0.98031\n",
      "[30]\tvalidation_0-ndcg:0.98013\n",
      "[40]\tvalidation_0-ndcg:0.98013\n",
      "[50]\tvalidation_0-ndcg:0.98013\n",
      "[60]\tvalidation_0-ndcg:0.98013\n",
      "[70]\tvalidation_0-ndcg:0.98013\n",
      "[80]\tvalidation_0-ndcg:0.98018\n",
      "[90]\tvalidation_0-ndcg:0.98018\n",
      "[99]\tvalidation_0-ndcg:0.98018\n"
     ]
    },
    {
     "data": {
      "text/plain": [
       "XGBRanker(base_score=None, booster='gbtree', callbacks=None,\n",
       "          colsample_bylevel=None, colsample_bynode=None, colsample_bytree=None,\n",
       "          early_stopping_rounds=None, enable_categorical=False,\n",
       "          eval_metric='ndcg', feature_types=None, gamma=None, gpu_id=None,\n",
       "          grow_policy=None, importance_type=None, interaction_constraints=None,\n",
       "          learning_rate=None, max_bin=None, max_cat_threshold=None,\n",
       "          max_cat_to_onehot=None, max_delta_step=None, max_depth=None,\n",
       "          max_leaves=None, min_child_weight=None, missing=nan,\n",
       "          monotone_constraints=None, n_estimators=100, n_jobs=None,\n",
       "          num_parallel_tree=None, objective='rank:ndcg', predictor=None, ...)"
      ]
     },
     "execution_count": 2456,
     "metadata": {},
     "output_type": "execute_result"
    }
   ],
   "source": [
    "model_xgb.fit(\n",
    "    X=X_train,\n",
    "    y=y_train_order,\n",
    "    group=qids_train,\n",
    "    eval_set=[(X_validation, y_validation_order)],\n",
    "    eval_group=[qids_validation],\n",
    "    verbose=10,\n",
    ")"
   ]
  },
  {
   "cell_type": "code",
   "execution_count": 2457,
   "metadata": {},
   "outputs": [
    {
     "data": {
      "text/plain": [
       "0.9686264119352198"
      ]
     },
     "execution_count": 2457,
     "metadata": {},
     "output_type": "execute_result"
    }
   ],
   "source": [
    "ndcg_score([y_validation_order], [model_xgb.predict(X_validation)])"
   ]
  },
  {
   "cell_type": "code",
   "execution_count": 2458,
   "metadata": {},
   "outputs": [
    {
     "data": {
      "image/png": "[encoded data removed]",
      "text/plain": [
       "<Figure size 640x480 with 1 Axes>"
      ]
     },
     "metadata": {},
     "output_type": "display_data"
    }
   ],
   "source": [
    "feature_importance_chart(model_xgb, X_validation)"
   ]
  },
  {
   "cell_type": "code",
   "execution_count": 2459,
   "metadata": {},
   "outputs": [
    {
     "name": "stdout",
     "output_type": "stream",
     "text": [
      "      order  id      rank  rank_number    sellerDisplayName\n",
      "2998      0   1 -3.133526          0.0         Maison Rouge\n",
      "2999      1   1 -2.251055          1.0  Adina's Beauty Shop\n",
      "3000      2   1  0.913055          2.0          Walmart.com\n",
      "3001      3   1  7.004203          3.0            SS-BEAUTY\n",
      "3006      0   3 -3.133526          0.0         Maison Rouge\n",
      "\n",
      "Доля выигранных витрин по предсказанию модели (bbwin=0): 0.8782\n",
      "\n",
      "Прогнозируемый усредненный рейтинг продацов:\n"
     ]
    },
    {
     "data": {
      "text/html": [
       "<div>\n",
       "<style scoped>\n",
       "    .dataframe tbody tr th:only-of-type {\n",
       "        vertical-align: middle;\n",
       "    }\n",
       "\n",
       "    .dataframe tbody tr th {\n",
       "        vertical-align: top;\n",
       "    }\n",
       "\n",
       "    .dataframe thead th {\n",
       "        text-align: right;\n",
       "    }\n",
       "</style>\n",
       "<table border=\"1\" class=\"dataframe\">\n",
       "  <thead>\n",
       "    <tr style=\"text-align: right;\">\n",
       "      <th></th>\n",
       "      <th>sellerDisplayName</th>\n",
       "      <th>rank</th>\n",
       "      <th>rank_seller</th>\n",
       "    </tr>\n",
       "  </thead>\n",
       "  <tbody>\n",
       "    <tr>\n",
       "      <th>3</th>\n",
       "      <td>Maison Rouge</td>\n",
       "      <td>-3.065688</td>\n",
       "      <td>1.0</td>\n",
       "    </tr>\n",
       "    <tr>\n",
       "      <th>1</th>\n",
       "      <td>Exotic Pro</td>\n",
       "      <td>-2.066565</td>\n",
       "      <td>2.0</td>\n",
       "    </tr>\n",
       "    <tr>\n",
       "      <th>0</th>\n",
       "      <td>Adina's Beauty Shop</td>\n",
       "      <td>-0.619139</td>\n",
       "      <td>3.0</td>\n",
       "    </tr>\n",
       "    <tr>\n",
       "      <th>5</th>\n",
       "      <td>Walmart.com</td>\n",
       "      <td>1.029929</td>\n",
       "      <td>4.0</td>\n",
       "    </tr>\n",
       "    <tr>\n",
       "      <th>6</th>\n",
       "      <td>thanks2you</td>\n",
       "      <td>1.438031</td>\n",
       "      <td>5.0</td>\n",
       "    </tr>\n",
       "    <tr>\n",
       "      <th>2</th>\n",
       "      <td>Fit &amp; Fab</td>\n",
       "      <td>3.120667</td>\n",
       "      <td>6.0</td>\n",
       "    </tr>\n",
       "    <tr>\n",
       "      <th>4</th>\n",
       "      <td>SS-BEAUTY</td>\n",
       "      <td>5.912665</td>\n",
       "      <td>7.0</td>\n",
       "    </tr>\n",
       "  </tbody>\n",
       "</table>\n",
       "</div>"
      ],
      "text/plain": [
       "     sellerDisplayName      rank  rank_seller\n",
       "3         Maison Rouge -3.065688          1.0\n",
       "1           Exotic Pro -2.066565          2.0\n",
       "0  Adina's Beauty Shop -0.619139          3.0\n",
       "5          Walmart.com  1.029929          4.0\n",
       "6           thanks2you  1.438031          5.0\n",
       "2            Fit & Fab  3.120667          6.0\n",
       "4            SS-BEAUTY  5.912665          7.0"
      ]
     },
     "execution_count": 2459,
     "metadata": {},
     "output_type": "execute_result"
    }
   ],
   "source": [
    "prediction_rank_table(test_data, model_xgb, X_validation, sellerDisplayName_test, 'order')"
   ]
  },
  {
   "cell_type": "code",
   "execution_count": null,
   "metadata": {},
   "outputs": [],
   "source": []
  },
  {
   "cell_type": "code",
   "execution_count": null,
   "metadata": {},
   "outputs": [],
   "source": [
    "# Настройка модели XGBRanker"
   ]
  },
  {
   "cell_type": "code",
   "execution_count": 2460,
   "metadata": {},
   "outputs": [],
   "source": [
    "# функция для настройки моделей XGBRanker\n",
    "def objective_xgb(trial, df_rank, y_col, N_splits=3, random_state=42):\n",
    "    lgb_params = {\n",
    "        \"n_estimators\": trial.suggest_categorical(\"n_estimators\", [100, 200, 300]),\n",
    "        \"learning_rate\": trial.suggest_float(\"learning_rate\", 0.001, 0.3, log=True),\n",
    "        \"max_depth\": trial.suggest_int(\"max_depth\", 1, 10, step=1),\n",
    "        \"max_leaves\": trial.suggest_int(\"max_leaves\", 1, 10, step=1),\n",
    "        \"reg_alpha\": trial.suggest_loguniform(\"reg_alpha\", 1e-3, 100),\n",
    "        \"reg_lambda\": trial.suggest_loguniform(\"reg_lambda\", 1e-3, 100),  \n",
    "        \"booster\": trial.suggest_categorical(\"booster\", ['gbtree']),\n",
    "        \"objective\": trial.suggest_categorical(\"objective\", ['rank:ndcg']),\n",
    "        \"random_state\": trial.suggest_categorical(\"random_state\", [random_state]),        \n",
    "    }\n",
    "    \n",
    "    n_predicts = np.empty(N_splits)\n",
    "    \n",
    "    # для разделения датасета на трейн и тест по группам\n",
    "    gss = GroupShuffleSplit(n_splits=N_splits, test_size=.3, random_state=random_state)\n",
    "    \n",
    "    for idx, (train_index, test_index) in enumerate(gss.split(df_rank, groups=df_rank['id'])):\n",
    "        \n",
    "        train_data= df_rank.iloc[train_index]\n",
    "        test_data= df_rank.iloc[test_index]\n",
    "        \n",
    "        # трейн размеры групп\n",
    "        qids_train = train_data.groupby(\"id\")[\"id\"].count().to_numpy()\n",
    "        X_train = train_data.drop([\"id\", \"win\",'order', 'sellerDisplayName'], axis=1)\n",
    "        y_train = train_data[y_col]\n",
    "\n",
    "        # тест размеры групп\n",
    "        qids_validation = test_data.groupby(\"id\")[\"id\"].count().to_numpy()\n",
    "        X_validation = test_data.drop([\"id\", \"win\", 'order','sellerDisplayName'], axis=1)\n",
    "        y_validation = test_data[y_col]\n",
    "        \n",
    "        model = xgb.XGBRanker(**lgb_params)\n",
    "        model.fit(X_train,\n",
    "                  y_train,\n",
    "                  group=qids_train,\n",
    "                  eval_set=[(X_validation, y_validation)],\n",
    "                  eval_group=[qids_validation],\n",
    "                  eval_metric=\"ndcg\",\n",
    "                  early_stopping_rounds=100,\n",
    "                  verbose=0)\n",
    "                \n",
    "        preds = model.predict(X_validation)\n",
    "        n_predicts[idx] = ndcg_score([y_validation], [preds])\n",
    "\n",
    "    return np.mean(n_predicts)"
   ]
  },
  {
   "cell_type": "code",
   "execution_count": null,
   "metadata": {},
   "outputs": [],
   "source": []
  },
  {
   "cell_type": "markdown",
   "metadata": {},
   "source": [
    "# Модель 3 по всем рангам XGBRanker настройка"
   ]
  },
  {
   "cell_type": "code",
   "execution_count": 2461,
   "metadata": {},
   "outputs": [
    {
     "data": {
      "application/vnd.jupyter.widget-view+json": {
       "model_id": "27a913fa0ca04b4dbbe367c95f4afe3a",
       "version_major": 2,
       "version_minor": 0
      },
      "text/plain": [
       "  0%|          | 0/30 [00:00<?, ?it/s]"
      ]
     },
     "metadata": {},
     "output_type": "display_data"
    }
   ],
   "source": [
    "study3 = optuna.create_study(direction=\"maximize\", study_name=\"XGBR3\")\n",
    "\n",
    "\n",
    "def func(trial):\n",
    "    return objective_xgb(trial,\n",
    "                         offer_rank,\n",
    "                         y_col=\"order\"\n",
    "                        )\n",
    "\n",
    "optuna.logging.set_verbosity(optuna.logging.WARNING)\n",
    "study3.optimize(func, n_trials=30, show_progress_bar=True)"
   ]
  },
  {
   "cell_type": "code",
   "execution_count": 2462,
   "metadata": {},
   "outputs": [
    {
     "data": {
      "text/plain": [
       "{'n_estimators': 300,\n",
       " 'learning_rate': 0.06594662725422155,\n",
       " 'max_depth': 3,\n",
       " 'max_leaves': 7,\n",
       " 'reg_alpha': 0.025540598843890358,\n",
       " 'reg_lambda': 0.10686508980563751,\n",
       " 'booster': 'gbtree',\n",
       " 'objective': 'rank:ndcg',\n",
       " 'random_state': 42}"
      ]
     },
     "execution_count": 2462,
     "metadata": {},
     "output_type": "execute_result"
    }
   ],
   "source": [
    "study3.best_params"
   ]
  },
  {
   "cell_type": "code",
   "execution_count": 2463,
   "metadata": {},
   "outputs": [
    {
     "name": "stdout",
     "output_type": "stream",
     "text": [
      "[0]\tvalidation_0-ndcg:0.97942\n",
      "[10]\tvalidation_0-ndcg:0.97955\n",
      "[20]\tvalidation_0-ndcg:0.97955\n",
      "[30]\tvalidation_0-ndcg:0.97955\n",
      "[40]\tvalidation_0-ndcg:0.97955\n",
      "[50]\tvalidation_0-ndcg:0.97955\n",
      "[60]\tvalidation_0-ndcg:0.97955\n",
      "[70]\tvalidation_0-ndcg:0.97965\n",
      "[80]\tvalidation_0-ndcg:0.97965\n",
      "[90]\tvalidation_0-ndcg:0.97965\n",
      "[100]\tvalidation_0-ndcg:0.97965\n",
      "[110]\tvalidation_0-ndcg:0.97965\n",
      "[120]\tvalidation_0-ndcg:0.97965\n",
      "[130]\tvalidation_0-ndcg:0.97965\n",
      "[140]\tvalidation_0-ndcg:0.97969\n",
      "[150]\tvalidation_0-ndcg:0.97998\n",
      "[160]\tvalidation_0-ndcg:0.98031\n",
      "[170]\tvalidation_0-ndcg:0.98086\n",
      "[180]\tvalidation_0-ndcg:0.98078\n",
      "[190]\tvalidation_0-ndcg:0.98078\n",
      "[200]\tvalidation_0-ndcg:0.98078\n",
      "[210]\tvalidation_0-ndcg:0.98078\n",
      "[220]\tvalidation_0-ndcg:0.98078\n",
      "[230]\tvalidation_0-ndcg:0.98082\n",
      "[240]\tvalidation_0-ndcg:0.98090\n",
      "[250]\tvalidation_0-ndcg:0.98090\n",
      "[260]\tvalidation_0-ndcg:0.98090\n",
      "[270]\tvalidation_0-ndcg:0.98090\n",
      "[280]\tvalidation_0-ndcg:0.98090\n",
      "[290]\tvalidation_0-ndcg:0.98090\n",
      "[299]\tvalidation_0-ndcg:0.98090\n"
     ]
    },
    {
     "data": {
      "text/plain": [
       "XGBRanker(base_score=None, booster='gbtree', callbacks=None,\n",
       "          colsample_bylevel=None, colsample_bynode=None, colsample_bytree=None,\n",
       "          early_stopping_rounds=None, enable_categorical=False,\n",
       "          eval_metric=None, feature_types=None, gamma=None, gpu_id=None,\n",
       "          grow_policy=None, importance_type=None, interaction_constraints=None,\n",
       "          learning_rate=0.06594662725422155, max_bin=None,\n",
       "          max_cat_threshold=None, max_cat_to_onehot=None, max_delta_step=None,\n",
       "          max_depth=3, max_leaves=7, min_child_weight=None, missing=nan,\n",
       "          monotone_constraints=None, n_estimators=300, n_jobs=None,\n",
       "          num_parallel_tree=None, objective='rank:ndcg', predictor=None, ...)"
      ]
     },
     "execution_count": 2463,
     "metadata": {},
     "output_type": "execute_result"
    }
   ],
   "source": [
    "best_params_ver3 = study3.best_params\n",
    "xgb_optuna3 = xgb.XGBRanker(**best_params_ver3)\n",
    "xgb_optuna3.fit(X_train,\n",
    "                 y_train,\n",
    "                 group=qids_train,\n",
    "                 eval_set=[(X_validation, y_validation)],\n",
    "                 eval_group=[qids_validation],\n",
    "                 eval_metric=\"ndcg\",\n",
    "                 early_stopping_rounds=100,\n",
    "                 verbose=10,)"
   ]
  },
  {
   "cell_type": "code",
   "execution_count": 2464,
   "metadata": {},
   "outputs": [
    {
     "data": {
      "text/plain": [
       "0.9671026939516761"
      ]
     },
     "execution_count": 2464,
     "metadata": {},
     "output_type": "execute_result"
    }
   ],
   "source": [
    "ndcg_score([y_validation_order], [xgb_optuna3.predict(X_validation)])"
   ]
  },
  {
   "cell_type": "code",
   "execution_count": 2465,
   "metadata": {},
   "outputs": [
    {
     "data": {
      "image/png": "[encoded data removed]",
      "text/plain": [
       "<Figure size 640x480 with 1 Axes>"
      ]
     },
     "metadata": {},
     "output_type": "display_data"
    }
   ],
   "source": [
    "feature_importance_chart(xgb_optuna3, X_validation)"
   ]
  },
  {
   "cell_type": "code",
   "execution_count": 2466,
   "metadata": {},
   "outputs": [
    {
     "name": "stdout",
     "output_type": "stream",
     "text": [
      "      order  id      rank  rank_number    sellerDisplayName\n",
      "2998      0   1  0.147574          0.0         Maison Rouge\n",
      "2999      1   1  2.047724          1.0  Adina's Beauty Shop\n",
      "3000      2   1  4.045143          2.0          Walmart.com\n",
      "3001      3   1  6.681121          3.0            SS-BEAUTY\n",
      "3006      0   3  0.147574          0.0         Maison Rouge\n",
      "\n",
      "Доля выигранных витрин по предсказанию модели (bbwin=0): 0.9112\n",
      "\n",
      "Прогнозируемый усредненный рейтинг продацов:\n"
     ]
    },
    {
     "data": {
      "text/html": [
       "<div>\n",
       "<style scoped>\n",
       "    .dataframe tbody tr th:only-of-type {\n",
       "        vertical-align: middle;\n",
       "    }\n",
       "\n",
       "    .dataframe tbody tr th {\n",
       "        vertical-align: top;\n",
       "    }\n",
       "\n",
       "    .dataframe thead th {\n",
       "        text-align: right;\n",
       "    }\n",
       "</style>\n",
       "<table border=\"1\" class=\"dataframe\">\n",
       "  <thead>\n",
       "    <tr style=\"text-align: right;\">\n",
       "      <th></th>\n",
       "      <th>sellerDisplayName</th>\n",
       "      <th>rank</th>\n",
       "      <th>rank_seller</th>\n",
       "    </tr>\n",
       "  </thead>\n",
       "  <tbody>\n",
       "    <tr>\n",
       "      <th>0</th>\n",
       "      <td>Adina's Beauty Shop</td>\n",
       "      <td>-0.405918</td>\n",
       "      <td>1.0</td>\n",
       "    </tr>\n",
       "    <tr>\n",
       "      <th>3</th>\n",
       "      <td>Maison Rouge</td>\n",
       "      <td>-0.075582</td>\n",
       "      <td>2.0</td>\n",
       "    </tr>\n",
       "    <tr>\n",
       "      <th>1</th>\n",
       "      <td>Exotic Pro</td>\n",
       "      <td>0.961885</td>\n",
       "      <td>3.0</td>\n",
       "    </tr>\n",
       "    <tr>\n",
       "      <th>6</th>\n",
       "      <td>thanks2you</td>\n",
       "      <td>1.429865</td>\n",
       "      <td>4.0</td>\n",
       "    </tr>\n",
       "    <tr>\n",
       "      <th>2</th>\n",
       "      <td>Fit &amp; Fab</td>\n",
       "      <td>4.062213</td>\n",
       "      <td>5.0</td>\n",
       "    </tr>\n",
       "    <tr>\n",
       "      <th>4</th>\n",
       "      <td>SS-BEAUTY</td>\n",
       "      <td>5.706632</td>\n",
       "      <td>6.0</td>\n",
       "    </tr>\n",
       "    <tr>\n",
       "      <th>5</th>\n",
       "      <td>Walmart.com</td>\n",
       "      <td>6.198214</td>\n",
       "      <td>7.0</td>\n",
       "    </tr>\n",
       "  </tbody>\n",
       "</table>\n",
       "</div>"
      ],
      "text/plain": [
       "     sellerDisplayName      rank  rank_seller\n",
       "0  Adina's Beauty Shop -0.405918          1.0\n",
       "3         Maison Rouge -0.075582          2.0\n",
       "1           Exotic Pro  0.961885          3.0\n",
       "6           thanks2you  1.429865          4.0\n",
       "2            Fit & Fab  4.062213          5.0\n",
       "4            SS-BEAUTY  5.706632          6.0\n",
       "5          Walmart.com  6.198214          7.0"
      ]
     },
     "execution_count": 2466,
     "metadata": {},
     "output_type": "execute_result"
    }
   ],
   "source": [
    "prediction_rank_table(test_data, xgb_optuna3, X_validation, sellerDisplayName_test, 'order')"
   ]
  },
  {
   "cell_type": "code",
   "execution_count": null,
   "metadata": {},
   "outputs": [],
   "source": [
    "# Тоже хорошая модель, немного уступает модели 2 по доле выигранных витрин - и в целом она работает медленее"
   ]
  },
  {
   "cell_type": "code",
   "execution_count": null,
   "metadata": {},
   "outputs": [],
   "source": []
  },
  {
   "cell_type": "markdown",
   "metadata": {},
   "source": [
    "# Модель 4 XGBRanker по 2 рангам настройка"
   ]
  },
  {
   "cell_type": "code",
   "execution_count": 2553,
   "metadata": {},
   "outputs": [
    {
     "data": {
      "application/vnd.jupyter.widget-view+json": {
       "model_id": "2f60689b5b6343f18553ca19e2d8e5dc",
       "version_major": 2,
       "version_minor": 0
      },
      "text/plain": [
       "  0%|          | 0/30 [00:00<?, ?it/s]"
      ]
     },
     "metadata": {},
     "output_type": "display_data"
    }
   ],
   "source": [
    "study4 = optuna.create_study(direction=\"maximize\", study_name=\"XGB4\")\n",
    "\n",
    "\n",
    "def func(trial):\n",
    "    return objective_xgb(trial,\n",
    "                         offer_rank,\n",
    "                         y_col=\"win\"\n",
    "                        )\n",
    "\n",
    "optuna.logging.set_verbosity(optuna.logging.WARNING)\n",
    "study4.optimize(func, n_trials=30, show_progress_bar=True)"
   ]
  },
  {
   "cell_type": "code",
   "execution_count": 2554,
   "metadata": {},
   "outputs": [
    {
     "data": {
      "text/plain": [
       "{'n_estimators': 100,\n",
       " 'learning_rate': 0.1237200439982312,\n",
       " 'max_depth': 2,\n",
       " 'max_leaves': 9,\n",
       " 'reg_alpha': 0.0015842178476871117,\n",
       " 'reg_lambda': 0.01821679234861521,\n",
       " 'booster': 'gbtree',\n",
       " 'objective': 'rank:ndcg',\n",
       " 'random_state': 42}"
      ]
     },
     "execution_count": 2554,
     "metadata": {},
     "output_type": "execute_result"
    }
   ],
   "source": [
    "study4.best_params"
   ]
  },
  {
   "cell_type": "code",
   "execution_count": 2555,
   "metadata": {},
   "outputs": [
    {
     "name": "stdout",
     "output_type": "stream",
     "text": [
      "[0]\tvalidation_0-ndcg:0.97955\n",
      "[10]\tvalidation_0-ndcg:0.97955\n",
      "[20]\tvalidation_0-ndcg:0.97955\n",
      "[30]\tvalidation_0-ndcg:0.97955\n",
      "[40]\tvalidation_0-ndcg:0.97955\n",
      "[50]\tvalidation_0-ndcg:0.97955\n",
      "[60]\tvalidation_0-ndcg:0.97965\n",
      "[70]\tvalidation_0-ndcg:0.97965\n",
      "[80]\tvalidation_0-ndcg:0.97965\n",
      "[90]\tvalidation_0-ndcg:0.97965\n",
      "[99]\tvalidation_0-ndcg:0.97965\n"
     ]
    },
    {
     "data": {
      "text/plain": [
       "XGBRanker(base_score=None, booster='gbtree', callbacks=None,\n",
       "          colsample_bylevel=None, colsample_bynode=None, colsample_bytree=None,\n",
       "          early_stopping_rounds=None, enable_categorical=False,\n",
       "          eval_metric=None, feature_types=None, gamma=None, gpu_id=None,\n",
       "          grow_policy=None, importance_type=None, interaction_constraints=None,\n",
       "          learning_rate=0.1237200439982312, max_bin=None,\n",
       "          max_cat_threshold=None, max_cat_to_onehot=None, max_delta_step=None,\n",
       "          max_depth=2, max_leaves=9, min_child_weight=None, missing=nan,\n",
       "          monotone_constraints=None, n_estimators=100, n_jobs=None,\n",
       "          num_parallel_tree=None, objective='rank:ndcg', predictor=None, ...)"
      ]
     },
     "execution_count": 2555,
     "metadata": {},
     "output_type": "execute_result"
    }
   ],
   "source": [
    "best_params_ver4 = study4.best_params\n",
    "xgb_optuna4 = xgb.XGBRanker(**best_params_ver4)\n",
    "xgb_optuna4.fit(X_train,\n",
    "                y_train,\n",
    "                group=qids_train,\n",
    "                eval_set=[(X_validation, y_validation)],\n",
    "                eval_group=[qids_validation],\n",
    "                eval_metric=\"ndcg\",\n",
    "                early_stopping_rounds=100,\n",
    "                verbose=10,)"
   ]
  },
  {
   "cell_type": "code",
   "execution_count": 2556,
   "metadata": {},
   "outputs": [
    {
     "data": {
      "text/plain": [
       "0.9958852351702732"
      ]
     },
     "execution_count": 2556,
     "metadata": {},
     "output_type": "execute_result"
    }
   ],
   "source": [
    "ndcg_score([y_validation], [xgb_optuna4.predict(X_validation)])"
   ]
  },
  {
   "cell_type": "code",
   "execution_count": 2557,
   "metadata": {},
   "outputs": [
    {
     "data": {
      "image/png": "[encoded data removed]",
      "text/plain": [
       "<Figure size 640x480 with 1 Axes>"
      ]
     },
     "metadata": {},
     "output_type": "display_data"
    }
   ],
   "source": [
    "feature_importance_chart(xgb_optuna4, X_validation)"
   ]
  },
  {
   "cell_type": "code",
   "execution_count": 2558,
   "metadata": {},
   "outputs": [
    {
     "name": "stdout",
     "output_type": "stream",
     "text": [
      "      win  id      rank  rank_number    sellerDisplayName\n",
      "2998    0   1 -0.555109          0.0         Maison Rouge\n",
      "2999    1   1  0.410053          1.0  Adina's Beauty Shop\n",
      "3000    1   1  3.321635          2.0          Walmart.com\n",
      "3001    1   1  3.938806          3.0            SS-BEAUTY\n",
      "3006    0   3 -0.555109          0.0         Maison Rouge\n",
      "\n",
      "Доля выигранных витрин по предсказанию модели (bbwin=0): 0.8858\n",
      "\n",
      "Прогнозируемый усредненный рейтинг продацов:\n"
     ]
    },
    {
     "data": {
      "text/html": [
       "<div>\n",
       "<style scoped>\n",
       "    .dataframe tbody tr th:only-of-type {\n",
       "        vertical-align: middle;\n",
       "    }\n",
       "\n",
       "    .dataframe tbody tr th {\n",
       "        vertical-align: top;\n",
       "    }\n",
       "\n",
       "    .dataframe thead th {\n",
       "        text-align: right;\n",
       "    }\n",
       "</style>\n",
       "<table border=\"1\" class=\"dataframe\">\n",
       "  <thead>\n",
       "    <tr style=\"text-align: right;\">\n",
       "      <th></th>\n",
       "      <th>sellerDisplayName</th>\n",
       "      <th>rank</th>\n",
       "      <th>rank_seller</th>\n",
       "    </tr>\n",
       "  </thead>\n",
       "  <tbody>\n",
       "    <tr>\n",
       "      <th>0</th>\n",
       "      <td>Adina's Beauty Shop</td>\n",
       "      <td>-0.375836</td>\n",
       "      <td>1.0</td>\n",
       "    </tr>\n",
       "    <tr>\n",
       "      <th>3</th>\n",
       "      <td>Maison Rouge</td>\n",
       "      <td>-0.282840</td>\n",
       "      <td>2.0</td>\n",
       "    </tr>\n",
       "    <tr>\n",
       "      <th>1</th>\n",
       "      <td>Exotic Pro</td>\n",
       "      <td>0.211142</td>\n",
       "      <td>3.0</td>\n",
       "    </tr>\n",
       "    <tr>\n",
       "      <th>2</th>\n",
       "      <td>Fit &amp; Fab</td>\n",
       "      <td>1.157141</td>\n",
       "      <td>4.0</td>\n",
       "    </tr>\n",
       "    <tr>\n",
       "      <th>6</th>\n",
       "      <td>thanks2you</td>\n",
       "      <td>1.323632</td>\n",
       "      <td>5.0</td>\n",
       "    </tr>\n",
       "    <tr>\n",
       "      <th>4</th>\n",
       "      <td>SS-BEAUTY</td>\n",
       "      <td>3.334800</td>\n",
       "      <td>6.0</td>\n",
       "    </tr>\n",
       "    <tr>\n",
       "      <th>5</th>\n",
       "      <td>Walmart.com</td>\n",
       "      <td>4.085577</td>\n",
       "      <td>7.0</td>\n",
       "    </tr>\n",
       "  </tbody>\n",
       "</table>\n",
       "</div>"
      ],
      "text/plain": [
       "     sellerDisplayName      rank  rank_seller\n",
       "0  Adina's Beauty Shop -0.375836          1.0\n",
       "3         Maison Rouge -0.282840          2.0\n",
       "1           Exotic Pro  0.211142          3.0\n",
       "2            Fit & Fab  1.157141          4.0\n",
       "6           thanks2you  1.323632          5.0\n",
       "4            SS-BEAUTY  3.334800          6.0\n",
       "5          Walmart.com  4.085577          7.0"
      ]
     },
     "execution_count": 2558,
     "metadata": {},
     "output_type": "execute_result"
    }
   ],
   "source": [
    "prediction_rank_table(test_data, xgb_optuna4, X_validation, sellerDisplayName_test, 'win')"
   ]
  },
  {
   "cell_type": "code",
   "execution_count": null,
   "metadata": {},
   "outputs": [],
   "source": [
    "# Данная модель настроилась по метрике качества ndcg немного хуже модели №2. Но доля выигранных витрин по предсказанию\n",
    "# модели здесь ниже."
   ]
  }
 ],
 "metadata": {
  "accelerator": "GPU",
  "colab": {
   "provenance": []
  },
  "gpuClass": "standard",
  "kernelspec": {
   "display_name": "Python 3 (ipykernel)",
   "language": "python",
   "name": "python3"
  },
  "language_info": {
   "codemirror_mode": {
    "name": "ipython",
    "version": 3
   },
   "file_extension": ".py",
   "mimetype": "text/x-python",
   "name": "python",
   "nbconvert_exporter": "python",
   "pygments_lexer": "ipython3",
   "version": "3.9.13"
  }
 },
 "nbformat": 4,
 "nbformat_minor": 1
}
